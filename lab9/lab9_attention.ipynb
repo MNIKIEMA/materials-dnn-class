{
 "cells": [
  {
   "cell_type": "markdown",
   "metadata": {},
   "source": [
    "# Recurrent networks with Attention\n",
    "\n",
    "In labs 7 and 8, we have implemented a seq2seq model based on the encoder-decoder structure, which operates as follows:\n",
    "\n",
    "- The input sentence (source) is passed as input to the encoder, which compresses the information it contains into a *context vector*, which is the final output of the encoder.\n",
    "- This context vector is then passed to the decoder, which sequentially decodes and updates it (through its hidden states) and produces the translated output sentence (target).\n",
    "\n",
    "However, this might be limitting for the decoding part: indeed, at a given step of the decoding process, it might be preferrable to have access to *all* the hidden states from the encoder rather than a single hidden state. This would allow to know which parts of the input sentence are the most relevent to generate the current word in the output sentence.\n",
    "\n",
    "This can be implemented using a mechanism called **attention**, which is the topic of this lab.\n",
    "\n",
    "Note: As in the previous labs, we'll talk about context and attention *vectors*. In practice, these are not vectors but tensors, since we operate on batches of data. Nevertheless we'll talk about *vectors* since it is consistent with the underlying theory.\n",
    "\n",
    "<center><a href=\"https://medium.com/swlh/a-simple-overview-of-rnn-lstm-and-attention-mechanism-9e844763d07b\">\n",
    "    <img src=\"https://miro.medium.com/max/2000/1*FP3zFjdFhNUWEJ9hxeIYOA.png\" width=\"800\"></a></center>\n"
   ]
  },
  {
   "cell_type": "code",
   "execution_count": 1,
   "metadata": {},
   "outputs": [],
   "source": [
    "import torch\n",
    "import torch.nn as nn\n",
    "import torch.optim as optim\n",
    "import numpy as np\n",
    "import random\n",
    "import math\n",
    "import time\n",
    "from matplotlib import pyplot as plt\n",
    "import matplotlib.ticker as ticker\n",
    "import spacy\n",
    "from torchtext.datasets import Multi30k\n",
    "from torchtext.data import Field, BucketIterator\n",
    "import copy"
   ]
  },
  {
   "cell_type": "markdown",
   "metadata": {},
   "source": [
    "## Pre-processing\n",
    "\n",
    "The pre-processing is the same as in lab 7 and 8, so we provide it."
   ]
  },
  {
   "cell_type": "code",
   "execution_count": 2,
   "metadata": {},
   "outputs": [],
   "source": [
    "# German and English specific pipelines\n",
    "spacy_de = spacy.load('de_core_news_sm')\n",
    "spacy_en = spacy.load('en_core_web_sm')\n",
    "\n",
    "# Tokenizers\n",
    "def tokenize_de(text):\n",
    "    return [tok.text for tok in spacy_de.tokenizer(text)]\n",
    "\n",
    "def tokenize_en(text):\n",
    "    return [tok.text for tok in spacy_en.tokenizer(text)]\n",
    "\n",
    "# Fields\n",
    "SRC = Field(tokenize=tokenize_de, init_token='<sos>', eos_token='<eos>', lower=True)\n",
    "TRG = Field(tokenize=tokenize_en, init_token='<sos>', eos_token='<eos>', lower=True)\n",
    "\n",
    "# Dataset\n",
    "train_data, valid_data, test_data = Multi30k.splits(root='data/', exts = ('.de', '.en'), fields = (SRC, TRG))\n",
    "\n",
    "# Take a subset of the dataset (for speed)\n",
    "train_data.examples = train_data.examples[:1000]\n",
    "valid_data.examples = valid_data.examples[:100]\n",
    "test_data.examples = train_data.examples[:100]\n",
    "\n",
    "# Vocabulary\n",
    "SRC.build_vocab(train_data, min_freq=2)\n",
    "TRG.build_vocab(train_data, min_freq=2)\n",
    "\n",
    "# Dataloader (here we keep the validation dataloader)\n",
    "batch_size = 128\n",
    "train_dataloader, valid_dataloader, test_dataloader = BucketIterator.splits(\n",
    "    (train_data, valid_data, test_data), batch_size = batch_size)"
   ]
  },
  {
   "cell_type": "code",
   "execution_count": 3,
   "metadata": {},
   "outputs": [],
   "source": [
    "# Index to string functions\n",
    "def indx2tokens_list(list_indx, field):\n",
    "    list_tokens = [field.vocab.itos[list_indx[i]] for i in range(len(list_indx))]\n",
    "    beg_i = list_tokens.index('<sos>')\n",
    "    if '<eos>' in list_tokens:\n",
    "        end_i = list_tokens.index('<eos>')\n",
    "    else:\n",
    "        end_i = -1\n",
    "    list_tokens = list_tokens[beg_i+1:end_i]\n",
    "    return list_tokens"
   ]
  },
  {
   "cell_type": "code",
   "execution_count": 5,
   "metadata": {},
   "outputs": [
    {
     "name": "stdout",
     "output_type": "stream",
     "text": [
      "torch.Size([33, 128])\n"
     ]
    }
   ],
   "source": [
    "# Fetch one example\n",
    "example_batch = next(iter(train_dataloader))\n",
    "print(example_batch.src.shape)"
   ]
  },
  {
   "cell_type": "code",
   "execution_count": 6,
   "metadata": {},
   "outputs": [],
   "source": [
    "# Define all the parameters of the network (small model for speed)\n",
    "input_size = len(SRC.vocab)\n",
    "output_size = len(TRG.vocab)\n",
    "emb_size_enc = 32\n",
    "emb_size_dec = 32\n",
    "hidden_size = 50\n",
    "n_layers = 1\n",
    "dropout_rate = 0.5"
   ]
  },
  {
   "cell_type": "markdown",
   "metadata": {},
   "source": [
    "## GRU encoder\n",
    "\n",
    "We use a similar encoder to the previous lab. The main difference is that it needs to output the whole sequence of hidden states (not only the final hidden state / context vector) because we will use it in the attention module."
   ]
  },
  {
   "cell_type": "code",
   "execution_count": 13,
   "metadata": {},
   "outputs": [],
   "source": [
    "class Encoder(nn.Module):\n",
    "    def __init__(self, input_size, emb_size_enc, hidden_size, n_layers, dropout_rate):\n",
    "        super().__init__()\n",
    "        \n",
    "        # TO DO:\n",
    "        # - store the input parameters as class attributes\n",
    "        # - create the embedding, dropout, and GRU layers (the GRU layer does not use recurrent dropout)\n",
    "        self.input_size = input_size\n",
    "        self.emb_size_enc = emb_size_enc\n",
    "        self.hidden_size = hidden_size\n",
    "        self.n_layers = n_layers\n",
    "        self.dropout_rate = dropout_rate\n",
    "        self.embedding_layer = nn.Embedding(input_size, emb_size_enc)\n",
    "        self.dropout = nn.Dropout(dropout_rate)\n",
    "        self.lstm = nn.GRU(emb_size_enc, hidden_size, n_layers)\n",
    "\n",
    "        \n",
    "    def forward(self, src):\n",
    "        \n",
    "        # TO DO:\n",
    "        # - write the forward pass\n",
    "        # - return both outputs of the GRU (call them 'enc_outputs' and 'enc_context')\n",
    "        y = self.embedding_layer(src)\n",
    "        y = self.dropout(y)\n",
    "        enc_outputs, enc_context, = self.lstm(y)\n",
    "\n",
    "        return enc_outputs, enc_context"
   ]
  },
  {
   "cell_type": "code",
   "execution_count": 11,
   "metadata": {},
   "outputs": [
    {
     "name": "stdout",
     "output_type": "stream",
     "text": [
      "Number of parameters: 38264\n"
     ]
    }
   ],
   "source": [
    "# TO DO: Instanciate the encoder and print the number of parameters\n",
    "\n",
    "# TO DO: Apply the encoder to the example batch and print the shapes of the outputs\n",
    "encoder_lstm = Encoder(input_size, emb_size_enc, hidden_size, n_layers, dropout_rate)\n",
    "enc_outputs, enc_context = encoder_lstm(example_batch.src)\n",
    "print('Number of parameters:', sum(p.numel() for p in encoder_lstm.parameters()))"
   ]
  },
  {
   "cell_type": "markdown",
   "metadata": {},
   "source": [
    "## The attention mechanism\n",
    "\n",
    "We now implement the attention mechanism. Intuitively, the idea behind attention is to say which word of the source sentence is the most important to generate the current word at decoding.\n",
    "\n",
    "Mathematically, let's note $t'$ the current decoding step, $s_{t'-1}$ the previous hidden state of the decoder, and $H = \\{h_1, h_2,...,h_T \\}$  the set of all encoder outputs at the last layer. The attention vector $a_{t'}$ will therefore be calculated from $s_{t'-1}$ and $H$ through a set of operation with learnable parameters.\n",
    "\n",
    "### An example\n",
    "\n",
    "For the very first target token, the previous hidden state is given by $s_0$ = $z$ (= the context vector). The attention mechanism is illustrated below in this case, and we will consider it as example.\n",
    "\n",
    "<center><a href=\"https://github.com/bentrevett/pytorch-seq2seq/blob/master/3%20-%20Neural%20Machine%20Translation%20by%20Jointly%20Learning%20to%20Align%20and%20Translate.ipynb\">\n",
    "    <img src=\"https://github.com/bentrevett/pytorch-seq2seq/raw/49df8404d938a6edbf729876405558cc2c2b3013//assets/seq2seq9.png\" width=\"500\"></a></center>\n"
   ]
  },
  {
   "cell_type": "code",
   "execution_count": 16,
   "metadata": {},
   "outputs": [],
   "source": [
    "src_len = enc_outputs.shape[0]"
   ]
  },
  {
   "cell_type": "code",
   "execution_count": 15,
   "metadata": {},
   "outputs": [
    {
     "data": {
      "text/plain": [
       "torch.Size([1, 128, 50])"
      ]
     },
     "execution_count": 15,
     "metadata": {},
     "output_type": "execute_result"
    }
   ],
   "source": [
    "# Take the context vector of the encoder and treat it as the first hidden state to the decoder\n",
    "dec_hidden = enc_context\n",
    "dec_hidden.shape"
   ]
  },
  {
   "cell_type": "markdown",
   "metadata": {},
   "source": [
    "The first step is to assemble / combine the current hidden state of the decoder $s_{t'-1}$ (here, it's simply the context vector) and the encoder outputs into a single tensor. There are many ways to do so (addition, multiplication...), here we simply concatenate them.\n",
    "\n",
    "**Note**: this is easy to implement when the recurrent part uses 1 layer; otherwise the computation would be more involved as we'd need to consider the extra dimension corresponding to the number of layers. We leave that to further exploration.\n",
    "\n",
    "Currently (on this example):\n",
    "- `enc_outputs` has a size of `[src_len, batch_size, hidden_size]`\n",
    "- `dec_hidden` has a size of `[1, batch_size, hidden_size]`\n",
    "\n",
    "We want to concatenate them along the last dimension, so first we need to repeat `dec_hidden` along the first dimension `src_len` times. Then, we can perform the concatenation. Finally, we permute the combined tensor so it has a size of `[batch_size, src_len, 2 * hidden_size]`."
   ]
  },
  {
   "cell_type": "code",
   "execution_count": 17,
   "metadata": {},
   "outputs": [
    {
     "data": {
      "text/plain": [
       "torch.Size([128, 33, 100])"
      ]
     },
     "execution_count": 17,
     "metadata": {},
     "output_type": "execute_result"
    }
   ],
   "source": [
    "# TO DO: compute this concatenation:\n",
    "# - repeat it using the 'repeat' function (check the doc!)\n",
    "# - concatenate the features using the 'cat' function\n",
    "# - permute the dimensions so the resulting combined input has shape [batch_size, src_len, 2*hidden_size]\n",
    "dec_hidden = dec_hidden.repeat(enc_outputs.shape[0],1,1)\n",
    "concat_vec = torch.cat([dec_hidden, enc_outputs],dim=2).permute(1, 0, 2)\n",
    "concat_vec.shape"
   ]
  },
  {
   "cell_type": "markdown",
   "metadata": {},
   "source": [
    "We then write a network to compute attention from this combined tensor: $a = f(c)$. This network depends on two parameters values, which are:\n",
    " - `input_size_att`, which is the length of the input combined tensor, thus it's equal to `2 * hidden_size`.\n",
    " - `hidden_size_att`, which corresponds to the intermediate length used in computing the attention vector.\n",
    "\n",
    "The architecture of the network is as follows:\n",
    "\n",
    "- a linear layer that goes from size `input_size_att` to `hidden_size_att`\n",
    "- a tanh activation\n",
    "- a second linear layer, that goes from size `hidden_size_att` to `1`, and does not use bias\n",
    "- a softmax layer that acts along `dim=1`, to ensure that the attention vector sums to 1 for every sentence in the batch"
   ]
  },
  {
   "cell_type": "code",
   "execution_count": 39,
   "metadata": {},
   "outputs": [
    {
     "data": {
      "text/plain": [
       "torch.Size([128, 33])"
      ]
     },
     "execution_count": 39,
     "metadata": {},
     "output_type": "execute_result"
    }
   ],
   "source": [
    "# TO DO:\n",
    "# - define the attention network parameters ('input_size_att', and 'hidden_size_att'=50)\n",
    "# - write the attention module\n",
    "# - apply it to the combined input tensor 'comb_inputs'\n",
    "# - squeeze the output and print its shape\n",
    "input_size_att = 2*hidden_size\n",
    "hidden_size_att = 50\n",
    "attent_net = nn.Sequential(nn.Linear(input_size_att, hidden_size_att),\n",
    "                            nn.Tanh(), nn.Linear(hidden_size_att, 1), nn.Softmax(dim=1))\n",
    "attention_output = attent_net(concat_vec)\n",
    "attention_output.squeeze().shape"
   ]
  },
  {
   "cell_type": "markdown",
   "metadata": {},
   "source": [
    "### The attention module\n",
    "\n",
    "Now, we can use what we did above on the example to write the full attention module in the general case."
   ]
  },
  {
   "cell_type": "code",
   "execution_count": 40,
   "metadata": {},
   "outputs": [],
   "source": [
    "class Attention(nn.Module):\n",
    "    def __init__(self, input_size_att, hidden_size_att):\n",
    "        super().__init__()\n",
    "        \n",
    "        # TO DO: store the input parameters as attributes and define the network\n",
    "        self.input_size_att = input_size_att\n",
    "        self.hidden_size_att = hidden_size_att\n",
    "        self.attention = nn.Sequential(nn.Linear(input_size_att, hidden_size_att),\n",
    "                            nn.Tanh(), nn.Linear(hidden_size_att, 1), nn.Softmax(dim=1))\n",
    "        \n",
    "    def forward(self, dec_hidden, enc_outputs):\n",
    "        \n",
    "        # TO DO: write the forward method to compute the attention vector\n",
    "        src_len = enc_outputs.shape[0]\n",
    "        dec_hidden = dec_hidden.repeat(src_len, 1, 1)\n",
    "        #print(enc_outputs.shape)\n",
    "        #print(dec_hidden.shape)\n",
    "        concat_vec = torch.cat([dec_hidden, enc_outputs], dim=2).permute(1, 0, 2)\n",
    "        attn = attent_net(concat_vec)\n",
    "        attn = attn.squeeze()\n",
    "        return attn"
   ]
  },
  {
   "cell_type": "code",
   "execution_count": 41,
   "metadata": {},
   "outputs": [],
   "source": [
    "# TO DO:\n",
    "# - Instanciate an attention module\n",
    "# - Apply it using dec_hidden and enc_outputs\n",
    "# - Print the size of the output attention vector 'a'\n",
    "attention = Attention(input_size_att, hidden_size_att)\n",
    "a = attention(enc_context, enc_outputs)"
   ]
  },
  {
   "cell_type": "code",
   "execution_count": 42,
   "metadata": {},
   "outputs": [
    {
     "data": {
      "text/plain": [
       "torch.Size([128, 33])"
      ]
     },
     "execution_count": 42,
     "metadata": {},
     "output_type": "execute_result"
    }
   ],
   "source": [
    "a.shape"
   ]
  },
  {
   "cell_type": "markdown",
   "metadata": {},
   "source": [
    "<span style=\"color:red\">**Q1**</span> Put the size of `a` in your report.\n",
    "\n",
    "## Decoder with attention\n",
    "\n",
    "At the decoding step, we can now use the attention vector by applying it to the encoder outputs. This results in the *weighted* vector which is the average of encoder outputs scaled by attention:\n",
    "\n",
    "$$\n",
    "w = \\sum_t a_t \\times h_t\n",
    "$$"
   ]
  },
  {
   "cell_type": "code",
   "execution_count": null,
   "metadata": {},
   "outputs": [],
   "source": []
  },
  {
   "cell_type": "code",
   "execution_count": 52,
   "metadata": {},
   "outputs": [
    {
     "data": {
      "text/plain": [
       "torch.Size([1, 128, 50])"
      ]
     },
     "execution_count": 52,
     "metadata": {},
     "output_type": "execute_result"
    }
   ],
   "source": [
    "# TO DO: Compute the weighted vector.\n",
    "# - you need to expand/unsqueeze the attention vector 'a' so it has size [batch_size, 1, src_len]\n",
    "# - you also need to permute the enc_outputs vector so it has size [batch_size, src_len, hidden_size]\n",
    "# - perform multiplication using 'torch.bmm' (no need to use a for loop)\n",
    "# - permute the result so the weighted vector has size [1, batch_size, hidden_dim_dec]\n",
    "w = torch.bmm(a.unsqueeze(1), enc_outputs.permute(1, 0,2)).permute((1,0,2))\n",
    "w.shape"
   ]
  },
  {
   "cell_type": "markdown",
   "metadata": {},
   "source": [
    "Finally, we need to take this weighted vector into account when using the RNN (which here is a GRU). We remind that without attention, the recurrent computation is simply $s_{t'} = \\text{GRU}(y_{t'}, s_{t'-1})$ where $y_{t'}$ is the embedding after dropout. When using attention, the formula becomes:\n",
    "\n",
    "$$\n",
    "s_{t'} = \\text{GRU}([y_{t'}, w], s_{t'-1})\n",
    "$$\n",
    "\n",
    "This means the input of the GRU in the decoder is obtained by concatenating the weighted vector with the embedding after dropout $y_{t'}$.\n",
    "\n",
    "**Note**: using this concatenation changes the size of the GRU input: the input size should no longer be `emb_size_dec` but `emb_size_dec + hidden_size`."
   ]
  },
  {
   "cell_type": "code",
   "execution_count": 71,
   "metadata": {},
   "outputs": [],
   "source": [
    "class Decoder(nn.Module):\n",
    "    def __init__(self, output_size, emb_size_dec, hidden_size, hidden_size_att, n_layers, dropout_rate):\n",
    "        super().__init__()\n",
    "        \n",
    "        # Store input parameters as class attributes\n",
    "        self.output_size = output_size\n",
    "        self.emb_size_dec = emb_size_dec\n",
    "        self.hidden_size = hidden_size\n",
    "        self.hidden_size_att = hidden_size_att\n",
    "        self.n_layers = n_layers\n",
    "        self.dropout_rate = dropout_rate\n",
    "        self.dropout_layer = nn.Dropout(dropout_rate)\n",
    "        self.embedding_layer = nn.Embedding(output_size, emb_size_dec)\n",
    "        # TO DO: Create the decoder layers and the attention module\n",
    "        self.gru = nn.GRU(emb_size_dec + hidden_size, hidden_size, n_layers)\n",
    "        self.attention = Attention(2*hidden_size, hidden_size_att)\n",
    "        self.fc_out = nn.Linear(hidden_size, output_size)\n",
    "\n",
    "    def forward(self, input_idx, input_hidden, enc_outputs):\n",
    "        \n",
    "        # Get the embeddings for the input token (same as in the previous lab)\n",
    "        y = self.dropout_layer(self.embedding_layer(input_idx))\n",
    "        y = y.unsqueeze(0)\n",
    "        \n",
    "        # TO DO:\n",
    "        # - compute the attention vector\n",
    "        # - compute the weighted vector\n",
    "        # - concatenate the embedding (after dropout) and the weighted vector\n",
    "        # - apply the GRU layer\n",
    "        # - squeeze the output of the GRU and pass it to the linear layer to have the predicted probabilites\n",
    "        # - return the predicted probabilites, the hidden state of the GRU, and the attention vector 'a'\n",
    "        a = attention(input_hidden, enc_outputs)\n",
    "        #print(a.shape)\n",
    "        w = torch.bmm(a.unsqueeze(1), enc_outputs.permute(1, 0, 2)).permute(1, 0, 2)\n",
    "        #print(w.shape)\n",
    "        concat_vec = torch.cat([y, w], dim=2)\n",
    "\n",
    "        #print(concat_vec.shape)\n",
    "        y, hidden_state = self.gru(concat_vec)\n",
    "        y = y.squeeze()\n",
    "        y = self.fc_out(y)\n",
    "        \n",
    "        return y, hidden_state, a"
   ]
  },
  {
   "cell_type": "code",
   "execution_count": 72,
   "metadata": {},
   "outputs": [
    {
     "name": "stdout",
     "output_type": "stream",
     "text": [
      "Number of parameters in the decoder: 93510\n",
      "torch.Size([1, 128, 50])\n",
      "torch.Size([1, 128, 50])\n",
      "torch.Size([128, 33])\n"
     ]
    }
   ],
   "source": [
    "# Instanciate the decoder, print the number of parameters\n",
    "decoder = Decoder(output_size, emb_size_dec, hidden_size, hidden_size_att, n_layers, dropout_rate)\n",
    "print('Number of parameters in the decoder:', sum(p.numel() for p in decoder.parameters()))\n",
    "\n",
    "# Initialize an input index tensor (corresponds to <sos>)\n",
    "current_batch_size = a.shape[0]\n",
    "input_idx = torch.ones(current_batch_size).int() * 2\n",
    "\n",
    "# Apply the decoder, print the shape of the outputs\n",
    "pred_proba, hidden, a = decoder(input_idx, enc_context, enc_outputs)\n",
    "\n",
    "print(enc_context.shape)\n",
    "print(hidden.shape)\n",
    "print(a.shape)"
   ]
  },
  {
   "cell_type": "markdown",
   "metadata": {},
   "source": [
    "<span style=\"color:red\">**Q2**</span> How many parameters are in the decoder?\n",
    "\n",
    "## Full model\n",
    "\n",
    "The full model is the same as in the previous lab. The only difference comes from the fact that we store the attention vector at every step."
   ]
  },
  {
   "cell_type": "code",
   "execution_count": 97,
   "metadata": {},
   "outputs": [],
   "source": [
    "# TO DO: write the Seq2Seq model\n",
    "class Seq2Seq(nn.Module):\n",
    "    def __init__(self, encoder, decoder):\n",
    "        super().__init__()\n",
    "        \n",
    "        # Store the encoder, decoder, and the target vocabulary size\n",
    "        self.encoder = encoder\n",
    "        self.decoder = decoder\n",
    "        self.trg_vocab_size = decoder.output_size\n",
    "        \n",
    "    def forward(self, src, trg_len):\n",
    "        \n",
    "        # Create a tensor to store the predicted probabilities from the decoder\n",
    "        batch_size = src.shape[-1]\n",
    "        pred_probas_all = torch.zeros(trg_len, batch_size, self.trg_vocab_size)\n",
    "        \n",
    "        # Assign a probability of 1 to the token corresponding to <sos> for the first element\n",
    "        pred_probas_all[0, :, 2] = 1\n",
    "        \n",
    "        # Initialize the first input to the decoder as the <sos> token (coded by '2' in our vocabulary)\n",
    "        input_idx = torch.ones(batch_size).int() * 2\n",
    "        \n",
    "        # TO DO: apply the encoder to the src sentence and get the last hidden and cell states (=context vectors)\n",
    "        # (these will be used as initial hidden/cell for the decoder)\n",
    "        enc_outputs, enc_context = self.encoder(src)\n",
    "        # loop over tokens (note that it starts from 1 -not 0- since the very first token is already known (=<sos>))\n",
    "        for t in range(1, trg_len):\n",
    "\n",
    "            # TO DO:\n",
    "            # - apply the decoder to get the predicted probabilites of the token t (and the updated hidden/cell)\n",
    "            # - store these predicted probabilities in the 'pred_probas_all' tensor\n",
    "            # - get the index corresponding to the highest probability for this token: it will be used as the next input index\n",
    "            output, hidden, a = self.decoder(input_idx, enc_context, enc_outputs)\n",
    "            input_idx = output.argmax(1)\n",
    "            pred_probas_all[t,:,:] = output\n",
    "        return pred_probas_all, a"
   ]
  },
  {
   "cell_type": "code",
   "execution_count": 98,
   "metadata": {},
   "outputs": [
    {
     "name": "stdout",
     "output_type": "stream",
     "text": [
      "torch.Size([28, 128, 823])\n",
      "torch.Size([128, 33])\n"
     ]
    }
   ],
   "source": [
    "# Set a random seed for reproducibility\n",
    "SEED = 1234\n",
    "random.seed(SEED)\n",
    "np.random.seed(SEED)\n",
    "torch.manual_seed(SEED)\n",
    "\n",
    "# Instanciate the full model, apply it to the example_batch, and print the output shapes\n",
    "encoder = Encoder(input_size, emb_size_enc, hidden_size, n_layers, dropout_rate)\n",
    "decoder = Decoder(output_size, emb_size_dec, hidden_size, hidden_size_att, n_layers, dropout_rate)\n",
    "model = Seq2Seq(encoder, decoder)\n",
    "trg_len = example_batch.trg.shape[0]\n",
    "pred_probas_all, attention_all = model(example_batch.src, trg_len)\n",
    "print(pred_probas_all.shape)\n",
    "print(attention_all.shape)"
   ]
  },
  {
   "cell_type": "code",
   "execution_count": null,
   "metadata": {},
   "outputs": [],
   "source": []
  },
  {
   "cell_type": "markdown",
   "metadata": {},
   "source": [
    "## Training (with validation) and evaluation\n",
    "\n",
    "We provide below the evaluation and training functions, since they're the same as in the previous lab (except we have to handle the fact that the model returns two outputs: `pred_probas_all` and `attention_all`)."
   ]
  },
  {
   "cell_type": "code",
   "execution_count": 99,
   "metadata": {},
   "outputs": [],
   "source": [
    "def evaluate_seq2seq(model, eval_dataloader, loss_fn, SEED=1234):\n",
    "\n",
    "    # Set a random seed for reproducibility\n",
    "    random.seed(SEED)\n",
    "    np.random.seed(SEED)\n",
    "    torch.manual_seed(SEED)\n",
    "    \n",
    "    # Set the model in 'eval' mode (disable dropout layer)\n",
    "    model.eval()\n",
    "\n",
    "    # Initialize the eval loss\n",
    "    loss_eval = 0\n",
    "\n",
    "    # loop over batches\n",
    "    for i, batch in enumerate(eval_dataloader):\n",
    "\n",
    "        # Get the source and target sentence, and the target length, copy it to device\n",
    "        src, trg = batch.src, batch.trg\n",
    "        trg_len = trg.shape[0]\n",
    "\n",
    "        # Apply the model\n",
    "        pred_probas, _ = model(src, trg_len)\n",
    "\n",
    "        # Remove the first token (always <sos>) to compute the loss\n",
    "        output_size = pred_probas.shape[-1]\n",
    "        pred_probas = pred_probas[1:]\n",
    "\n",
    "        # Reshape the pred_probas and target so that they have appropriate sizes\n",
    "        pred_probas = pred_probas.view(-1, output_size)\n",
    "        trg = trg[1:].view(-1)\n",
    "\n",
    "        # Compute the loss\n",
    "        loss = loss_fn(pred_probas, trg)\n",
    "\n",
    "        # Record the loss\n",
    "        loss_eval += loss.item()\n",
    "\n",
    "    return loss_eval"
   ]
  },
  {
   "cell_type": "code",
   "execution_count": 100,
   "metadata": {},
   "outputs": [],
   "source": [
    "def training_val_seq2seq(model, train_dataloader, valid_dataloader, num_epochs, loss_fn, learning_rate, verbose=True, SEED=1234):\n",
    "\n",
    "    # Set a random seed for reproducibility\n",
    "    random.seed(SEED)\n",
    "    np.random.seed(SEED)\n",
    "    torch.manual_seed(SEED)\n",
    "    \n",
    "    # Make a copy of the model (avoid changing the model outside this function)\n",
    "    model_tr = copy.deepcopy(model)\n",
    "    \n",
    "    # Set the model in 'training' mode (ensures all parameters' gradients are computed)\n",
    "    model_tr.train()\n",
    "\n",
    "    # define the optimizer (Adam)\n",
    "    optimizer = torch.optim.Adam(model_tr.parameters(), lr=learning_rate)\n",
    "    \n",
    "    # Initialize lists for storing the train and val losses\n",
    "    loss_train_total = []\n",
    "    loss_val_total = []\n",
    "    \n",
    "    loss_val_optim = float('inf')\n",
    "\n",
    "    for epoch in range(num_epochs):\n",
    "\n",
    "        loss_current_epoch = 0\n",
    "\n",
    "        for i, batch in enumerate(train_dataloader):\n",
    "\n",
    "            # Get the source and target sentence, and the target length, copy it to device\n",
    "            src, trg = batch.src, batch.trg\n",
    "            trg_len = trg.shape[0]\n",
    "\n",
    "            # Set the gradients at 0\n",
    "            optimizer.zero_grad()\n",
    "\n",
    "            # Apply the model\n",
    "            pred_probas, _ = model_tr(src, trg_len)\n",
    "\n",
    "            # Remove the first token (always <sos>) to compute the loss\n",
    "            output_dim = pred_probas.shape[-1]\n",
    "            pred_probas = pred_probas[1:]\n",
    "\n",
    "            # Reshape the pred_probas and target\n",
    "            pred_probas = pred_probas.view(-1, output_dim)\n",
    "            trg = trg[1:].view(-1)\n",
    "\n",
    "            # Backpropagation\n",
    "            loss = loss_fn(pred_probas, trg)\n",
    "            loss.backward()\n",
    "            torch.nn.utils.clip_grad_norm_(model_tr.parameters(), 1.0)\n",
    "            optimizer.step()\n",
    "\n",
    "            # Record the loss\n",
    "            loss_current_epoch += loss.item()\n",
    "\n",
    "        # At the end of each epoch, compute the validation loss\n",
    "        loss_val = evaluate_seq2seq(model_tr, valid_dataloader, loss_fn)\n",
    "        \n",
    "        # Record the training and validation losss over epochs\n",
    "        loss_train_total.append(loss_current_epoch)\n",
    "        loss_val_total.append(loss_val)\n",
    "        \n",
    "        # Display the training and validation losses\n",
    "        if verbose:\n",
    "            print('Epoch [{}/{}], Training loss: {:.4f} ; Validation loss: {:.4f}'\n",
    "                   .format(epoch+1, num_epochs, loss_current_epoch, loss_val))\n",
    "            \n",
    "        # Save the current model as optimal only if validation loss decreases\n",
    "        if loss_val<loss_val_optim:\n",
    "            model_opt = copy.deepcopy(model_tr)\n",
    "            loss_val_optim = loss_val\n",
    "                \n",
    "    return model_opt, loss_train_total, loss_val_total"
   ]
  },
  {
   "cell_type": "code",
   "execution_count": 101,
   "metadata": {},
   "outputs": [
    {
     "name": "stdout",
     "output_type": "stream",
     "text": [
      "Epoch [1/30], Training loss: 53.5103 ; Validation loss: 6.6140\n",
      "Epoch [2/30], Training loss: 52.5802 ; Validation loss: 6.4413\n",
      "Epoch [3/30], Training loss: 50.7900 ; Validation loss: 6.0674\n",
      "Epoch [4/30], Training loss: 47.4231 ; Validation loss: 5.5361\n",
      "Epoch [5/30], Training loss: 43.4079 ; Validation loss: 5.0169\n",
      "Epoch [6/30], Training loss: 40.9285 ; Validation loss: 4.7114\n",
      "Epoch [7/30], Training loss: 38.6270 ; Validation loss: 4.5800\n",
      "Epoch [8/30], Training loss: 37.9342 ; Validation loss: 4.5011\n",
      "Epoch [9/30], Training loss: 37.6485 ; Validation loss: 4.4607\n",
      "Epoch [10/30], Training loss: 37.5373 ; Validation loss: 4.4410\n",
      "Epoch [11/30], Training loss: 37.4515 ; Validation loss: 4.4330\n",
      "Epoch [12/30], Training loss: 37.3679 ; Validation loss: 4.4296\n",
      "Epoch [13/30], Training loss: 37.2961 ; Validation loss: 4.4261\n",
      "Epoch [14/30], Training loss: 37.2637 ; Validation loss: 4.4226\n",
      "Epoch [15/30], Training loss: 37.2271 ; Validation loss: 4.4175\n",
      "Epoch [16/30], Training loss: 37.1891 ; Validation loss: 4.4139\n",
      "Epoch [17/30], Training loss: 37.1630 ; Validation loss: 4.4112\n",
      "Epoch [18/30], Training loss: 37.1481 ; Validation loss: 4.4102\n",
      "Epoch [19/30], Training loss: 37.1073 ; Validation loss: 4.4083\n",
      "Epoch [20/30], Training loss: 37.0911 ; Validation loss: 4.4062\n",
      "Epoch [21/30], Training loss: 37.0903 ; Validation loss: 4.4051\n",
      "Epoch [22/30], Training loss: 37.0880 ; Validation loss: 4.4031\n",
      "Epoch [23/30], Training loss: 37.0619 ; Validation loss: 4.4023\n",
      "Epoch [24/30], Training loss: 37.0447 ; Validation loss: 4.4021\n",
      "Epoch [25/30], Training loss: 37.0107 ; Validation loss: 4.4016\n",
      "Epoch [26/30], Training loss: 37.0399 ; Validation loss: 4.3994\n",
      "Epoch [27/30], Training loss: 37.0208 ; Validation loss: 4.3992\n",
      "Epoch [28/30], Training loss: 37.0026 ; Validation loss: 4.3995\n",
      "Epoch [29/30], Training loss: 37.0128 ; Validation loss: 4.3978\n",
      "Epoch [30/30], Training loss: 37.0233 ; Validation loss: 4.3981\n"
     ]
    }
   ],
   "source": [
    "# Training parameters\n",
    "num_epochs = 30\n",
    "learning_rate = 0.001\n",
    "TRG_PAD_IDX = TRG.vocab.stoi[TRG.pad_token]\n",
    "loss_fn = nn.CrossEntropyLoss(ignore_index = TRG_PAD_IDX)\n",
    "\n",
    "# Train the model\n",
    "model_opt, loss_train, loss_val = training_val_seq2seq(model, train_dataloader, valid_dataloader, num_epochs, loss_fn, learning_rate)\n",
    "torch.save(model_opt.state_dict(), 'model_attention.pt')"
   ]
  },
  {
   "cell_type": "code",
   "execution_count": 102,
   "metadata": {},
   "outputs": [
    {
     "data": {
      "image/png": "[encoded data removed]",
      "text/plain": [
       "<Figure size 800x400 with 2 Axes>"
      ]
     },
     "metadata": {},
     "output_type": "display_data"
    }
   ],
   "source": [
    "# Plot the training/validation loss\n",
    "plt.figure(figsize=(8,4))\n",
    "plt.subplot(1, 2, 1)\n",
    "plt.plot(torch.arange(num_epochs)+1, loss_train)\n",
    "plt.xlabel('Epochs')\n",
    "plt.title('Training')\n",
    "plt.subplot(1, 2, 2)\n",
    "plt.plot(torch.arange(num_epochs)+1, loss_val)\n",
    "plt.xlabel('Epochs')\n",
    "plt.title('Validation')\n",
    "plt.tight_layout()\n",
    "plt.show()"
   ]
  },
  {
   "cell_type": "code",
   "execution_count": 103,
   "metadata": {},
   "outputs": [
    {
     "name": "stdout",
     "output_type": "stream",
     "text": [
      "Test loss:  6.700839996337891\n"
     ]
    }
   ],
   "source": [
    "# Evaluate the model on the test set\n",
    "loss_test = evaluate_seq2seq(model, test_dataloader, loss_fn)\n",
    "print('Test loss: ', loss_test)"
   ]
  },
  {
   "cell_type": "markdown",
   "metadata": {},
   "source": [
    "<span style=\"color:red\">**Q3**</span> Put the training/validation loss plot in your report.\n",
    "\n",
    "## Perspectives\n",
    "\n",
    "Let's quickly check the results in terms of machine translation."
   ]
  },
  {
   "cell_type": "code",
   "execution_count": 104,
   "metadata": {},
   "outputs": [
    {
     "name": "stdout",
     "output_type": "stream",
     "text": [
      "Source sentence: ['eine', 'menschenmenge', 'steht', 'auf', 'einem', '<unk>', ',', 'während', 'ein', 'mann', 'fotografiert', '.']\n",
      "Translation - true: ['a', 'crowd', 'of', 'people', 'are', 'standing', 'together', 'on', 'a', 'sidewalk', ',', 'while', 'one', 'man', 'is', 'taking', 'a', 'picture', '.']\n",
      "Translation - predicted: ['each', 'joy', 'joy', 'joy', 'joy', 'joy', 'joy', 'joy', 'joy', 'joy', 'joy', 'joy', 'joy', 'joy', 'joy', 'joy', 'joy', 'joy', 'joy', 'joy', 'joy', 'joy', 'joy', 'joy', 'joy', 'joy']\n"
     ]
    }
   ],
   "source": [
    "# Get some examples (source and target) in the test set\n",
    "example_batch_src, example_batch_trg = example_batch.src, example_batch.trg\n",
    "\n",
    "# Compute predictions with the model\n",
    "example_batch_trg_pred, _ = model(example_batch_src, len(example_batch_trg))\n",
    "indx_pred = torch.argmax(example_batch_trg_pred, -1)\n",
    "\n",
    "# Compute the source, target, and predicted sentence\n",
    "indx_sentence_print = 1\n",
    "sentence_src = indx2tokens_list(example_batch_src[:, indx_sentence_print], SRC)\n",
    "sentence_trg = indx2tokens_list(example_batch_trg[:, indx_sentence_print], TRG)\n",
    "sentence_pred = indx2tokens_list(indx_pred[:, indx_sentence_print], TRG)\n",
    "\n",
    "# Print these sentences\n",
    "print('Source sentence:', sentence_src)\n",
    "print('Translation - true:', sentence_trg)\n",
    "print('Translation - predicted:', sentence_pred)"
   ]
  },
  {
   "cell_type": "markdown",
   "metadata": {},
   "source": [
    "As you can see on the example above, the results are not satisfactory. This might be explained by a variety of factors: we only consider a subset of the data; we used a very light network; we didn't conduct training through convergence; we learned token embeddings on-the-fly using one basic layer, etc. However, even if we address these issues specifically, performance will still be limited since we used a rather basic network structure and training protocol.\n",
    "\n",
    "There are many other strategies to improve performance for such a task (but also for other text processing / NLP tasks based on RNNs - or not):\n",
    "\n",
    "- using *bi-directionnal* recurrent networks to better account for the whole context of the sentence.\n",
    "- *skip-filtering*, which means feeding each RNN cell with the whole context vector instead of just the previous hidden state (done [here](https://github.com/bentrevett/pytorch-seq2seq/blob/master/2%20-%20Learning%20Phrase%20Representations%20using%20RNN%20Encoder-Decoder%20for%20Statistical%20Machine%20Translation.ipynb)).\n",
    "- *teacher forcing* in the decoder at training, which means using the ground truth token as input to each decoder cell instead of the predicted token from the previous cell (done [here](https://github.com/bentrevett/pytorch-seq2seq/blob/master/1%20-%20Sequence%20to%20Sequence%20Learning%20with%20Neural%20Networks.ipynb)).\n",
    "- *packed padded sentences* with masking, which allows to skip the `<pad>` token in the encoder and save time (done [here](https://github.com/bentrevett/pytorch-seq2seq/blob/master/4%20-%20Packed%20Padded%20Sequences%2C%20Masking%2C%20Inference%20and%20BLEU.ipynb)).\n",
    "- *self-attention*, a key component in [transformers](https://arxiv.org/pdf/1706.03762.pdf), which are state-of-the-art architectures for machine translation (see a simplified version implemented [here](https://github.com/bentrevett/pytorch-seq2seq/blob/master/6%20-%20Attention%20is%20All%20You%20Need.ipynb)).\n",
    "\n",
    "And many more - research is ongoing!"
   ]
  },
  {
   "cell_type": "code",
   "execution_count": null,
   "metadata": {},
   "outputs": [],
   "source": []
  }
 ],
 "metadata": {
  "kernelspec": {
   "display_name": "dl-env",
   "language": "python",
   "name": "python3"
  },
  "language_info": {
   "codemirror_mode": {
    "name": "ipython",
    "version": 3
   },
   "file_extension": ".py",
   "mimetype": "text/x-python",
   "name": "python",
   "nbconvert_exporter": "python",
   "pygments_lexer": "ipython3",
   "version": "3.10.0"
  },
  "vscode": {
   "interpreter": {
    "hash": "4e4653ef3f08bbcc46c48a23d8290ce23ff8798f7d85b3da9ffbf3074ca96bd8"
   }
  }
 },
 "nbformat": 4,
 "nbformat_minor": 2
}
