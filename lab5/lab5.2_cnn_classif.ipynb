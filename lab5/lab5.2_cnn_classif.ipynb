{
 "cells": [
  {
   "cell_type": "markdown",
   "metadata": {},
   "source": [
    "# Image classification with convolutional neural networks\n",
    "\n",
    "In this script we create, train and evaluate an image classifier based on convolutional neural networks (CNNs)."
   ]
  },
  {
   "cell_type": "code",
   "execution_count": 1,
   "metadata": {},
   "outputs": [],
   "source": [
    "import torch\n",
    "import torch.nn as nn\n",
    "from torchvision import transforms, datasets\n",
    "from torch.utils.data import DataLoader, Subset\n",
    "import numpy as np\n",
    "import matplotlib.pyplot as plt\n",
    "import copy\n",
    "\n",
    "# Define the data repository\n",
    "data_dir = 'data/'"
   ]
  },
  {
   "cell_type": "code",
   "execution_count": 2,
   "metadata": {},
   "outputs": [],
   "source": [
    "# Initialization function\n",
    "def init_weights(m):\n",
    "    if isinstance(m, nn.Linear) or isinstance(m, nn.Conv2d):\n",
    "        torch.nn.init.xavier_uniform_(m.weight.data)\n",
    "        m.bias.data.fill_(0.01)\n",
    "    return"
   ]
  },
  {
   "cell_type": "markdown",
   "metadata": {},
   "source": [
    "## Dataset\n",
    "\n",
    "In this lab we work with the [Fashion MNIST](https://github.com/zalandoresearch/fashion-mnist) dataset: it's similar to MNIST, but these are images of clothes from Zalando instead of digits.\n",
    "\n",
    "<center><a href=\"https://medium.com/ml2vec/intro-to-pytorch-with-image-classification-on-a-fashion-clothes-dataset-e589682df0c5\">\n",
    "    <img src=\"https://miro.medium.com/max/1400/1*jXssb_WjoYZgepOCfdQfJA.png\" width=\"400\"></a></center>\n",
    "\n",
    "Like MNIST, each image comes with a label between 0 and 9 (10 classes). The mapping between integer labels and actual classes (0 = t-shirt, 1 = trousers, etc.) can be found [here](https://github.com/zalandoresearch/fashion-mnist#labels)."
   ]
  },
  {
   "cell_type": "code",
   "execution_count": 3,
   "metadata": {},
   "outputs": [],
   "source": [
    "# Just like MNIST, you can download the data by setting'download=True' directly from pytorch\n",
    "train_data = datasets.FashionMNIST(data_dir, train=True, download=True, transform=transforms.ToTensor())\n",
    "test_data = datasets.FashionMNIST(data_dir, train=False, download=True, transform=transforms.ToTensor())\n",
    "num_classes = len(train_data.classes)\n",
    "\n",
    "# Take a subset of the train/test data\n",
    "train_data = Subset(train_data, torch.arange(400))\n",
    "test_data = Subset(test_data, torch.arange(50))\n",
    "\n",
    "# Create dataloaders\n",
    "batch_size = 8\n",
    "train_dataloader = DataLoader(train_data, shuffle=True, batch_size=batch_size)\n",
    "test_dataloader = DataLoader(test_data, batch_size=batch_size)"
   ]
  },
  {
   "cell_type": "code",
   "execution_count": 4,
   "metadata": {},
   "outputs": [
    {
     "data": {
      "image/png": "[encoded data removed]",
      "text/plain": [
       "<Figure size 1000x600 with 8 Axes>"
      ]
     },
     "metadata": {},
     "output_type": "display_data"
    }
   ],
   "source": [
    "# Get a batch of images from the train dataloader and print it\n",
    "image_batch_example, labels_batch_example = next(iter(train_dataloader))\n",
    "\n",
    "plt.figure(figsize = (10,6))\n",
    "for ib in range(batch_size):\n",
    "    plt.subplot(batch_size // 4, 4, ib+1)\n",
    "    plt.imshow(image_batch_example[ib, :].squeeze().detach(), cmap='gray_r')\n",
    "    plt.xticks([]), plt.yticks([])\n",
    "    plt.title('Image label = ' + str(labels_batch_example[ib].item()))\n",
    "plt.show()"
   ]
  },
  {
   "cell_type": "markdown",
   "metadata": {},
   "source": [
    "## CNN classifier\n",
    "\n",
    "A CNN classifier usually consists of:\n",
    "- one or several convolutional layers/modules, which produce intermediate latent representations called ***feature maps***\n",
    "- one or several linear layers, which perform classification from the feature maps\n",
    "\n",
    "<center><a href=\"https://towardsdatascience.com/simple-introduction-to-convolutional-neural-networks-cdf8d3077bac\">\n",
    "    <img src=\"https://miro.medium.com/max/700/1*LTRcAyl6zuuJvpU-5KECZA.png\"></a></center>\n",
    "\n",
    "### Example"
   ]
  },
  {
   "cell_type": "code",
   "execution_count": 5,
   "metadata": {},
   "outputs": [
    {
     "name": "stdout",
     "output_type": "stream",
     "text": [
      "torch.Size([8, 16, 14, 14])\n"
     ]
    }
   ],
   "source": [
    "# Let us create a first CNN layer, with:\n",
    "# - a convolution function, with 16 output channels, kernel_size=5, padding=2, and bias\n",
    "# - a non-linear activation function (ReLU)\n",
    "# - a max pooling function\n",
    "\n",
    "cnn_layer1 = nn.Sequential(nn.Conv2d(1, 16, kernel_size=5, padding=2),\n",
    "                           nn.ReLU(),\n",
    "                           nn.MaxPool2d(kernel_size=2))\n",
    "out1 = cnn_layer1(image_batch_example)\n",
    "print(out1.shape)"
   ]
  },
  {
   "cell_type": "code",
   "execution_count": 7,
   "metadata": {},
   "outputs": [
    {
     "name": "stdout",
     "output_type": "stream",
     "text": [
      "torch.Size([8, 32, 7, 7])\n"
     ]
    }
   ],
   "source": [
    "# TO DO: create the second CNN layer, with the same structure as the first one\n",
    "# (same non-linear activation and max pooling functions), but the convolution function\n",
    "# now has 16 input channels and 32 output channels (and same kernel_size/padding/)\n",
    "# After creating it, apply it to 'out1' to compute out2, and print the shape of out2.\n",
    "cnn_layer2 = nn.Sequential(nn.Conv2d(16, 32, kernel_size=5, padding=2),\n",
    "                           nn.ReLU(),\n",
    "                           nn.MaxPool2d(kernel_size=2))\n",
    "out2 = cnn_layer2(out1)\n",
    "print(out2.shape)"
   ]
  },
  {
   "cell_type": "code",
   "execution_count": 10,
   "metadata": {},
   "outputs": [
    {
     "name": "stdout",
     "output_type": "stream",
     "text": [
      "torch.Size([8, 1568])\n",
      "torch.Size([8, 10])\n"
     ]
    }
   ],
   "source": [
    "# Now, we define a linear layer to perform classification (as in Lab 3)\n",
    "\n",
    "# First, we need to flatten out2, since linear layers in pytorch process vectors (or more precisely batches of vectors)\n",
    "# The resulting vector should have a shape = (batch_size, 32 x 7 x 7)\n",
    "out_vec = out2.reshape(out2.shape[0], -1)\n",
    "print(out_vec.shape)\n",
    "\n",
    "# TO DO: define a Linear layer with appropriate shape (size of the vectorized input, 10 output classes)\n",
    "# Apply this layer to the vectorized image\n",
    "fc = nn.Linear(1568,10)\n",
    "out3 = fc(out2.view(out2.shape[0], -1))\n",
    "print(out3.shape)"
   ]
  },
  {
   "cell_type": "markdown",
   "metadata": {},
   "source": [
    "### General module\n",
    "\n",
    "Now, let's create a general CNN classification network, train and test it."
   ]
  },
  {
   "cell_type": "code",
   "execution_count": 45,
   "metadata": {},
   "outputs": [],
   "source": [
    "# TO DO: Define the CNN classifier module ('__init__' and 'forward' methods).\n",
    "# It's architecture is the same as in the example above.\n",
    "\n",
    "class CNNClassif(nn.Module):\n",
    "    def __init__(self, num_channels1=16, num_channels2=32, num_classes=10):\n",
    "        super(CNNClassif, self).__init__()\n",
    "        self.conv_block1 = nn.Sequential(nn.Conv2d(1, num_channels1, kernel_size=5, padding=2),\n",
    "                           nn.ReLU(),\n",
    "                           nn.MaxPool2d(kernel_size=2))\n",
    "        \n",
    "        self.conv_block2 = nn.Sequential(nn.Conv2d(num_channels1, num_channels2, kernel_size=5, padding=2),\n",
    "                           nn.ReLU(),\n",
    "                           nn.MaxPool2d(kernel_size=2))\n",
    "        self.fc = nn.Linear(1568, num_classes)\n",
    "    def forward(self, x):\n",
    "        x = self.conv_block1(x)\n",
    "        x = self.conv_block2(x)\n",
    "        out = self.fc(x.reshape(x.shape[0], -1))\n",
    "        #print(out.shape)\n",
    "        return out "
   ]
  },
  {
   "cell_type": "code",
   "execution_count": 56,
   "metadata": {},
   "outputs": [
    {
     "name": "stdout",
     "output_type": "stream",
     "text": [
      "Total number of parameters:  28938\n"
     ]
    },
    {
     "data": {
      "text/plain": [
       "CNNClassif(\n",
       "  (conv_block1): Sequential(\n",
       "    (0): Conv2d(1, 16, kernel_size=(5, 5), stride=(1, 1), padding=(2, 2))\n",
       "    (1): ReLU()\n",
       "    (2): MaxPool2d(kernel_size=2, stride=2, padding=0, dilation=1, ceil_mode=False)\n",
       "  )\n",
       "  (conv_block2): Sequential(\n",
       "    (0): Conv2d(16, 32, kernel_size=(5, 5), stride=(1, 1), padding=(2, 2))\n",
       "    (1): ReLU()\n",
       "    (2): MaxPool2d(kernel_size=2, stride=2, padding=0, dilation=1, ceil_mode=False)\n",
       "  )\n",
       "  (fc): Linear(in_features=1568, out_features=10, bias=True)\n",
       ")"
      ]
     },
     "execution_count": 56,
     "metadata": {},
     "output_type": "execute_result"
    }
   ],
   "source": [
    "# Instantiate the model\n",
    "num_channels1 = 16\n",
    "num_channels2 = 32\n",
    "num_classes = 10\n",
    "model = CNNClassif(num_channels1, num_channels2, num_classes)\n",
    "\n",
    "# Print the total number of parameters in the model\n",
    "print('Total number of parameters: ', sum(p.numel() for p in model.parameters()))\n",
    "\n",
    "# initialization (ensure reproducibility: everybody should have the same results)\n",
    "torch.manual_seed(0)\n",
    "model.apply(init_weights)"
   ]
  },
  {
   "cell_type": "markdown",
   "metadata": {},
   "source": [
    "## Training and evaluation"
   ]
  },
  {
   "cell_type": "code",
   "execution_count": 57,
   "metadata": {},
   "outputs": [],
   "source": [
    "# TO DO: write the training function (no validation).\n",
    "# It's almost the same as in lab3, except we don't need to vectorize the images:\n",
    "# (indeed, MLPs take a vector as input, while CNNs directly process the image).\n",
    "def training_cnn_classifier(model, train_dataloader, num_epochs, loss_fn, learning_rate, verbose=True):\n",
    "\n",
    "    # Make a copy of the model (avoid changing the model outside this function)\n",
    "    model_tr = copy.deepcopy(model)\n",
    "    \n",
    "    # Set the model in 'training' mode (ensures all parameters' gradients are computed - it's like setting 'requires_grad=True' for all parameters)\n",
    "    model_tr.train()\n",
    "    \n",
    "    # Define the optimizer\n",
    "    optimizer = torch.optim.SGD(model_tr.parameters(), lr=learning_rate)\n",
    "    \n",
    "    # Initialize a list to record the training loss over epochs\n",
    "    loss_all_epochs = []\n",
    "    \n",
    "    # Training loop\n",
    "    for epoch in range(num_epochs):\n",
    "        # Initialize the training loss for the current epoch\n",
    "        loss_current_epoch = 0\n",
    "        \n",
    "        # Iterate over batches using the dataloader\n",
    "        for batch_index, (images, labels) in enumerate(train_dataloader):\n",
    "            \n",
    "            # TO DO: write the training procedure for each batch. This should consist of:\n",
    "            # - vectorizing the images (size should be (batch_size, input_size))\n",
    "            # - apply the forward pass (calculate the predicted labels from the vectorized images)\n",
    "            # - use the 'backward' method to compute the gradients\n",
    "            # - apply the gradient descent algorithm\n",
    "            # Also think of updating the loss at the current epoch\n",
    "            y_pred = model_tr(images)\n",
    "            l = loss_fn(y_pred, labels)\n",
    "            optimizer.zero_grad()\n",
    "            l.backward()\n",
    "            loss_current_epoch += l.item()\n",
    "            optimizer.step() #update parameters\n",
    "\n",
    "        # At the end of each epoch, record and display the loss over all batches\n",
    "        loss_all_epochs.append(loss_current_epoch)\n",
    "        if verbose:\n",
    "            print('Epoch [{}/{}], Loss: {:.4f}'.format(epoch+1, num_epochs, loss_current_epoch))\n",
    "        \n",
    "    return model_tr, loss_all_epochs"
   ]
  },
  {
   "cell_type": "code",
   "execution_count": 58,
   "metadata": {},
   "outputs": [
    {
     "name": "stdout",
     "output_type": "stream",
     "text": [
      "Epoch [1/20], Loss: 110.9706\n",
      "Epoch [2/20], Loss: 91.6030\n",
      "Epoch [3/20], Loss: 71.7295\n",
      "Epoch [4/20], Loss: 62.3299\n",
      "Epoch [5/20], Loss: 55.8445\n",
      "Epoch [6/20], Loss: 50.2099\n",
      "Epoch [7/20], Loss: 46.6967\n",
      "Epoch [8/20], Loss: 44.7229\n",
      "Epoch [9/20], Loss: 41.4609\n",
      "Epoch [10/20], Loss: 38.9632\n",
      "Epoch [11/20], Loss: 36.9951\n",
      "Epoch [12/20], Loss: 35.2485\n",
      "Epoch [13/20], Loss: 33.5020\n",
      "Epoch [14/20], Loss: 31.5776\n",
      "Epoch [15/20], Loss: 32.4419\n",
      "Epoch [16/20], Loss: 31.1982\n",
      "Epoch [17/20], Loss: 29.0591\n",
      "Epoch [18/20], Loss: 28.5592\n",
      "Epoch [19/20], Loss: 29.1934\n",
      "Epoch [20/20], Loss: 26.6694\n"
     ]
    },
    {
     "data": {
      "image/png": "[encoded data removed]",
      "text/plain": [
       "<Figure size 640x480 with 1 Axes>"
      ]
     },
     "metadata": {},
     "output_type": "display_data"
    }
   ],
   "source": [
    "# Optimizer\n",
    "num_epochs = 20\n",
    "loss_fn = nn.CrossEntropyLoss()\n",
    "learning_rate = 0.01\n",
    "\n",
    "# Training\n",
    "model, loss_total = training_cnn_classifier(model, train_dataloader, num_epochs, loss_fn, learning_rate, verbose=True)\n",
    "\n",
    "# Save the model and display the loss over epochs\n",
    "torch.save(model.state_dict(), 'model_cnn_classif.pt')\n",
    "plt.plot(loss_total)\n",
    "plt.show()"
   ]
  },
  {
   "cell_type": "code",
   "execution_count": 50,
   "metadata": {},
   "outputs": [],
   "source": [
    "# Eval function\n",
    "\n",
    "def eval_cnn_classifier(model, eval_dataloader):\n",
    "\n",
    "    # Set the model in evaluation mode\n",
    "    model.eval() \n",
    "\n",
    "    # In test phase, we don't need to compute gradients (for memory efficiency)\n",
    "    with torch.no_grad():\n",
    "        # initialize the total and correct number of labels to compute the accuracy\n",
    "        correct = 0\n",
    "        total = 0\n",
    "        for images, labels in eval_dataloader:\n",
    "            # print(images.shape)\n",
    "            y_predicted = model(images)\n",
    "            _, label_predicted = torch.max(y_predicted.data, 1)\n",
    "            total += labels.size(0)\n",
    "            correct += (label_predicted == labels).sum().item()\n",
    "    \n",
    "    accuracy = 100 * correct / total\n",
    "    \n",
    "    return accuracy"
   ]
  },
  {
   "cell_type": "code",
   "execution_count": 51,
   "metadata": {},
   "outputs": [
    {
     "data": {
      "text/plain": [
       "68.0"
      ]
     },
     "execution_count": 51,
     "metadata": {},
     "output_type": "execute_result"
    }
   ],
   "source": [
    "# TO DO: Evaluate the model on the test set (instantiate the model, load the trained parameters and use the\n",
    "# evaluation function). Display the accuracy on the test set.\n",
    "acc1 = eval_cnn_classifier(model, test_dataloader)\n",
    "acc1"
   ]
  },
  {
   "cell_type": "markdown",
   "metadata": {},
   "source": [
    "<span style=\"color:red\">**Q3**</span> What is the test accuracy?\n",
    "\n",
    "## Batch normalization\n",
    "\n",
    "When passing images to a CNN, each image might have different distribution / statistics. This causes the gradient at each batch to change a lot, and this makes the stochastic gradient descent algorithm quite unstable.\n",
    "\n",
    "To prevent from this problem, we use **batch normalization**, which basically normalizes each batch of data to a given mean / standard deviation. This makes training more stable, and usually significantly faster.\n",
    "\n",
    "Batch norm is easy to write in Pytorch (see the [doc](https://pytorch.org/docs/stable/generated/torch.nn.BatchNorm2d.html?highlight=batchnorm#torch.nn.BatchNorm2d)).\n",
    "\n",
    "**Note**: batch normalization should be only used for training, but should be disabled when testing the model. That's why we set `model.eval()` in the evaluation function."
   ]
  },
  {
   "cell_type": "code",
   "execution_count": 54,
   "metadata": {},
   "outputs": [],
   "source": [
    "# TO DO : rewrite the CNNClassif module, but insert BatchNorm2D in each CNN layer, between RELU and Maxpooling.\n",
    "\n",
    "class CNNClassif_bnorm(nn.Module):\n",
    "    def __init__(self, num_channels1=16, num_channels2=32, num_classes=10):\n",
    "        super(CNNClassif_bnorm, self).__init__()\n",
    "        self.conv_block1 = nn.Sequential(nn.Conv2d(1, num_channels1, kernel_size=5, padding=2),\n",
    "                           nn.ReLU(),\n",
    "                           nn.BatchNorm2d(num_channels1, affine=False),\n",
    "                           nn.MaxPool2d(kernel_size=2))\n",
    "        \n",
    "        self.conv_block2 = nn.Sequential(nn.Conv2d(num_channels1, num_channels2, kernel_size=5, padding=2),\n",
    "                           nn.ReLU(),\n",
    "                           nn.BatchNorm2d(num_channels2,affine=False),\n",
    "                           nn.MaxPool2d(kernel_size=2))\n",
    "        self.fc = nn.Linear(1568, num_classes)\n",
    "\n",
    "    def forward(self, x):\n",
    "        x = self.conv_block1(x)\n",
    "        x = self.conv_block2(x)\n",
    "        out = self.fc(x.reshape(x.shape[0], -1))\n",
    "        return out"
   ]
  },
  {
   "cell_type": "code",
   "execution_count": 55,
   "metadata": {},
   "outputs": [
    {
     "name": "stdout",
     "output_type": "stream",
     "text": [
      "Epoch [1/20], Loss: 115.1074\n",
      "Epoch [2/20], Loss: 48.5088\n",
      "Epoch [3/20], Loss: 30.8023\n",
      "Epoch [4/20], Loss: 16.4470\n",
      "Epoch [5/20], Loss: 10.2784\n",
      "Epoch [6/20], Loss: 7.0882\n",
      "Epoch [7/20], Loss: 6.8662\n",
      "Epoch [8/20], Loss: 2.0225\n",
      "Epoch [9/20], Loss: 1.2314\n",
      "Epoch [10/20], Loss: 0.9523\n",
      "Epoch [11/20], Loss: 0.6998\n",
      "Epoch [12/20], Loss: 0.6455\n",
      "Epoch [13/20], Loss: 0.5630\n",
      "Epoch [14/20], Loss: 0.4653\n",
      "Epoch [15/20], Loss: 0.4325\n",
      "Epoch [16/20], Loss: 0.3959\n",
      "Epoch [17/20], Loss: 0.3741\n",
      "Epoch [18/20], Loss: 0.3375\n",
      "Epoch [19/20], Loss: 0.3238\n",
      "Epoch [20/20], Loss: 0.2841\n"
     ]
    },
    {
     "data": {
      "image/png": "[encoded data removed]",
      "text/plain": [
       "<Figure size 640x480 with 1 Axes>"
      ]
     },
     "metadata": {},
     "output_type": "display_data"
    },
    {
     "name": "stdout",
     "output_type": "stream",
     "text": [
      "Accuracy of the network on the test images:  72.0 %\n"
     ]
    }
   ],
   "source": [
    "# TO DO:\n",
    "# - instantiate the model and initialize it for reproducibility\n",
    "# - train it, save the parameters, and plot the training loss\n",
    "# - evaluate it and print the test accuracy\n",
    "\n",
    "model_bn = CNNClassif_bnorm(num_channels1, num_channels2, num_classes)\n",
    "torch.manual_seed(0)\n",
    "model_bn.apply(init_weights)\n",
    "\n",
    "model_bn, loss_total = training_cnn_classifier(model_bn, train_dataloader, num_epochs, loss_fn, learning_rate, verbose=True)\n",
    "torch.save(model_bn.state_dict(), 'model_cnn_classif_bn.pt')\n",
    "plt.plot(loss_total)\n",
    "plt.show()\n",
    "\n",
    "accuracy_bn = eval_cnn_classifier(model_bn, test_dataloader)\n",
    "print('Accuracy of the network on the test images: ', accuracy_bn, '%')"
   ]
  },
  {
   "cell_type": "markdown",
   "metadata": {},
   "source": [
    "<span style=\"color:red\">**Q4**</span> What is the test accuracy? Is it better than without batch norm?"
   ]
  },
  {
   "cell_type": "code",
   "execution_count": null,
   "metadata": {},
   "outputs": [],
   "source": []
  }
 ],
 "metadata": {
  "kernelspec": {
   "display_name": "Python 3.10.0 ('dl-env')",
   "language": "python",
   "name": "python3"
  },
  "language_info": {
   "codemirror_mode": {
    "name": "ipython",
    "version": 3
   },
   "file_extension": ".py",
   "mimetype": "text/x-python",
   "name": "python",
   "nbconvert_exporter": "python",
   "pygments_lexer": "ipython3",
   "version": "3.10.0"
  },
  "vscode": {
   "interpreter": {
    "hash": "4e4653ef3f08bbcc46c48a23d8290ce23ff8798f7d85b3da9ffbf3074ca96bd8"
   }
  }
 },
 "nbformat": 4,
 "nbformat_minor": 4
}
