{
 "cells": [
  {
   "cell_type": "markdown",
   "id": "08e340d1",
   "metadata": {},
   "source": [
    "# MLP vs CNN (bonus)\n",
    "\n",
    "In lab 3 we have defined an MLP classifier, and in the previous script we used a CNN classifier. A natural question is: how do they compare, and which one is the best? The goal of this exercise is to answer this question, in terms of number of parameters, training behavior, and accuracy on the test set.\n",
    "\n",
    "&nbsp; \n",
    "\n",
    "<center><a href=\"https://towardsdatascience.com/simple-introduction-to-convolutional-neural-networks-cdf8d3077bac\">\n",
    "    <img src=\"https://miro.medium.com/max/700/1*1Cw9nKcdKV5YQun-e4F8gQ.png\"></a></center>"
   ]
  },
  {
   "cell_type": "code",
   "execution_count": 3,
   "id": "592cee47",
   "metadata": {},
   "outputs": [],
   "source": [
    "import torch\n",
    "import torch.nn as nn\n",
    "from torchvision import transforms, datasets\n",
    "from torch.utils.data import DataLoader, Subset\n",
    "import numpy as np\n",
    "import matplotlib.pyplot as plt\n",
    "import copy\n",
    "\n",
    "# Define the data repository\n",
    "data_dir = 'data/'"
   ]
  },
  {
   "cell_type": "code",
   "execution_count": 4,
   "id": "99cfed31",
   "metadata": {},
   "outputs": [],
   "source": [
    "# Initialization function\n",
    "def init_weights(m):\n",
    "    if isinstance(m, nn.Linear) or isinstance(m, nn.Conv2d):\n",
    "        torch.nn.init.xavier_uniform_(m.weight.data)\n",
    "        m.bias.data.fill_(0.01)\n",
    "    return"
   ]
  },
  {
   "cell_type": "code",
   "execution_count": 5,
   "id": "dd552dc2",
   "metadata": {},
   "outputs": [],
   "source": [
    "# Load the Fashion MNIST dataset\n",
    "train_data = datasets.FashionMNIST(data_dir, train=True, download=True, transform=transforms.ToTensor())\n",
    "test_data = datasets.FashionMNIST(data_dir, train=False, download=True, transform=transforms.ToTensor())\n",
    "num_classes = len(train_data.classes)\n",
    "\n",
    "train_data = Subset(train_data, torch.arange(500))\n",
    "test_data = Subset(test_data, torch.arange(50))\n",
    "\n",
    "# Create dataloaders\n",
    "batch_size = 8\n",
    "train_dataloader = DataLoader(train_data, shuffle=True, batch_size=batch_size)\n",
    "test_dataloader = DataLoader(test_data, batch_size=batch_size)"
   ]
  },
  {
   "cell_type": "code",
   "execution_count": 6,
   "id": "2f9a7a76",
   "metadata": {},
   "outputs": [],
   "source": [
    "# TO DO: write the MLP and CNN (with batch norm) classifiers modules (you can reuse your code for the past scripts)\n",
    "class CNNClassif_bnorm(nn.Module):\n",
    "    def __init__(self, num_channels1=16, num_channels2=32, num_classes=10):\n",
    "        super(CNNClassif_bnorm, self).__init__()\n",
    "        self.conv_block1 = nn.Sequential(nn.Conv2d(1, num_channels1, kernel_size=5, padding=2),\n",
    "                           nn.ReLU(),\n",
    "                           nn.BatchNorm2d(num_channels1, affine=False),\n",
    "                           nn.MaxPool2d(kernel_size=2))\n",
    "        \n",
    "        self.conv_block2 = nn.Sequential(nn.Conv2d(num_channels1, num_channels2, kernel_size=5, padding=2),\n",
    "                           nn.ReLU(),\n",
    "                           nn.BatchNorm2d(num_channels2,affine=False),\n",
    "                           nn.MaxPool2d(kernel_size=2))\n",
    "        self.fc = nn.Linear(1568, num_classes)\n",
    "\n",
    "    def forward(self, x):\n",
    "        x = self.conv_block1(x)\n",
    "        x = self.conv_block2(x)\n",
    "        out = self.fc(x.reshape(x.shape[0], -1))\n",
    "        return out\n",
    "\n",
    "class MLPClassif(nn.Module):\n",
    "    def __init__(self, input_size, hidden_size, output_size, act_fn):\n",
    "        super(MLPClassif, self).__init__()\n",
    "        self.hidden1 = nn.Linear(input_size, hidden_size)\n",
    "        self.hidden2 = nn.Linear(hidden_size, hidden_size)\n",
    "        self.out_layer = nn.Linear(hidden_size, output_size)\n",
    "        self.act_fn = act_fn\n",
    "    \n",
    "    def forward(self, x):\n",
    "        \n",
    "        # TO DO: write the 'forward' method, which computes the output 'out' from the input x\n",
    "        # It should apply sequentially the input, hidden, and output layer, as we did in the example before.\n",
    "        #x = x.view(-1, 784)\n",
    "        x = self.act_fn(self.hidden1(x))\n",
    "        x = self.act_fn(self.hidden2(x))\n",
    "        out = self.out_layer(x)\n",
    "        return out"
   ]
  },
  {
   "cell_type": "code",
   "execution_count": null,
   "id": "c2f9d3b3",
   "metadata": {},
   "outputs": [],
   "source": [
    "# TO DO: write the training function.\n",
    "# No need to write 2 functions (one for MLP and one for CNN), you can use the same but be careful about image vectorization.\n"
   ]
  },
  {
   "cell_type": "code",
   "execution_count": null,
   "id": "28b37f11",
   "metadata": {},
   "outputs": [],
   "source": [
    "# TO DO: write the evaluation function (again, no need to write 2)\n"
   ]
  },
  {
   "cell_type": "code",
   "execution_count": null,
   "id": "2f18ded9",
   "metadata": {},
   "outputs": [],
   "source": [
    "# Common parameters\n",
    "num_classes = 10\n",
    "num_epochs = 30\n",
    "loss_fn = nn.CrossEntropyLoss()\n",
    "learning_rate = 0.01\n",
    "\n",
    "# MLP\n",
    "input_size_mlp = train_data[0][0][0].shape[0]*train_data[0][0][0].shape[1]\n",
    "hidden_size_mlp = 50\n",
    "model_mlp = MLPClassif(input_size_mlp, hidden_size_mlp, num_classes, nn.Sigmoid())\n",
    "model_mlp, loss_total_mlp = training_classifier(model_mlp, train_dataloader, num_epochs, loss_fn, learning_rate, is_mlp=True, verbose=False)\n",
    "accuracy_mlp = eval_classifier(model_mlp, test_dataloader, is_mlp=True, verbose=True)\n",
    "\n",
    "# CNN\n",
    "num_channels1 = 16\n",
    "num_channels2 = 32"
   ]
  },
  {
   "cell_type": "code",
   "execution_count": null,
   "id": "4a1ee14d",
   "metadata": {},
   "outputs": [],
   "source": [
    "# TO DO: Instanciate, initialize and train the two models. Compute accuracy on the test set\n"
   ]
  },
  {
   "cell_type": "code",
   "execution_count": null,
   "id": "35b2a906",
   "metadata": {},
   "outputs": [],
   "source": [
    "# TO DO: compare the MLP and CNN models\n",
    "# - print the number of parameters of each model\n",
    "# - plot the training loss\n",
    "# - display the test accuracy\n"
   ]
  },
  {
   "cell_type": "markdown",
   "id": "8804c476",
   "metadata": {},
   "source": [
    "<span style=\"color:red\">**Q5**</span> Put these results in your report. Which one is the winner?"
   ]
  },
  {
   "cell_type": "code",
   "execution_count": null,
   "id": "35f598de",
   "metadata": {},
   "outputs": [],
   "source": []
  }
 ],
 "metadata": {
  "kernelspec": {
   "display_name": "Python 3.10.0 ('dl-env')",
   "language": "python",
   "name": "python3"
  },
  "language_info": {
   "codemirror_mode": {
    "name": "ipython",
    "version": 3
   },
   "file_extension": ".py",
   "mimetype": "text/x-python",
   "name": "python",
   "nbconvert_exporter": "python",
   "pygments_lexer": "ipython3",
   "version": "3.10.0"
  },
  "vscode": {
   "interpreter": {
    "hash": "4e4653ef3f08bbcc46c48a23d8290ce23ff8798f7d85b3da9ffbf3074ca96bd8"
   }
  }
 },
 "nbformat": 4,
 "nbformat_minor": 5
}
