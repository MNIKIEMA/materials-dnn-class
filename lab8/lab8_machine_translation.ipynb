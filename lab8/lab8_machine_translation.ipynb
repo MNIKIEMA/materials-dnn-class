{
 "cells": [
  {
   "cell_type": "markdown",
   "metadata": {},
   "source": [
    "# Machine translation with RNNs\n",
    "\n",
    "In the previous lab, we have seen how to load and preprocess a text dataset, as well as the basics of RNNs. We also implemented the encoder of a machine translation network. In this lab, we code the decoder and the full model, and we train it on our dataset.\n",
    "\n",
    "<center><a href=\"https://pytorch.org/tutorials/intermediate/seq2seq_translation_tutorial.html\">\n",
    "    <img src=\"https://pytorch.org/tutorials/_images/seq2seq.png\" width=\"500\"></a></center>"
   ]
  },
  {
   "cell_type": "code",
   "execution_count": 1,
   "metadata": {},
   "outputs": [],
   "source": [
    "import torch\n",
    "import torch.nn as nn\n",
    "import torch.optim as optim\n",
    "import numpy as np\n",
    "from matplotlib import pyplot as plt\n",
    "import random\n",
    "import math\n",
    "import time\n",
    "import spacy\n",
    "from torchtext.datasets import Multi30k\n",
    "from torchtext.data import Field, BucketIterator\n",
    "import copy"
   ]
  },
  {
   "cell_type": "markdown",
   "metadata": {},
   "source": [
    "## Dataset and preprocessing\n",
    "\n",
    "All the preprocessing part is the same as in the previous lab (except we also load a validation set), so we directly provide the code here."
   ]
  },
  {
   "cell_type": "code",
   "execution_count": 2,
   "metadata": {},
   "outputs": [],
   "source": [
    "# German and English specific pipelines\n",
    "spacy_de = spacy.load('de_core_news_sm')\n",
    "spacy_en = spacy.load('en_core_web_sm')\n",
    "\n",
    "# Tokenizers\n",
    "def tokenize_de(text):\n",
    "    return [tok.text for tok in spacy_de.tokenizer(text)]\n",
    "\n",
    "def tokenize_en(text):\n",
    "    return [tok.text for tok in spacy_en.tokenizer(text)]\n",
    "\n",
    "# Fields\n",
    "SRC = Field(tokenize=tokenize_de, init_token='<sos>', eos_token='<eos>', lower=True)\n",
    "TRG = Field(tokenize=tokenize_en, init_token='<sos>', eos_token='<eos>', lower=True)\n",
    "\n",
    "# Dataset\n",
    "train_data, valid_data, test_data = Multi30k.splits(root='data/', exts = ('.de', '.en'), fields = (SRC, TRG))\n",
    "\n",
    "# We take a subset of the full dataset for speed\n",
    "train_data.examples = train_data.examples[:1000]\n",
    "valid_data.examples = valid_data.examples[:100]\n",
    "test_data.examples = train_data.examples[:100]\n",
    "\n",
    "# Vocabulary\n",
    "SRC.build_vocab(train_data, min_freq=2)\n",
    "TRG.build_vocab(train_data, min_freq=2)\n",
    "\n",
    "# Dataloader (here we keep the validation dataloader)\n",
    "batch_size = 128\n",
    "train_dataloader, valid_dataloader, test_dataloader = BucketIterator.splits(\n",
    "    (train_data, valid_data, test_data), batch_size = batch_size)"
   ]
  },
  {
   "cell_type": "code",
   "execution_count": 3,
   "metadata": {},
   "outputs": [],
   "source": [
    "# Index to string functions\n",
    "def indx2tokens_list(list_indx, field):\n",
    "    list_tokens = [field.vocab.itos[list_indx[i]] for i in range(len(list_indx))]\n",
    "    beg_i = list_tokens.index('<sos>')\n",
    "    if '<eos>' in list_tokens:\n",
    "        end_i = list_tokens.index('<eos>')\n",
    "    else:\n",
    "        end_i = -1\n",
    "    list_tokens = list_tokens[beg_i+1:end_i]\n",
    "    return list_tokens"
   ]
  },
  {
   "cell_type": "code",
   "execution_count": 4,
   "metadata": {},
   "outputs": [],
   "source": [
    "# Get an example batch\n",
    "example_batch = next(iter(train_dataloader))\n",
    "example_batch_src, example_batch_trg = example_batch.src, example_batch.trg"
   ]
  },
  {
   "cell_type": "markdown",
   "metadata": {},
   "source": [
    "## Seq2seq model\n",
    "\n",
    "Let's remind the overall structure of the machine translation model. This model is based on two parts:\n",
    "\n",
    "- an *encoder*, which takes as input the source sentence (in German) and encodes it into a *context* vector. This context vector is sort of a summary of the whole input sentence.\n",
    "- a *decoder*, which takes as input this context vector and sequentially generates a sentence in English. It always starts with the `<sos>` token and uses the context vector to generate the second token. Then, it recursively uses the last produced token and the hidden state to generate the next token.\n",
    "\n",
    "<center><a href=\"https://github.com/bentrevett/pytorch-seq2seq\">\n",
    "    <img src=\"https://github.com/bentrevett/pytorch-seq2seq/raw/49df8404d938a6edbf729876405558cc2c2b3013//assets/seq2seq1.png\"></a></center>\n",
    "\n",
    "\n",
    "### Encoder\n",
    "\n",
    "We provide the encoder below. It is very similar to the encoder written in lab 7, except it uses a 2-layer LSTM with recurrent dropout."
   ]
  },
  {
   "cell_type": "code",
   "execution_count": 5,
   "metadata": {},
   "outputs": [],
   "source": [
    "class LSTMEncoder(nn.Module):\n",
    "    def __init__(self, input_size, emb_size, hidden_size, n_layers, dropout_rate):\n",
    "        super().__init__()\n",
    "        \n",
    "        self.input_size = input_size\n",
    "        self.emb_size = emb_size\n",
    "        self.hidden_size = hidden_size\n",
    "        self.n_layers = n_layers\n",
    "        self.dropout_rate = dropout_rate\n",
    "        \n",
    "        self.embedding_layer = nn.Embedding(input_size, emb_size)\n",
    "        self.dropout = nn.Dropout(dropout_rate)\n",
    "        self.lstm = nn.LSTM(emb_size, hidden_size, n_layers, dropout=dropout_rate)\n",
    "        \n",
    "    def forward(self, src):\n",
    "                                            \n",
    "        y = self.embedding_layer(src)\n",
    "        y = self.dropout(y)\n",
    "        _, (hidden, cell) = self.lstm(y)\n",
    "                                            \n",
    "        return hidden, cell"
   ]
  },
  {
   "cell_type": "code",
   "execution_count": 6,
   "metadata": {},
   "outputs": [
    {
     "name": "stdout",
     "output_type": "stream",
     "text": [
      "Number of parameters: 62864\n",
      "torch.Size([2, 128, 50])\n",
      "torch.Size([2, 128, 50])\n"
     ]
    }
   ],
   "source": [
    "# Parameters\n",
    "input_size = len(SRC.vocab)\n",
    "emb_size_enc = 32\n",
    "hidden_size = 50\n",
    "n_layers = 2\n",
    "dropout_rate = 0.5\n",
    "\n",
    "# Instanciate the encoder and print the number of trainable parameters\n",
    "encoder_lstm = LSTMEncoder(input_size, emb_size_enc, hidden_size, n_layers, dropout_rate)\n",
    "print('Number of parameters:', sum(p.numel() for p in encoder_lstm.parameters()))\n",
    "\n",
    "# Apply it to the example batch\n",
    "enc_hidden, enc_cell = encoder_lstm(example_batch_src)\n",
    "print(enc_hidden.shape)\n",
    "print(enc_cell.shape)"
   ]
  },
  {
   "cell_type": "markdown",
   "metadata": {},
   "source": [
    "### Decoder\n",
    "\n",
    "Now, let's build the decoder. We treat machine translation as a classification task: the decoder tries to predict the probability of all token indices in the output (target) vocabulary from an input token index. This has two implications:\n",
    "\n",
    "- In addition to the embedding, dropout and LSTM layers, the decoder applies an extra linear layer/MLP to perform prediction of the probabilities. Therefore, this linear layer goes from a space of size `hidden_size_dec` to a space of size `output_size`, which is the number of tokens in the target vocabulary.\n",
    "- the decoder doesn't process all the sentence at once, but instead it processes tokens one by one, since the input at step $t$ is the word that has been predicted at step $t-1$ (not just the hidden state). Therefore, the input to the decoder has a sequence length of 1 (the recursive calculation over the whole sentence will be done in the full model)."
   ]
  },
  {
   "cell_type": "code",
   "execution_count": 7,
   "metadata": {},
   "outputs": [],
   "source": [
    "class LSTMDecoder(nn.Module):\n",
    "    def __init__(self, output_size, emb_size, hidden_size, n_layers, dropout_rate):\n",
    "        super().__init__()\n",
    "        \n",
    "        # TO DO:\n",
    "        # - store the attributes\n",
    "        # - create the embedding, dropout, and LSTM layers (it uses recurrent dropout)\n",
    "        # - create the linear layer (it goes from a space of size 'hidden_size' to 'output_size')\n",
    "        self.output_size = output_size\n",
    "        self.emb_size = emb_size\n",
    "        self.hidden_size = hidden_size\n",
    "        self.n_layers = n_layers\n",
    "        self.dropout_rate = dropout_rate\n",
    "        self.dropout_layer = nn.Dropout(dropout_rate)\n",
    "        self.embedding_layer = nn.Embedding(output_size, emb_size)\n",
    "        self.lstm = nn.LSTM(emb_size, hidden_size, n_layers,dropout=dropout_rate)\n",
    "        self.linear_layer = nn.Linear(hidden_size, output_size)\n",
    "\n",
    "    def forward(self, input_idx, input_hidden, input_cell):\n",
    "        \n",
    "        # apply the embedding and dropout layers\n",
    "        y = self.dropout_layer(self.embedding_layer(input_idx))\n",
    "        \n",
    "        # since y has a shape [batch_size, hidden_size], we need to unsqueeze it\n",
    "        # to create an artificial 'seq_length' (=1) dimension\n",
    "        y = y.unsqueeze(0)\n",
    "        \n",
    "        # TO DO:\n",
    "        # - apply the LSTM layer. Unlike the encoder, we need to store all the outputs to predict the target token\n",
    "        # - squeeze 'output' (to remove the useless dimension 'seq_length'=1)\n",
    "        # - apply the linear layer to 'output' in order to predict the probabilities\n",
    "        # - return the predicted probabilities per token, and the hidden / cell states of the LSTM decoder\n",
    "        output, (hidden, cell) = self.lstm(y, (input_hidden, input_cell))\n",
    "        prediction = self.linear_layer(output.squeeze(0))\n",
    "        return prediction, hidden, cell"
   ]
  },
  {
   "cell_type": "code",
   "execution_count": 8,
   "metadata": {},
   "outputs": [
    {
     "name": "stdout",
     "output_type": "stream",
     "text": [
      "Number of parameters: 105509\n",
      "torch.Size([128, 823])\n",
      "torch.Size([2, 128, 50])\n",
      "torch.Size([2, 128, 50])\n"
     ]
    }
   ],
   "source": [
    "# Define the decoder parameters\n",
    "output_size = len(TRG.vocab)\n",
    "emb_size_dec = 32\n",
    "\n",
    "# Instanciate the decoder and print the number of trainable parameters\n",
    "decoder_lstm = LSTMDecoder(output_size, emb_size_dec, hidden_size, n_layers, dropout_rate)\n",
    "print('Number of parameters:', sum(p.numel() for p in decoder_lstm.parameters()))\n",
    "\n",
    "# Create an artificial numerized input token (input indices) with value '2'\n",
    "# (it corresponds to the 'start of sentence' or '<sos>' token)\n",
    "input_idx = torch.ones(batch_size).int() * 2\n",
    "# input_idx = torch.ones(batch_size).long() * 2   # depending on your torch version, it might be 'long()' instead of 'int()'\n",
    "\n",
    "# Apply the decoder to this input token using the output of the encoder (hidden and cell)\n",
    "pred_proba, dec_hidden, dec_cell = decoder_lstm(input_idx, enc_hidden, enc_cell)\n",
    "print(pred_proba.shape)\n",
    "print(dec_hidden.shape)\n",
    "print(dec_cell.shape)"
   ]
  },
  {
   "cell_type": "code",
   "execution_count": 9,
   "metadata": {},
   "outputs": [
    {
     "data": {
      "text/plain": [
       "['slowly',\n",
       " 'slowly',\n",
       " 'slowly',\n",
       " 'scene',\n",
       " 'slowly',\n",
       " 'train',\n",
       " 'slowly',\n",
       " 'scene',\n",
       " 'scene',\n",
       " 'scene',\n",
       " 'scene',\n",
       " 'slowly',\n",
       " 'scene',\n",
       " 'scene',\n",
       " 'slowly',\n",
       " 'slowly',\n",
       " 'golf',\n",
       " 'scene',\n",
       " 'slowly',\n",
       " 'slowly',\n",
       " 'slowly',\n",
       " 'big',\n",
       " 'slowly',\n",
       " 'slowly',\n",
       " 'scene',\n",
       " 'scene',\n",
       " 'firefighters',\n",
       " 'his',\n",
       " 'scene',\n",
       " 'slowly',\n",
       " 'scene',\n",
       " 'scene',\n",
       " 'slowly',\n",
       " 'slowly',\n",
       " 'scene',\n",
       " 'slowly',\n",
       " 'slowly',\n",
       " 'slowly',\n",
       " 'slowly',\n",
       " 'slowly',\n",
       " 'slowly',\n",
       " 'big',\n",
       " 'slowly',\n",
       " 'scene',\n",
       " 'slowly',\n",
       " 'slowly',\n",
       " 'scene',\n",
       " 'scene',\n",
       " 'slowly',\n",
       " 'slowly',\n",
       " 'scene',\n",
       " 'scene',\n",
       " 'slowly',\n",
       " 'slowly',\n",
       " 'slowly',\n",
       " 'scene',\n",
       " 'slowly',\n",
       " 'ride',\n",
       " 'scene',\n",
       " 'slowly',\n",
       " 'scene',\n",
       " 'scene',\n",
       " 'pot',\n",
       " 'scene',\n",
       " 'scene',\n",
       " 'scene',\n",
       " 'slowly',\n",
       " 'scene',\n",
       " 'slowly',\n",
       " 'slowly',\n",
       " 'scene',\n",
       " 'beside',\n",
       " 'scene',\n",
       " 'slowly',\n",
       " 'scene',\n",
       " 'slowly',\n",
       " 'slowly',\n",
       " 'scene',\n",
       " 'slowly',\n",
       " 'slowly',\n",
       " 'beside',\n",
       " 'firefighters',\n",
       " 'train',\n",
       " 'slowly',\n",
       " 'slowly',\n",
       " 'scene',\n",
       " 'slowly',\n",
       " 'slowly',\n",
       " 'scene',\n",
       " 'scene',\n",
       " 'ride',\n",
       " 'scene',\n",
       " 'slowly',\n",
       " 'slowly',\n",
       " 'scene',\n",
       " 'slowly',\n",
       " 'big',\n",
       " 'slowly',\n",
       " 'slowly',\n",
       " 'slowly',\n",
       " 'scene',\n",
       " 'slowly',\n",
       " 'firefighters',\n",
       " 'slowly',\n",
       " 'slowly',\n",
       " 'ride',\n",
       " 'slowly',\n",
       " 'slowly',\n",
       " 'scene',\n",
       " 'scene',\n",
       " 'scene',\n",
       " 'slowly',\n",
       " 'slowly',\n",
       " 'slowly',\n",
       " 'scene',\n",
       " 'slowly',\n",
       " 'scene',\n",
       " 'slowly',\n",
       " 'train',\n",
       " 'slowly',\n",
       " 'slowly',\n",
       " 'scene',\n",
       " 'firefighters',\n",
       " 'slowly',\n",
       " 'scene',\n",
       " 'slowly',\n",
       " 'slowly',\n",
       " 'scene']"
      ]
     },
     "execution_count": 9,
     "metadata": {},
     "output_type": "execute_result"
    }
   ],
   "source": [
    "# TO DO: from the predicted probabilities calculated before 'pred_proba', get the index with the highest probability\n",
    "\n",
    "# TO DO: for each element in the batch, transform this index back to an actual token (word)\n",
    "index_token = pred_proba.argmax(1)\n",
    "token = [TRG.vocab.itos[index_token[i]] for i in range(len(index_token))]\n",
    "token"
   ]
  },
  {
   "cell_type": "markdown",
   "metadata": {},
   "source": [
    "### Full model\n",
    "\n",
    "Finally, we need to implement the overall model, which takes an input sentence, produces the context vectors using the encoder, and produces the output sentence recursively using the decoder."
   ]
  },
  {
   "cell_type": "code",
   "execution_count": 10,
   "metadata": {},
   "outputs": [],
   "source": [
    "class LSTMSeq2Seq(nn.Module):\n",
    "    def __init__(self, encoder, decoder):\n",
    "        super().__init__()\n",
    "        \n",
    "        # Store the encoder, decoder, and the target vocabulary size\n",
    "        self.encoder = encoder\n",
    "        self.decoder = decoder\n",
    "        self.trg_vocab_size = decoder.output_size\n",
    "        \n",
    "    def forward(self, src, trg_len):\n",
    "        \n",
    "        # Create a tensor to store the predicted probabilities from the decoder\n",
    "        batch_size = src.shape[-1]\n",
    "        pred_probas_all = torch.zeros(trg_len, batch_size, self.trg_vocab_size)\n",
    "        \n",
    "        # Assign a probability of 1 to the token corresponding to <sos> for the first element\n",
    "        pred_probas_all[0, :, 2] = 1\n",
    "        \n",
    "        # Initialize the first input to the decoder as the <sos> token (coded by '2' in our vocabulary)\n",
    "        input_idx = torch.ones(batch_size).int() * 2\n",
    "        \n",
    "        # TO DO: apply the encoder to the src sentence and get the last hidden and cell states (=context vectors)\n",
    "        # (these will be used as initial hidden/cell for the decoder)\n",
    "        hidden, cell = self.encoder(src)\n",
    "        \n",
    "        # loop over tokens (note that it starts from 1 -not 0- since the very first token is already known (=<sos>))\n",
    "        for t in range(1, trg_len):\n",
    "\n",
    "            # TO DO:\n",
    "            # - apply the decoder to get the predicted probabilites of the token t (and the updated hidden/cell)\n",
    "            # - store these predicted probabilities in the 'pred_probas_all' tensor\n",
    "            # - get the index corresponding to the highest probability for this token: it will be used as the next input index\n",
    "            output, hidden, cell = self.decoder(input_idx, hidden, cell)\n",
    "            input_idx = output.argmax(1)\n",
    "            pred_probas_all[t,:,:] = output\n",
    "        return pred_probas_all"
   ]
  },
  {
   "cell_type": "code",
   "execution_count": 11,
   "metadata": {},
   "outputs": [
    {
     "name": "stdout",
     "output_type": "stream",
     "text": [
      "Number of parameters in the LSTM model: 168373\n"
     ]
    }
   ],
   "source": [
    "# Set a random seed for reproducibility\n",
    "SEED = 1234\n",
    "random.seed(SEED)\n",
    "np.random.seed(SEED)\n",
    "torch.manual_seed(SEED)\n",
    "\n",
    "# Instanciate the model and print the number of parameters\n",
    "encoder_lstm = LSTMEncoder(input_size, emb_size_enc, hidden_size, n_layers, dropout_rate)\n",
    "decoder_lstm = LSTMDecoder(output_size, emb_size_dec, hidden_size, n_layers, dropout_rate)\n",
    "model_lstm = LSTMSeq2Seq(encoder_lstm, decoder_lstm)\n",
    "print('Number of parameters in the LSTM model:', sum(p.numel() for p in model_lstm.parameters()))"
   ]
  },
  {
   "cell_type": "markdown",
   "metadata": {},
   "source": [
    "<span style=\"color:red\">**Q1**</span> How many parameters are in the LSTM Seq2seq model?"
   ]
  },
  {
   "cell_type": "code",
   "execution_count": 12,
   "metadata": {},
   "outputs": [
    {
     "data": {
      "text/plain": [
       "['jogging',\n",
       " 'boxes',\n",
       " 'road',\n",
       " 'boxes',\n",
       " 'boxes',\n",
       " 'beach',\n",
       " 'road',\n",
       " 'road',\n",
       " 'beach',\n",
       " 'boxes',\n",
       " 'boxes',\n",
       " 'set',\n",
       " 'set',\n",
       " 'boxes',\n",
       " 'adults',\n",
       " 'adults',\n",
       " 'dock',\n",
       " 'beach',\n",
       " 'set',\n",
       " 'set',\n",
       " 'set',\n",
       " 'set',\n",
       " 'set']"
      ]
     },
     "execution_count": 12,
     "metadata": {},
     "output_type": "execute_result"
    }
   ],
   "source": [
    "# TO DO: Apply the model to the 'example_batch'\n",
    "\n",
    "# TO DO: Get the indices of highest predicted probabilities\n",
    "\n",
    "# TO DO: Take one sample from the batch of predicted indices, and transform it back to tokens (use the indx2tokens_list function)\n",
    "example_batch_src, example_batch_trg = example_batch.src, example_batch.trg\n",
    "trg_len = example_batch_trg.shape[0]\n",
    "probas = model_lstm(example_batch_src, trg_len)\n",
    "out_probas = probas.argmax(2)\n",
    "out_probas.shape\n",
    "indx2tokens_list(out_probas[:,0], TRG)"
   ]
  },
  {
   "cell_type": "markdown",
   "metadata": {},
   "source": [
    "## Training and evaluation\n",
    "\n",
    "Now we have our model implemented, we can train it. We provide the evaluation and training with validation functions (they are very similar to what was done in previous labs)."
   ]
  },
  {
   "cell_type": "code",
   "execution_count": 69,
   "metadata": {},
   "outputs": [],
   "source": [
    "def evaluate_seq2seq(model, eval_dataloader, loss_fn, SEED = 1234):\n",
    "\n",
    "    # Set a random seed for reproducibility\n",
    "    random.seed(SEED)\n",
    "    np.random.seed(SEED)\n",
    "    torch.manual_seed(SEED)\n",
    "\n",
    "    # Set the model in 'eval' mode (disable dropout layer)\n",
    "    model.eval()\n",
    "\n",
    "    # Initialize the eval loss\n",
    "    loss_eval = 0\n",
    "\n",
    "    # loop over batches\n",
    "    for i, batch in enumerate(eval_dataloader):\n",
    "\n",
    "        # Get the source and target sentence, and the target length, copy it to device\n",
    "        src, trg = batch.src, batch.trg\n",
    "        trg_len = trg.shape[0]\n",
    "\n",
    "        # Apply the model\n",
    "        pred_probas = model(src, trg_len)\n",
    "\n",
    "        # Remove the first token (always <sos>) to compute the loss\n",
    "        output_size = pred_probas.shape[-1]\n",
    "        pred_probas = pred_probas[1:]\n",
    "\n",
    "        # Reshape the pred_probas and target so that they have appropriate shapes:\n",
    "        #trg = [(trg len - 1) * batch size]\n",
    "        #output = [(trg len - 1) * batch size, output_size]\n",
    "        pred_probas = pred_probas.view(-1, output_size)\n",
    "        trg = trg[1:].view(-1)\n",
    "\n",
    "        # Compute the loss\n",
    "        loss = loss_fn(pred_probas, trg)\n",
    "\n",
    "        # Record the loss\n",
    "        loss_eval += loss.item()\n",
    "\n",
    "    return loss_eval"
   ]
  },
  {
   "cell_type": "code",
   "execution_count": 70,
   "metadata": {},
   "outputs": [],
   "source": [
    "def training_val_seq2seq(model, train_dataloader, valid_dataloader, num_epochs, loss_fn, learning_rate, verbose=True, SEED = 1234):\n",
    "\n",
    "    # Set a random seed for reproducibility\n",
    "    random.seed(SEED)\n",
    "    np.random.seed(SEED)\n",
    "    torch.manual_seed(SEED)\n",
    "    \n",
    "    # Make a copy of the model (avoid changing the model outside this function)\n",
    "    model_tr = copy.deepcopy(model)\n",
    "    \n",
    "    # Set the model in 'training' mode (ensures all parameters' gradients are computed)\n",
    "    model_tr.train()\n",
    "\n",
    "    # define the optimizer (Adam)\n",
    "    optimizer = torch.optim.SGD(model_tr.parameters(), lr=learning_rate)\n",
    "    \n",
    "    # Initialize lists for storing the train and val losses\n",
    "    loss_train_total = []\n",
    "    loss_val_total = []\n",
    "    \n",
    "    loss_val_optim = float('inf')\n",
    "\n",
    "    for epoch in range(num_epochs):\n",
    "\n",
    "        loss_current_epoch = 0\n",
    "\n",
    "        for i, batch in enumerate(train_dataloader):\n",
    "\n",
    "            # Get the source and target sentence, and the target length, copy it to device\n",
    "            src, trg = batch.src, batch.trg\n",
    "            trg_len = trg.shape[0]\n",
    "\n",
    "            # Set the gradients at 0\n",
    "            optimizer.zero_grad()\n",
    "\n",
    "            # Apply the model\n",
    "            pred_probas = model_tr(src, trg_len)\n",
    "\n",
    "            # Remove the first token (always <sos>) to compute the loss\n",
    "            output_dim = pred_probas.shape[-1]\n",
    "            pred_probas = pred_probas[1:]\n",
    "\n",
    "            # Reshape the pred_probas and target\n",
    "            pred_probas = pred_probas.view(-1, output_dim)\n",
    "            trg = trg[1:].view(-1)\n",
    "\n",
    "            # Backpropagation\n",
    "            loss = loss_fn(pred_probas, trg)\n",
    "            loss.backward()\n",
    "            torch.nn.utils.clip_grad_norm_(model_tr.parameters(), 1.0)\n",
    "            optimizer.step()\n",
    "\n",
    "            # Record the loss\n",
    "            loss_current_epoch += loss.item()\n",
    "\n",
    "        # At the end of each epoch, compute the validation loss\n",
    "        loss_val = evaluate_seq2seq(model_tr, valid_dataloader, loss_fn)\n",
    "        \n",
    "        # Record the training and validation losss over epochs\n",
    "        loss_train_total.append(loss_current_epoch)\n",
    "        loss_val_total.append(loss_val)\n",
    "        \n",
    "        # Display the training and validation losses\n",
    "        if verbose:\n",
    "            print('Epoch [{}/{}], Training loss: {:.4f} ; Validation loss: {:.4f}'\n",
    "                   .format(epoch+1, num_epochs, loss_current_epoch, loss_val))\n",
    "            \n",
    "        # Save the current model as optimal only if validation loss decreases\n",
    "        if loss_val<loss_val_optim:\n",
    "            model_opt = copy.deepcopy(model_tr)\n",
    "            loss_val_optim = loss_val\n",
    "                \n",
    "    return model_opt, loss_train_total, loss_val_total"
   ]
  },
  {
   "cell_type": "code",
   "execution_count": 71,
   "metadata": {},
   "outputs": [
    {
     "name": "stdout",
     "output_type": "stream",
     "text": [
      "Epoch [1/50], Training loss: 53.5203 ; Validation loss: 6.6906\n",
      "Epoch [2/50], Training loss: 53.5001 ; Validation loss: 6.6857\n",
      "Epoch [3/50], Training loss: 53.4655 ; Validation loss: 6.6807\n",
      "Epoch [4/50], Training loss: 53.4300 ; Validation loss: 6.6757\n",
      "Epoch [5/50], Training loss: 53.3938 ; Validation loss: 6.6707\n",
      "Epoch [6/50], Training loss: 53.3595 ; Validation loss: 6.6656\n",
      "Epoch [7/50], Training loss: 53.3213 ; Validation loss: 6.6611\n",
      "Epoch [8/50], Training loss: 53.2843 ; Validation loss: 6.6556\n",
      "Epoch [9/50], Training loss: 53.2474 ; Validation loss: 6.6505\n",
      "Epoch [10/50], Training loss: 53.2111 ; Validation loss: 6.6453\n",
      "Epoch [11/50], Training loss: 53.1741 ; Validation loss: 6.6401\n",
      "Epoch [12/50], Training loss: 53.1319 ; Validation loss: 6.6341\n",
      "Epoch [13/50], Training loss: 53.0943 ; Validation loss: 6.6288\n",
      "Epoch [14/50], Training loss: 53.0570 ; Validation loss: 6.6235\n",
      "Epoch [15/50], Training loss: 53.0203 ; Validation loss: 6.6182\n",
      "Epoch [16/50], Training loss: 52.9823 ; Validation loss: 6.6128\n",
      "Epoch [17/50], Training loss: 52.9437 ; Validation loss: 6.6074\n",
      "Epoch [18/50], Training loss: 52.9065 ; Validation loss: 6.6019\n",
      "Epoch [19/50], Training loss: 52.8666 ; Validation loss: 6.5965\n",
      "Epoch [20/50], Training loss: 52.8290 ; Validation loss: 6.5909\n",
      "Epoch [21/50], Training loss: 52.7885 ; Validation loss: 6.5854\n",
      "Epoch [22/50], Training loss: 52.7494 ; Validation loss: 6.5798\n",
      "Epoch [23/50], Training loss: 52.7097 ; Validation loss: 6.5741\n",
      "Epoch [24/50], Training loss: 52.6699 ; Validation loss: 6.5684\n",
      "Epoch [25/50], Training loss: 52.6282 ; Validation loss: 6.5627\n",
      "Epoch [26/50], Training loss: 52.5879 ; Validation loss: 6.5569\n",
      "Epoch [27/50], Training loss: 52.5480 ; Validation loss: 6.5510\n",
      "Epoch [28/50], Training loss: 52.5070 ; Validation loss: 6.5451\n",
      "Epoch [29/50], Training loss: 52.4642 ; Validation loss: 6.5391\n",
      "Epoch [30/50], Training loss: 52.4222 ; Validation loss: 6.5331\n",
      "Epoch [31/50], Training loss: 52.3787 ; Validation loss: 6.5270\n",
      "Epoch [32/50], Training loss: 52.3346 ; Validation loss: 6.5208\n",
      "Epoch [33/50], Training loss: 52.2928 ; Validation loss: 6.5146\n",
      "Epoch [34/50], Training loss: 52.2481 ; Validation loss: 6.5083\n",
      "Epoch [35/50], Training loss: 52.2034 ; Validation loss: 6.5019\n",
      "Epoch [36/50], Training loss: 52.1574 ; Validation loss: 6.4954\n",
      "Epoch [37/50], Training loss: 52.1124 ; Validation loss: 6.4889\n",
      "Epoch [38/50], Training loss: 52.0647 ; Validation loss: 6.4822\n",
      "Epoch [39/50], Training loss: 52.0173 ; Validation loss: 6.4755\n",
      "Epoch [40/50], Training loss: 51.9717 ; Validation loss: 6.4687\n",
      "Epoch [41/50], Training loss: 51.9233 ; Validation loss: 6.4618\n",
      "Epoch [42/50], Training loss: 51.8731 ; Validation loss: 6.4547\n",
      "Epoch [43/50], Training loss: 51.8217 ; Validation loss: 6.4476\n",
      "Epoch [44/50], Training loss: 51.7715 ; Validation loss: 6.4404\n",
      "Epoch [45/50], Training loss: 51.7192 ; Validation loss: 6.4330\n",
      "Epoch [46/50], Training loss: 51.6676 ; Validation loss: 6.4256\n",
      "Epoch [47/50], Training loss: 51.6147 ; Validation loss: 6.4180\n",
      "Epoch [48/50], Training loss: 51.5597 ; Validation loss: 6.4103\n",
      "Epoch [49/50], Training loss: 51.5067 ; Validation loss: 6.4025\n",
      "Epoch [50/50], Training loss: 51.4504 ; Validation loss: 6.3945\n"
     ]
    }
   ],
   "source": [
    "# Training parameters\n",
    "learning_rate = 0.01\n",
    "num_epochs = 50\n",
    "\n",
    "# For the loss function, since we treat the problem as a classification task, we use the cross entropy.\n",
    "# We also tell it to ignore the index of the <pad> token for computation speed\n",
    "TRG_PAD_IDX = TRG.vocab.stoi[TRG.pad_token]\n",
    "loss_fn = nn.CrossEntropyLoss(ignore_index = TRG_PAD_IDX)\n",
    "\n",
    "# Training\n",
    "model_lstm, loss_train_lstm, loss_val_lstm = training_val_seq2seq(model_lstm, train_dataloader, valid_dataloader, num_epochs, loss_fn, learning_rate)"
   ]
  },
  {
   "cell_type": "markdown",
   "metadata": {},
   "source": [
    "## GRU network\n",
    "\n",
    "Let us consider an alternative architecture using GRU instead of LSTM."
   ]
  },
  {
   "cell_type": "code",
   "execution_count": 42,
   "metadata": {},
   "outputs": [],
   "source": [
    "# TO DO: write the GRU encoder, decoder, and full seq2seq model. Most of the previous LSTM-related code can be reused.\n",
    "# Remember that a GRU only has two outputs ('out' and 'hidden'), unlike LSTM which has an additional 'cell'.\n",
    "class GRUEncoder(nn.Module):\n",
    "    def __init__(self, input_size, emb_size, hidden_size, n_layers, dropout_rate):\n",
    "        super().__init__()\n",
    "        \n",
    "        self.input_size = input_size\n",
    "        self.emb_size = emb_size\n",
    "        self.hidden_size = hidden_size\n",
    "        self.n_layers = n_layers\n",
    "        self.dropout_rate = dropout_rate\n",
    "        \n",
    "        self.embedding_layer = nn.Embedding(input_size, emb_size)\n",
    "        self.dropout = nn.Dropout(dropout_rate)\n",
    "        self.lstm = nn.GRU(emb_size, hidden_size, n_layers, dropout=dropout_rate)\n",
    "        \n",
    "    def forward(self, src):\n",
    "                                            \n",
    "        y = self.embedding_layer(src)\n",
    "        y = self.dropout(y)\n",
    "        _, cell = self.lstm(y)\n",
    "                                            \n",
    "        return cell"
   ]
  },
  {
   "cell_type": "code",
   "execution_count": 43,
   "metadata": {},
   "outputs": [
    {
     "name": "stdout",
     "output_type": "stream",
     "text": [
      "Number of parameters: 53564\n",
      "torch.Size([2, 128, 50])\n"
     ]
    }
   ],
   "source": [
    "input_size = len(SRC.vocab)\n",
    "emb_size_enc = 32\n",
    "hidden_size = 50\n",
    "n_layers = 2\n",
    "dropout_rate = 0.5\n",
    "\n",
    "# Instanciate the encoder and print the number of trainable parameters\n",
    "encoder_gru = GRUEncoder(input_size, emb_size_enc, hidden_size, n_layers, dropout_rate)\n",
    "print('Number of parameters:', sum(p.numel() for p in encoder_lstm.parameters()))\n",
    "\n",
    "# Apply it to the example batch\n",
    "enc_hidden = encoder_gru(example_batch_src)\n",
    "print(enc_hidden.shape)"
   ]
  },
  {
   "cell_type": "code",
   "execution_count": 50,
   "metadata": {},
   "outputs": [],
   "source": [
    "class GRUDecoder(nn.Module):\n",
    "    def __init__(self, output_size, emb_size, hidden_size, n_layers, dropout_rate):\n",
    "        super().__init__()\n",
    "        \n",
    "        # TO DO:\n",
    "        # - store the attributes\n",
    "        # - create the embedding, dropout, and LSTM layers (it uses recurrent dropout)\n",
    "        # - create the linear layer (it goes from a space of size 'hidden_size' to 'output_size')\n",
    "        self.output_size = output_size\n",
    "        self.emb_size = emb_size\n",
    "        self.hidden_size = hidden_size\n",
    "        self.n_layers = n_layers\n",
    "        self.dropout_rate = dropout_rate\n",
    "        self.dropout_layer = nn.Dropout(dropout_rate)\n",
    "        self.embedding_layer = nn.Embedding(output_size, emb_size)\n",
    "        self.gru = nn.GRU(emb_size, hidden_size, n_layers,dropout=dropout_rate)\n",
    "        self.linear_layer = nn.Linear(hidden_size, output_size)\n",
    "\n",
    "    def forward(self, input_idx, input_cell):\n",
    "        \n",
    "        # apply the embedding and dropout layers\n",
    "        y = self.dropout_layer(self.embedding_layer(input_idx))\n",
    "        \n",
    "        # since y has a shape [batch_size, hidden_size], we need to unsqueeze it\n",
    "        # to create an artificial 'seq_length' (=1) dimension\n",
    "        y = y.unsqueeze(0)\n",
    "        \n",
    "        # TO DO:\n",
    "        # - apply the LSTM layer. Unlike the encoder, we need to store all the outputs to predict the target token\n",
    "        # - squeeze 'output' (to remove the useless dimension 'seq_length'=1)\n",
    "        # - apply the linear layer to 'output' in order to predict the probabilities\n",
    "        # - return the predicted probabilities per token, and the hidden / cell states of the LSTM decoder\n",
    "        output,  cell = self.gru(y, input_cell)\n",
    "        prediction = self.linear_layer(output.squeeze(0))\n",
    "        return prediction, cell"
   ]
  },
  {
   "cell_type": "code",
   "execution_count": 51,
   "metadata": {},
   "outputs": [
    {
     "name": "stdout",
     "output_type": "stream",
     "text": [
      "Number of parameters: 96209\n",
      "torch.Size([128, 50])\n",
      "torch.Size([128, 823])\n",
      "torch.Size([2, 128, 50])\n"
     ]
    }
   ],
   "source": [
    "# Define the decoder parameters\n",
    "output_size = len(TRG.vocab)\n",
    "emb_size_dec = 32\n",
    "\n",
    "# Instanciate the decoder and print the number of trainable parameters\n",
    "decoder_gru = GRUDecoder(output_size, emb_size_dec, hidden_size, n_layers, dropout_rate)\n",
    "print('Number of parameters:', sum(p.numel() for p in decoder_lstm.parameters()))\n",
    "\n",
    "# Create an artificial numerized input token (input indices) with value '2'\n",
    "# (it corresponds to the 'start of sentence' or '<sos>' token)\n",
    "input_idx = torch.ones(batch_size).int() * 2\n",
    "# input_idx = torch.ones(batch_size).long() * 2   # depending on your torch version, it might be 'long()' instead of 'int()'\n",
    "print(enc_cell.shape)\n",
    "# Apply the decoder to this input token using the output of the encoder (hidden and cell)\n",
    "pred_proba, dec_cell = decoder_gru(input_idx, enc_hidden)\n",
    "print(pred_proba.shape)\n",
    "print(dec_cell.shape)"
   ]
  },
  {
   "cell_type": "code",
   "execution_count": 55,
   "metadata": {},
   "outputs": [],
   "source": [
    "class GRUSeq2Seq(nn.Module):\n",
    "    def __init__(self, encoder, decoder):\n",
    "        super().__init__()\n",
    "        \n",
    "        # Store the encoder, decoder, and the target vocabulary size\n",
    "        self.encoder = encoder\n",
    "        self.decoder = decoder\n",
    "        self.trg_vocab_size = decoder.output_size\n",
    "        \n",
    "    def forward(self, src, trg_len):\n",
    "        \n",
    "        # Create a tensor to store the predicted probabilities from the decoder\n",
    "        batch_size = src.shape[-1]\n",
    "        pred_probas_all = torch.zeros(trg_len, batch_size, self.trg_vocab_size)\n",
    "        \n",
    "        # Assign a probability of 1 to the token corresponding to <sos> for the first element\n",
    "        pred_probas_all[0, :, 2] = 1\n",
    "        \n",
    "        # Initialize the first input to the decoder as the <sos> token (coded by '2' in our vocabulary)\n",
    "        input_idx = torch.ones(batch_size).int() * 2\n",
    "        \n",
    "        # TO DO: apply the encoder to the src sentence and get the last hidden and cell states (=context vectors)\n",
    "        # (these will be used as initial hidden/cell for the decoder)\n",
    "        cell = self.encoder(src)\n",
    "        \n",
    "        # loop over tokens (note that it starts from 1 -not 0- since the very first token is already known (=<sos>))\n",
    "        for t in range(1, trg_len):\n",
    "\n",
    "            # TO DO:\n",
    "            # - apply the decoder to get the predicted probabilites of the token t (and the updated hidden/cell)\n",
    "            # - store these predicted probabilities in the 'pred_probas_all' tensor\n",
    "            # - get the index corresponding to the highest probability for this token: it will be used as the next input index\n",
    "            output, cell = self.decoder(input_idx, cell)\n",
    "            input_idx = output.argmax(1)\n",
    "            pred_probas_all[t,:,:] = output\n",
    "        return pred_probas_all"
   ]
  },
  {
   "cell_type": "code",
   "execution_count": 56,
   "metadata": {},
   "outputs": [
    {
     "name": "stdout",
     "output_type": "stream",
     "text": [
      "Number of parameters in the GRU model: 149773\n"
     ]
    }
   ],
   "source": [
    "# Set a random seed for reproducibility\n",
    "SEED = 1234\n",
    "random.seed(SEED)\n",
    "np.random.seed(SEED)\n",
    "torch.manual_seed(SEED)\n",
    "\n",
    "# Instanciate the GRU model\n",
    "encoder_gru = GRUEncoder(input_size, emb_size_enc, hidden_size, n_layers, dropout_rate)\n",
    "decoder_gru = GRUDecoder(output_size, emb_size_dec, hidden_size, n_layers, dropout_rate)\n",
    "model_gru = GRUSeq2Seq(encoder_gru, decoder_gru)\n",
    "\n",
    "# Number of parameters\n",
    "print('Number of parameters in the GRU model:', sum(p.numel() for p in model_gru.parameters()))"
   ]
  },
  {
   "cell_type": "markdown",
   "metadata": {},
   "source": [
    "<span style=\"color:red\">**Q2**</span> How many parameters are in the GRU Seq2seq model?"
   ]
  },
  {
   "cell_type": "code",
   "execution_count": 67,
   "metadata": {},
   "outputs": [
    {
     "name": "stdout",
     "output_type": "stream",
     "text": [
      "torch.Size([25, 128, 823])\n"
     ]
    },
    {
     "data": {
      "text/plain": [
       "['a',\n",
       " 'a',\n",
       " 'a',\n",
       " 'a',\n",
       " 'a',\n",
       " 'a',\n",
       " 'a',\n",
       " 'a',\n",
       " 'a',\n",
       " 'a',\n",
       " 'a',\n",
       " 'a',\n",
       " 'a',\n",
       " 'a',\n",
       " 'a',\n",
       " 'a',\n",
       " 'a',\n",
       " 'a',\n",
       " 'a',\n",
       " 'a',\n",
       " 'a',\n",
       " 'a',\n",
       " 'a']"
      ]
     },
     "execution_count": 67,
     "metadata": {},
     "output_type": "execute_result"
    }
   ],
   "source": [
    "# TO DO: pass the example batch to the GRU model and print the size of the output ('pred_probas_all')\n",
    "example_batch_src, example_batch_trg = example_batch.src, example_batch.trg\n",
    "trg_len = example_batch_trg.shape[0]\n",
    "probas = model_gru(example_batch_src, trg_len)\n",
    "out_probas = probas.argmax(2)\n",
    "print(probas.shape)\n",
    "indx2tokens_list(out_probas[:,0], TRG)"
   ]
  },
  {
   "cell_type": "code",
   "execution_count": 63,
   "metadata": {},
   "outputs": [
    {
     "name": "stdout",
     "output_type": "stream",
     "text": [
      "Epoch [1/50], Training loss: 53.7499 ; Validation loss: 6.7231\n",
      "Epoch [2/50], Training loss: 53.7045 ; Validation loss: 6.7070\n",
      "Epoch [3/50], Training loss: 53.6184 ; Validation loss: 6.6949\n",
      "Epoch [4/50], Training loss: 53.5572 ; Validation loss: 6.6861\n",
      "Epoch [5/50], Training loss: 53.5126 ; Validation loss: 6.6818\n",
      "Epoch [6/50], Training loss: 53.4773 ; Validation loss: 6.6827\n",
      "Epoch [7/50], Training loss: 53.4030 ; Validation loss: 6.6665\n",
      "Epoch [8/50], Training loss: 53.3428 ; Validation loss: 6.6632\n",
      "Epoch [9/50], Training loss: 53.2746 ; Validation loss: 6.6445\n",
      "Epoch [10/50], Training loss: 53.2574 ; Validation loss: 6.6513\n",
      "Epoch [11/50], Training loss: 53.1942 ; Validation loss: 6.6406\n",
      "Epoch [12/50], Training loss: 53.1265 ; Validation loss: 6.6314\n",
      "Epoch [13/50], Training loss: 53.0628 ; Validation loss: 6.6229\n",
      "Epoch [14/50], Training loss: 52.9929 ; Validation loss: 6.6144\n",
      "Epoch [15/50], Training loss: 52.9238 ; Validation loss: 6.6007\n",
      "Epoch [16/50], Training loss: 52.8752 ; Validation loss: 6.5957\n",
      "Epoch [17/50], Training loss: 52.8056 ; Validation loss: 6.5889\n",
      "Epoch [18/50], Training loss: 52.7370 ; Validation loss: 6.5764\n",
      "Epoch [19/50], Training loss: 52.6711 ; Validation loss: 6.5666\n",
      "Epoch [20/50], Training loss: 52.6103 ; Validation loss: 6.5633\n",
      "Epoch [21/50], Training loss: 52.5810 ; Validation loss: 6.5540\n",
      "Epoch [22/50], Training loss: 52.5083 ; Validation loss: 6.5465\n",
      "Epoch [23/50], Training loss: 52.4242 ; Validation loss: 6.5294\n",
      "Epoch [24/50], Training loss: 52.2804 ; Validation loss: 6.5085\n",
      "Epoch [25/50], Training loss: 52.1240 ; Validation loss: 6.5012\n",
      "Epoch [26/50], Training loss: 52.1071 ; Validation loss: 6.4902\n",
      "Epoch [27/50], Training loss: 51.9997 ; Validation loss: 6.4724\n",
      "Epoch [28/50], Training loss: 51.8444 ; Validation loss: 6.4459\n",
      "Epoch [29/50], Training loss: 51.6732 ; Validation loss: 6.4255\n",
      "Epoch [30/50], Training loss: 51.4988 ; Validation loss: 6.3972\n",
      "Epoch [31/50], Training loss: 51.3075 ; Validation loss: 6.3713\n",
      "Epoch [32/50], Training loss: 51.1178 ; Validation loss: 6.3419\n",
      "Epoch [33/50], Training loss: 50.9050 ; Validation loss: 6.3115\n",
      "Epoch [34/50], Training loss: 50.6860 ; Validation loss: 6.2792\n",
      "Epoch [35/50], Training loss: 50.4616 ; Validation loss: 6.2450\n",
      "Epoch [36/50], Training loss: 50.2128 ; Validation loss: 6.2068\n",
      "Epoch [37/50], Training loss: 49.9393 ; Validation loss: 6.1659\n",
      "Epoch [38/50], Training loss: 49.6540 ; Validation loss: 6.1200\n",
      "Epoch [39/50], Training loss: 49.3402 ; Validation loss: 6.0759\n",
      "Epoch [40/50], Training loss: 49.0152 ; Validation loss: 6.0304\n",
      "Epoch [41/50], Training loss: 48.6944 ; Validation loss: 5.9839\n",
      "Epoch [42/50], Training loss: 48.3796 ; Validation loss: 5.9365\n",
      "Epoch [43/50], Training loss: 48.0334 ; Validation loss: 5.8881\n",
      "Epoch [44/50], Training loss: 47.6996 ; Validation loss: 5.8392\n",
      "Epoch [45/50], Training loss: 47.3534 ; Validation loss: 5.7899\n",
      "Epoch [46/50], Training loss: 47.0107 ; Validation loss: 5.7405\n",
      "Epoch [47/50], Training loss: 46.6692 ; Validation loss: 5.6914\n",
      "Epoch [48/50], Training loss: 46.3359 ; Validation loss: 5.6430\n",
      "Epoch [49/50], Training loss: 45.9897 ; Validation loss: 5.5957\n",
      "Epoch [50/50], Training loss: 45.6795 ; Validation loss: 5.5498\n"
     ]
    }
   ],
   "source": [
    "# TO DO: train the GRU model\n",
    "# Training parameters\n",
    "learning_rate = 0.01\n",
    "num_epochs = 50\n",
    "\n",
    "# For the loss function, since we treat the problem as a classification task, we use the cross entropy.\n",
    "# We also tell it to ignore the index of the <pad> token for computation speed\n",
    "TRG_PAD_IDX = TRG.vocab.stoi[TRG.pad_token]\n",
    "loss_fn = nn.CrossEntropyLoss(ignore_index = TRG_PAD_IDX)\n",
    "\n",
    "# Training\n",
    "model_gru, loss_train_gru, loss_val_gru = training_val_seq2seq(model_gru, train_dataloader, \n",
    "                            valid_dataloader, \n",
    "                            num_epochs, loss_fn, learning_rate)"
   ]
  },
  {
   "cell_type": "markdown",
   "metadata": {},
   "source": [
    "## Comparing the LSTM and GRU models\n",
    "\n",
    "Finally, let us compare the two proposed architectures."
   ]
  },
  {
   "cell_type": "code",
   "execution_count": 64,
   "metadata": {},
   "outputs": [
    {
     "name": "stdout",
     "output_type": "stream",
     "text": [
      "Number of parameters in the LSTM model: 168373\n",
      "Number of parameters in the GRU model: 149773\n"
     ]
    }
   ],
   "source": [
    "# TO DO: print the number of parameters of both models (already done above)\n",
    "print('Number of parameters in the LSTM model:', sum(p.numel() for p in model_lstm.parameters()))\n",
    "print('Number of parameters in the GRU model:', sum(p.numel() for p in model_gru.parameters()))"
   ]
  },
  {
   "cell_type": "code",
   "execution_count": 97,
   "metadata": {},
   "outputs": [
    {
     "data": {
      "text/plain": [
       "<Figure size 1000x1000 with 0 Axes>"
      ]
     },
     "metadata": {},
     "output_type": "display_data"
    },
    {
     "data": {
      "image/png": "[encoded data removed]",
      "text/plain": [
       "<Figure size 640x480 with 2 Axes>"
      ]
     },
     "metadata": {},
     "output_type": "display_data"
    }
   ],
   "source": [
    "#TO DO: plot the training and validation losses for both models\n",
    "# - one subplot will contain the training loss\n",
    "# - the other subplot represents the validation loss\n",
    "plt.figure(figsize=(10,10))\n",
    "f, (ax1, ax2) = plt.subplots(2, 1, sharex=\"col\")\n",
    "ax1.plot(range(num_epochs),loss_train_lstm, label=\"LSTM\")\n",
    "ax1.plot(range(num_epochs), loss_train_gru, label=\"GRU\")\n",
    "ax1.set(xlabel='Number of epoch', ylabel='Loss',\n",
    "       title='Loss of the training')\n",
    "ax1.legend()\n",
    "f.tight_layout(pad=1.5)\n",
    "ax2.plot(range(num_epochs), loss_val_lstm,label=\"LSTM\")\n",
    "ax2.plot(range(num_epochs), loss_val_gru, label=\"GRU\")\n",
    "ax2.set(xlabel='Number of epoch', ylabel='Loss',\n",
    "       title='Loss of the testing')\n",
    "ax2.legend()\n",
    "plt.show()"
   ]
  },
  {
   "cell_type": "code",
   "execution_count": 102,
   "metadata": {},
   "outputs": [
    {
     "name": "stdout",
     "output_type": "stream",
     "text": [
      "LSTM Loss : 6.424\n",
      "GRU Loss : 5.676\n"
     ]
    }
   ],
   "source": [
    "# TO DO: compute and print the test loss for both models\n",
    "print(f\"LSTM Loss : {evaluate_seq2seq(model_lstm, test_dataloader, loss_fn, SEED = 1234):0.3f}\")\n",
    "print(f\"GRU Loss : {evaluate_seq2seq(model_gru, test_dataloader, loss_fn, SEED = 1234):0.3f}\")"
   ]
  },
  {
   "cell_type": "markdown",
   "metadata": {},
   "source": [
    "<span style=\"color:red\">**Q3**</span> Place these results (number of parameters, training log, and test loss) in your report. Based on these, which network would you recommend to use?"
   ]
  }
 ],
 "metadata": {
  "kernelspec": {
   "display_name": "dl-env",
   "language": "python",
   "name": "python3"
  },
  "language_info": {
   "codemirror_mode": {
    "name": "ipython",
    "version": 3
   },
   "file_extension": ".py",
   "mimetype": "text/x-python",
   "name": "python",
   "nbconvert_exporter": "python",
   "pygments_lexer": "ipython3",
   "version": "3.10.0"
  },
  "vscode": {
   "interpreter": {
    "hash": "4e4653ef3f08bbcc46c48a23d8290ce23ff8798f7d85b3da9ffbf3074ca96bd8"
   }
  }
 },
 "nbformat": 4,
 "nbformat_minor": 2
}
