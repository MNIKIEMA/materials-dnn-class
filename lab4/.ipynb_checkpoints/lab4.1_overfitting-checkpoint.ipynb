{
 "cells": [
  {
   "cell_type": "markdown",
   "metadata": {},
   "source": [
    "# An introduction to overfitting\n",
    "\n",
    "In the previous lab we have designed and trained an MLP network for image classification. We relied on a rather naive approach, which in practice is a bit risky. Indeed, our model was designed and trained for minimizing the loss on the training set, so we might end up with a model which is very good at predicting the data from this training set. However, it might be unable to generalize to unseen/new data (e.g., from the test set). This behavior is called **overfitting** and is a major problem in deep learning, wich we adress in this script.\n",
    "\n",
    "<center><a href=\"https://medium.com/geekculture/investigating-underfitting-and-overfitting-70382835e45c\">\n",
    "    <img src=\"https://miro.medium.com/max/1400/1*OeJVQ7sEvOJGxfGSCpbzyA.png\" width=\"600\"></a></center>"
   ]
  },
  {
   "cell_type": "code",
   "execution_count": 15,
   "metadata": {},
   "outputs": [],
   "source": [
    "import torch \n",
    "import torchvision\n",
    "import torch.nn as nn\n",
    "import os\n",
    "import random\n",
    "import numpy as np\n",
    "import matplotlib.pyplot as plt\n",
    "from skimage import io, transform\n",
    "from torch.utils.data import DataLoader, random_split, Subset\n",
    "import copy"
   ]
  },
  {
   "cell_type": "markdown",
   "metadata": {},
   "source": [
    "## Dataset and model\n",
    "\n",
    "As in the previous lab, we work with the MNIST dataset and we use a simple 3-layer MLP. We provide the code below."
   ]
  },
  {
   "cell_type": "code",
   "execution_count": 17,
   "metadata": {},
   "outputs": [],
   "source": [
    "os.chdir('/mnt/c/Master2/DeepLearning/lab4')"
   ]
  },
  {
   "cell_type": "code",
   "execution_count": 18,
   "metadata": {},
   "outputs": [],
   "source": [
    "# Define the data repository\n",
    "data_dir = 'data/'\n",
    "\n",
    "# Load the MNIST dataset\n",
    "data_transforms = torchvision.transforms.Compose([torchvision.transforms.ToTensor(),\n",
    "                                                  torchvision.transforms.Normalize((0.1307,), (0.3081,))])\n",
    "train_data = torchvision.datasets.MNIST(data_dir, train=True, download=True, transform=data_transforms)\n",
    "test_data = torchvision.datasets.MNIST(data_dir, train=False, download=True, transform=data_transforms)\n",
    "num_classes = len(train_data.classes)\n",
    "\n",
    "# Take a subset of the train/test data\n",
    "train_data = Subset(train_data, torch.arange(400))\n",
    "test_data = Subset(test_data, torch.arange(50))\n",
    "\n",
    "# Create the dataloaders\n",
    "batch_size = 8\n",
    "train_dataloader = DataLoader(train_data, shuffle=True, batch_size=batch_size)\n",
    "test_dataloader = DataLoader(test_data, batch_size=batch_size)"
   ]
  },
  {
   "cell_type": "code",
   "execution_count": 39,
   "metadata": {},
   "outputs": [],
   "source": [
    "class MLPClassif(nn.Module):\n",
    "    def __init__(self, input_size, hidden_size, output_size, act_fn):\n",
    "        super(MLPClassif, self).__init__()\n",
    "        self.input_layer = nn.Sequential(nn.Linear(input_size, hidden_size), act_fn)\n",
    "        self.hidden_layer = nn.Sequential(nn.Linear(hidden_size, hidden_size), act_fn)\n",
    "        self.output_layer = nn.Linear(hidden_size, output_size)\n",
    "    \n",
    "    def forward(self, x):\n",
    "        y = self.input_layer(x)\n",
    "        y = self.hidden_layer(y)\n",
    "        out = self.output_layer(y)\n",
    "        return out"
   ]
  },
  {
   "cell_type": "code",
   "execution_count": 40,
   "metadata": {},
   "outputs": [
    {
     "data": {
      "text/plain": [
       "MLPClassif(\n",
       "  (input_layer): Sequential(\n",
       "    (0): Linear(in_features=784, out_features=10, bias=True)\n",
       "    (1): ReLU()\n",
       "  )\n",
       "  (hidden_layer): Sequential(\n",
       "    (0): Linear(in_features=10, out_features=10, bias=True)\n",
       "    (1): ReLU()\n",
       "  )\n",
       "  (output_layer): Linear(in_features=10, out_features=10, bias=True)\n",
       ")"
      ]
     },
     "execution_count": 40,
     "metadata": {},
     "output_type": "execute_result"
    }
   ],
   "source": [
    "# Instanciate the network and initialize the parameters for reproducibility\n",
    "input_size = train_data[0][0][0].shape[0]*train_data[0][0][0].shape[1]\n",
    "hidden_size = 10\n",
    "act_fn = nn.ReLU()\n",
    "output_size = num_classes\n",
    "model = MLPClassif(input_size, hidden_size, output_size, act_fn)\n",
    "\n",
    "def init_weights(m):\n",
    "    if isinstance(m, nn.Linear):\n",
    "        torch.nn.init.xavier_uniform_(m.weight.data)\n",
    "        m.bias.data.fill_(0.01)\n",
    "\n",
    "torch.manual_seed(0)\n",
    "model.apply(init_weights)"
   ]
  },
  {
   "cell_type": "markdown",
   "metadata": {},
   "source": [
    "## Training with validation: early stopping\n",
    "\n",
    "There are many strategies to avoid overfitting, but a first simple approach is to monitor the performance of the model (when training) on another subset called the *validation* (or *development*) set. At each epoch we compute the loss on the validation set, and check how it behaves: if the validation loss decreases, then we can continue training. Conversely, if the validation loss increases, it means the model has overfitted, so we need to stop training. In practice, we run training with a specified maximum number of epochs, and we save the model which yields the lowest validation loss. This strategy is called *early stopping*.\n",
    "\n",
    "<center><a href=\"https://bioinfo.iric.ca/fr/le-surapprentissage-et-la-regularisation/\">\n",
    "    <img src=\"https://bioinfo.iric.ca/wpbioinfo/wp-content/uploads/2017/10/error_curves-400x400.png\" width=\"300\"></a></center>\n",
    "\n",
    "On the example above, the blue curve is the training loss (which keeps decreasing), and the red curve is the validation loss. The dashed line indicates the best model we can get (lowest validation loss).\n",
    "\n",
    "**Note**: instead of computing the validation loss (which ideally should decrease), we can compute the validation accuracy (which ideally should increase). The concept is the same, but in practice it's better to use a validation metric that is as close as possible or equal to the test metric (here: accuracy)."
   ]
  },
  {
   "cell_type": "code",
   "execution_count": 41,
   "metadata": {},
   "outputs": [],
   "source": [
    "# First we define the validation set by splitting the training data into 2 subsets (90% training and 10% validation)\n",
    "n_train_examples = int(len(train_data)*0.9)\n",
    "n_valid_examples = len(train_data) - n_train_examples\n",
    "train_data, valid_data = random_split(train_data, [n_train_examples, n_valid_examples])\n",
    "\n",
    "# We also define the corresponding dataloaders\n",
    "train_dataloader = DataLoader(train_data, shuffle=True, batch_size=batch_size)\n",
    "valid_dataloader = DataLoader(valid_data, batch_size=batch_size)"
   ]
  },
  {
   "cell_type": "code",
   "execution_count": 42,
   "metadata": {},
   "outputs": [
    {
     "name": "stdout",
     "output_type": "stream",
     "text": [
      "torch.Size([8, 1, 28, 28]) torch.Size([8])\n"
     ]
    }
   ],
   "source": [
    "x, y = next(iter(train_dataloader))\n",
    "print(x.shape, y.shape)"
   ]
  },
  {
   "cell_type": "code",
   "execution_count": 48,
   "metadata": {},
   "outputs": [],
   "source": [
    "# Evaluation function: similar to the training loop, except we don't need to compute any gradient / backprop\n",
    "def eval_mlp_classifier(model, eval_dataloader):\n",
    "    \n",
    "    # Set the model in 'evaluation' mode (this disables some layers (batch norm, dropout...) which are not needed when testing)\n",
    "    model.eval() \n",
    "\n",
    "    # In evaluation phase, we don't need to compute gradients (for memory efficiency)\n",
    "    with torch.no_grad():\n",
    "        # initialize the total and correct number of labels to compute the accuracy\n",
    "        correct_labels = 0\n",
    "        total_labels = 0\n",
    "        \n",
    "        # Iterate over the dataset using the dataloader\n",
    "        for images, labels in eval_dataloader:\n",
    "\n",
    "            # Get the predicted labels\n",
    "            images = images.reshape(images.shape[0], -1)\n",
    "            y_predicted = model(images)\n",
    "            \n",
    "            # To get the predicted labels, we need to get the max over all possible classes\n",
    "            _, label_predicted = torch.max(y_predicted.data, 1)\n",
    "            \n",
    "            # Compute accuracy: count the total number of samples, and the correct labels (compare the true and predicted labels)\n",
    "            total_labels += labels.size(0)\n",
    "            correct_labels += (label_predicted == labels).sum().item()\n",
    "    \n",
    "    accuracy = 100 * correct_labels / total_labels\n",
    "    \n",
    "    return accuracy"
   ]
  },
  {
   "cell_type": "code",
   "execution_count": 49,
   "metadata": {},
   "outputs": [],
   "source": [
    "# TO DO: write the training function with validation\n",
    "# - the overall training procedure is similar to what was done in lab 3 (reuse it)\n",
    "# - at the end of each epoch, compute the accuracy of the model on the validation subset using the provided evaluation function\n",
    "# - then, check if this accuracy is increasing: if so, then we save the current model as the 'model_opt'.\n",
    "# - return as output the trained model, the training loss, and the validation accuracy\n",
    "\n",
    "def training_mlp_classifier(model, train_dataloader,eval_dataloader, num_epochs, loss_fn, learning_rate, verbose=True):\n",
    " \n",
    "   # Make a copy of the model (avoid changing the model outside this function)\n",
    "    model_tr = copy.deepcopy(model)\n",
    "    \n",
    "    # Set the model in 'training' mode (ensures all parameters' gradients are computed - it's like setting 'requires_grad=True' for all parameters)\n",
    "    model_tr.train()\n",
    "    \n",
    "    # Define the optimizer\n",
    "    optimizer = torch.optim.SGD(model_tr.parameters(), lr=learning_rate)\n",
    "    \n",
    "    # Initialize a list to record the training loss over epochs\n",
    "    loss_all_epochs = []\n",
    "    val_accuracy = []\n",
    "    # Training loop\n",
    "    for epoch in range(num_epochs):\n",
    "        # Initialize the training loss for the current epoch\n",
    "        loss_current_epoch = 0\n",
    "        \n",
    "        # Iterate over batches using the dataloader\n",
    "        for batch_index, (images, labels) in enumerate(train_dataloader):\n",
    "            \n",
    "            # TO DO: write the training procedure for each batch. This should consist of:\n",
    "            # - vectorizing the images (size should be (batch_size, input_size))\n",
    "            # - apply the forward pass (calculate the predicted labels from the vectorized images)\n",
    "            # - use the 'backward' method to compute the gradients\n",
    "            # - apply the gradient descent algorithm\n",
    "            # Also think of updating the loss at the current epoch\n",
    "            y_pred = model_tr(images.view(-1, 784))\n",
    "            l = loss_fn(y_pred, labels)\n",
    "            optimizer.zero_grad()\n",
    "            l.backward()\n",
    "            loss_current_epoch += l.item()\n",
    "            optimizer.step() #update parameters\n",
    "\n",
    "        # At the end of each epoch, record and display the loss over all batches\n",
    "        loss_all_epochs.append(loss_current_epoch)\n",
    "        accuracy = eval_mlp_classifier(model_tr, eval_dataloader)\n",
    "        val_accuracy.append(accuracy)\n",
    "        if verbose:\n",
    "            print('Epoch [{}/{}], Loss: {:.4f}, validation accuracy : {:.4f}'.format(epoch+1, num_epochs, loss_current_epoch, accuracy))\n",
    "        \n",
    "    return model_tr, loss_all_epochs, val_accuracy"
   ]
  },
  {
   "cell_type": "code",
   "execution_count": 51,
   "metadata": {},
   "outputs": [
    {
     "name": "stdout",
     "output_type": "stream",
     "text": [
      "Epoch [1/30], Loss: 73.8617, validation accuracy : 42.0000\n",
      "Epoch [2/30], Loss: 61.1991, validation accuracy : 46.0000\n",
      "Epoch [3/30], Loss: 51.0924, validation accuracy : 64.0000\n",
      "Epoch [4/30], Loss: 41.9848, validation accuracy : 68.0000\n",
      "Epoch [5/30], Loss: 34.4384, validation accuracy : 64.0000\n",
      "Epoch [6/30], Loss: 28.3951, validation accuracy : 68.0000\n",
      "Epoch [7/30], Loss: 24.1999, validation accuracy : 70.0000\n",
      "Epoch [8/30], Loss: 20.3105, validation accuracy : 70.0000\n",
      "Epoch [9/30], Loss: 17.8171, validation accuracy : 72.0000\n",
      "Epoch [10/30], Loss: 15.5664, validation accuracy : 74.0000\n",
      "Epoch [11/30], Loss: 13.3544, validation accuracy : 68.0000\n",
      "Epoch [12/30], Loss: 11.6752, validation accuracy : 74.0000\n",
      "Epoch [13/30], Loss: 10.4105, validation accuracy : 78.0000\n",
      "Epoch [14/30], Loss: 9.2094, validation accuracy : 76.0000\n",
      "Epoch [15/30], Loss: 8.1850, validation accuracy : 76.0000\n",
      "Epoch [16/30], Loss: 7.1458, validation accuracy : 76.0000\n",
      "Epoch [17/30], Loss: 6.3113, validation accuracy : 76.0000\n",
      "Epoch [18/30], Loss: 5.8699, validation accuracy : 76.0000\n",
      "Epoch [19/30], Loss: 5.1049, validation accuracy : 74.0000\n",
      "Epoch [20/30], Loss: 4.7135, validation accuracy : 74.0000\n",
      "Epoch [21/30], Loss: 4.2374, validation accuracy : 72.0000\n",
      "Epoch [22/30], Loss: 3.8730, validation accuracy : 76.0000\n",
      "Epoch [23/30], Loss: 3.6605, validation accuracy : 76.0000\n",
      "Epoch [24/30], Loss: 3.2404, validation accuracy : 72.0000\n",
      "Epoch [25/30], Loss: 3.0253, validation accuracy : 72.0000\n",
      "Epoch [26/30], Loss: 2.7152, validation accuracy : 74.0000\n",
      "Epoch [27/30], Loss: 2.5349, validation accuracy : 72.0000\n",
      "Epoch [28/30], Loss: 2.5432, validation accuracy : 74.0000\n",
      "Epoch [29/30], Loss: 2.2526, validation accuracy : 72.0000\n",
      "Epoch [30/30], Loss: 2.2021, validation accuracy : 74.0000\n"
     ]
    }
   ],
   "source": [
    "# TO DO:\n",
    "# - Train the model with validation (Cross Entropy loss, 30 epochs, learning rate = 0.01)\n",
    "# - Plot the (training) loss and (validation) accuracy over epochs\n",
    "lr = 0.01\n",
    "num_epochs = 30\n",
    "loss_fn = nn.CrossEntropyLoss()\n",
    "history = training_mlp_classifier(model, train_dataloader,test_dataloader, num_epochs, loss_fn, lr, verbose=True)"
   ]
  },
  {
   "cell_type": "markdown",
   "metadata": {},
   "source": [
    "<span style=\"color:red\">**Q1**</span> Put the plot above (training loss and validation accuracy) in your report. What do you remark? Is it beneficial to do early stopping?\n",
    "\n",
    "## Adjusting the model's capacity\n",
    "\n",
    "The number of layers in the network is expected to have a major impact on performance (accuracy). Too few parameters might yield bad performance (underfitting), while too many might lead to overfitting. Therefore, we can train and test several networks, where we change the number of hidden layers."
   ]
  },
  {
   "cell_type": "code",
   "execution_count": 60,
   "metadata": {},
   "outputs": [
    {
     "data": {
      "image/png": "[encoded data removed]",
      "text/plain": [
       "<Figure size 640x480 with 2 Axes>"
      ]
     },
     "metadata": {},
     "output_type": "display_data"
    }
   ],
   "source": [
    "fig=plt.figure()\n",
    "ax1 = plt.subplot(211)\n",
    "ax2 = plt.subplot(212, sharex = ax1)\n",
    "ax1.plot(range(30), history[1])\n",
    "ax1.set_ylabel(\"Loss\")\n",
    "ax2.plot(range(30), history[2])\n",
    "ax2.set_xlabel(\"Number of epochs\")\n",
    "ax2.set_ylabel(\"Accuracy\")\n",
    "ax1.get_shared_x_axes().join(ax1, ax2)\n",
    "plt.show()"
   ]
  },
  {
   "cell_type": "code",
   "execution_count": 86,
   "metadata": {},
   "outputs": [],
   "source": [
    "# TO DO: write the MLP classifier ('__init__' and 'forward' methods) with a variable number of hidden layers.\n",
    "# hint: you can create list of layers using the 'torch.nn.ModuleList' function (and a 'for' loop).\n",
    "# More info at: https://pytorch.org/docs/stable/generated/torch.nn.ModuleList.html\n",
    "class MLPClassifier(nn.Module):\n",
    "    def __init__(self, input_size, hidden_size, output_size, num_layers, act_fn):\n",
    "        super(MLPClassifier, self).__init__()\n",
    "        self.input_layer = nn.Sequential(nn.Linear(input_size, hidden_size), act_fn)\n",
    "        self.linears = nn.ModuleList([nn.Linear(hidden_size, hidden_size) for i in range(num_layers)])\n",
    "        self.output_layer = nn.Linear(hidden_size, output_size)\n",
    "    def forward(self, x):\n",
    "        x = self.input_layer(x)\n",
    "        for layer in self.linears:\n",
    "            x = act_fn(layer(x))\n",
    "        x = self.output_layer(x)\n",
    "        return x"
   ]
  },
  {
   "cell_type": "code",
   "execution_count": 91,
   "metadata": {},
   "outputs": [
    {
     "data": {
      "text/plain": [
       "MLPClassifier(\n",
       "  (input_layer): Sequential(\n",
       "    (0): Linear(in_features=784, out_features=10, bias=True)\n",
       "    (1): ReLU()\n",
       "  )\n",
       "  (linears): ModuleList(\n",
       "    (0): Linear(in_features=10, out_features=10, bias=True)\n",
       "    (1): Linear(in_features=10, out_features=10, bias=True)\n",
       "    (2): Linear(in_features=10, out_features=10, bias=True)\n",
       "    (3): Linear(in_features=10, out_features=10, bias=True)\n",
       "    (4): Linear(in_features=10, out_features=10, bias=True)\n",
       "    (5): Linear(in_features=10, out_features=10, bias=True)\n",
       "    (6): Linear(in_features=10, out_features=10, bias=True)\n",
       "    (7): Linear(in_features=10, out_features=10, bias=True)\n",
       "    (8): Linear(in_features=10, out_features=10, bias=True)\n",
       "    (9): Linear(in_features=10, out_features=10, bias=True)\n",
       "  )\n",
       "  (output_layer): Linear(in_features=10, out_features=10, bias=True)\n",
       ")"
      ]
     },
     "execution_count": 91,
     "metadata": {},
     "output_type": "execute_result"
    }
   ],
   "source": [
    "model2 = MLPClassifier(784, 10, 10, 10, act_fn)\n",
    "model2.apply(init_weights)"
   ]
  },
  {
   "cell_type": "code",
   "execution_count": 95,
   "metadata": {},
   "outputs": [
    {
     "name": "stdout",
     "output_type": "stream",
     "text": [
      "Number of hidden layers : 0\n",
      "Epoch [1/30], Loss: 73.1977, validation accuracy : 32.0000\n",
      "Epoch [2/30], Loss: 57.2585, validation accuracy : 38.0000\n",
      "Epoch [3/30], Loss: 46.2308, validation accuracy : 46.0000\n",
      "Epoch [4/30], Loss: 36.7318, validation accuracy : 42.0000\n",
      "Epoch [5/30], Loss: 29.9433, validation accuracy : 54.0000\n",
      "Epoch [6/30], Loss: 24.2145, validation accuracy : 60.0000\n",
      "Epoch [7/30], Loss: 19.5462, validation accuracy : 60.0000\n",
      "Epoch [8/30], Loss: 15.9372, validation accuracy : 72.0000\n",
      "Epoch [9/30], Loss: 13.7237, validation accuracy : 64.0000\n",
      "Epoch [10/30], Loss: 11.6109, validation accuracy : 64.0000\n",
      "Epoch [11/30], Loss: 10.1782, validation accuracy : 76.0000\n",
      "Epoch [12/30], Loss: 8.8668, validation accuracy : 70.0000\n",
      "Epoch [13/30], Loss: 7.4603, validation accuracy : 74.0000\n",
      "Epoch [14/30], Loss: 6.6091, validation accuracy : 74.0000\n",
      "Epoch [15/30], Loss: 5.6918, validation accuracy : 72.0000\n",
      "Epoch [16/30], Loss: 5.0189, validation accuracy : 80.0000\n",
      "Epoch [17/30], Loss: 4.4243, validation accuracy : 80.0000\n",
      "Epoch [18/30], Loss: 4.0864, validation accuracy : 80.0000\n",
      "Epoch [19/30], Loss: 3.6320, validation accuracy : 80.0000\n",
      "Epoch [20/30], Loss: 3.2636, validation accuracy : 80.0000\n",
      "Epoch [21/30], Loss: 3.0203, validation accuracy : 80.0000\n",
      "Epoch [22/30], Loss: 2.6839, validation accuracy : 80.0000\n",
      "Epoch [23/30], Loss: 2.4790, validation accuracy : 80.0000\n",
      "Epoch [24/30], Loss: 2.3054, validation accuracy : 80.0000\n",
      "Epoch [25/30], Loss: 2.1393, validation accuracy : 80.0000\n",
      "Epoch [26/30], Loss: 1.9975, validation accuracy : 80.0000\n",
      "Epoch [27/30], Loss: 1.8405, validation accuracy : 80.0000\n",
      "Epoch [28/30], Loss: 1.7224, validation accuracy : 80.0000\n",
      "Epoch [29/30], Loss: 1.6107, validation accuracy : 80.0000\n",
      "Epoch [30/30], Loss: 1.5422, validation accuracy : 80.0000\n",
      "Number of hidden layers : 1\n",
      "Epoch [1/30], Loss: 74.2460, validation accuracy : 32.0000\n",
      "Epoch [2/30], Loss: 64.8671, validation accuracy : 30.0000\n",
      "Epoch [3/30], Loss: 58.9624, validation accuracy : 44.0000\n",
      "Epoch [4/30], Loss: 53.9559, validation accuracy : 50.0000\n",
      "Epoch [5/30], Loss: 47.8803, validation accuracy : 52.0000\n",
      "Epoch [6/30], Loss: 41.8092, validation accuracy : 54.0000\n",
      "Epoch [7/30], Loss: 36.0540, validation accuracy : 58.0000\n",
      "Epoch [8/30], Loss: 32.3115, validation accuracy : 56.0000\n",
      "Epoch [9/30], Loss: 28.7180, validation accuracy : 64.0000\n",
      "Epoch [10/30], Loss: 25.4432, validation accuracy : 64.0000\n",
      "Epoch [11/30], Loss: 22.4153, validation accuracy : 64.0000\n",
      "Epoch [12/30], Loss: 19.6133, validation accuracy : 70.0000\n",
      "Epoch [13/30], Loss: 17.7484, validation accuracy : 66.0000\n",
      "Epoch [14/30], Loss: 15.9393, validation accuracy : 72.0000\n",
      "Epoch [15/30], Loss: 14.4122, validation accuracy : 70.0000\n",
      "Epoch [16/30], Loss: 13.2405, validation accuracy : 72.0000\n",
      "Epoch [17/30], Loss: 12.1019, validation accuracy : 70.0000\n",
      "Epoch [18/30], Loss: 10.7976, validation accuracy : 70.0000\n",
      "Epoch [19/30], Loss: 9.8612, validation accuracy : 74.0000\n",
      "Epoch [20/30], Loss: 8.9277, validation accuracy : 74.0000\n",
      "Epoch [21/30], Loss: 8.0377, validation accuracy : 74.0000\n",
      "Epoch [22/30], Loss: 7.4216, validation accuracy : 72.0000\n",
      "Epoch [23/30], Loss: 6.7532, validation accuracy : 76.0000\n",
      "Epoch [24/30], Loss: 6.1427, validation accuracy : 72.0000\n",
      "Epoch [25/30], Loss: 5.6765, validation accuracy : 78.0000\n",
      "Epoch [26/30], Loss: 5.2732, validation accuracy : 78.0000\n",
      "Epoch [27/30], Loss: 4.8777, validation accuracy : 76.0000\n",
      "Epoch [28/30], Loss: 4.5005, validation accuracy : 74.0000\n",
      "Epoch [29/30], Loss: 4.0402, validation accuracy : 76.0000\n",
      "Epoch [30/30], Loss: 3.7079, validation accuracy : 76.0000\n",
      "Number of hidden layers : 2\n",
      "Epoch [1/30], Loss: 76.0194, validation accuracy : 14.0000\n",
      "Epoch [2/30], Loss: 69.4514, validation accuracy : 28.0000\n",
      "Epoch [3/30], Loss: 64.7987, validation accuracy : 36.0000\n",
      "Epoch [4/30], Loss: 60.5314, validation accuracy : 40.0000\n",
      "Epoch [5/30], Loss: 56.2873, validation accuracy : 50.0000\n",
      "Epoch [6/30], Loss: 50.4372, validation accuracy : 48.0000\n",
      "Epoch [7/30], Loss: 43.7097, validation accuracy : 58.0000\n",
      "Epoch [8/30], Loss: 36.6726, validation accuracy : 60.0000\n",
      "Epoch [9/30], Loss: 30.4933, validation accuracy : 68.0000\n",
      "Epoch [10/30], Loss: 24.2974, validation accuracy : 64.0000\n",
      "Epoch [11/30], Loss: 21.0097, validation accuracy : 70.0000\n",
      "Epoch [12/30], Loss: 17.5639, validation accuracy : 66.0000\n",
      "Epoch [13/30], Loss: 14.8111, validation accuracy : 70.0000\n",
      "Epoch [14/30], Loss: 12.4215, validation accuracy : 70.0000\n",
      "Epoch [15/30], Loss: 11.2675, validation accuracy : 70.0000\n",
      "Epoch [16/30], Loss: 10.0620, validation accuracy : 70.0000\n",
      "Epoch [17/30], Loss: 8.4633, validation accuracy : 68.0000\n",
      "Epoch [18/30], Loss: 7.5115, validation accuracy : 72.0000\n",
      "Epoch [19/30], Loss: 6.7836, validation accuracy : 68.0000\n",
      "Epoch [20/30], Loss: 6.1818, validation accuracy : 72.0000\n",
      "Epoch [21/30], Loss: 5.6755, validation accuracy : 66.0000\n",
      "Epoch [22/30], Loss: 5.1902, validation accuracy : 74.0000\n",
      "Epoch [23/30], Loss: 4.9514, validation accuracy : 66.0000\n",
      "Epoch [24/30], Loss: 4.3923, validation accuracy : 70.0000\n",
      "Epoch [25/30], Loss: 3.8768, validation accuracy : 70.0000\n",
      "Epoch [26/30], Loss: 3.6552, validation accuracy : 70.0000\n",
      "Epoch [27/30], Loss: 3.3391, validation accuracy : 66.0000\n",
      "Epoch [28/30], Loss: 3.2047, validation accuracy : 70.0000\n",
      "Epoch [29/30], Loss: 2.9143, validation accuracy : 70.0000\n",
      "Epoch [30/30], Loss: 2.7382, validation accuracy : 70.0000\n"
     ]
    }
   ],
   "source": [
    "# TO DO:\n",
    "# - Define the general parameters of the MLP classifier model and training (same as before)\n",
    "# - Train and evaluate the model for a variable number of hidden layers (ranging in [0, 1, 2])\n",
    "# - Plot the test accuracy as a function of the number of hidden layers\n",
    "total_accuracy = []\n",
    "for hidden_layer in range(3):\n",
    "    print(f\"Number of hidden layers : {hidden_layer}\")\n",
    "    model = MLPClassifier(784, 10, 10, hidden_layer, act_fn)\n",
    "    model.apply(init_weights)\n",
    "    history = training_mlp_classifier(model, train_dataloader,test_dataloader,\n",
    "                                   num_epochs, loss_fn, lr, verbose=True)\n",
    "    total_accuracy.append(max(history[2]))"
   ]
  },
  {
   "cell_type": "markdown",
   "metadata": {},
   "source": [
    "<span style=\"color:red\">**Q2**</span> Put the plot above (test accuracy as a function of number of hidden layers) in your report. What do you observe? What's the best model to use?"
   ]
  },
  {
   "cell_type": "code",
   "execution_count": 99,
   "metadata": {},
   "outputs": [
    {
     "data": {
      "image/png": "[encoded data removed]",
      "text/plain": [
       "<Figure size 640x480 with 1 Axes>"
      ]
     },
     "metadata": {},
     "output_type": "display_data"
    }
   ],
   "source": [
    "plt.plot(range(3), total_accuracy, 'b-o');"
   ]
  },
  {
   "cell_type": "code",
   "execution_count": null,
   "metadata": {},
   "outputs": [],
   "source": []
  }
 ],
 "metadata": {
  "kernelspec": {
   "display_name": "Python 3 (ipykernel)",
   "language": "python",
   "name": "python3"
  },
  "language_info": {
   "codemirror_mode": {
    "name": "ipython",
    "version": 3
   },
   "file_extension": ".py",
   "mimetype": "text/x-python",
   "name": "python",
   "nbconvert_exporter": "python",
   "pygments_lexer": "ipython3",
   "version": "3.10.0"
  }
 },
 "nbformat": 4,
 "nbformat_minor": 4
}
