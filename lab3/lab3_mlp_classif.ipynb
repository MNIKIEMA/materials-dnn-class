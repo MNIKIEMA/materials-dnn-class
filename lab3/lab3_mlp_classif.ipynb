{
 "cells": [
  {
   "cell_type": "markdown",
   "metadata": {},
   "source": [
    "# Image classification with multilayer perceptron (MLP)\n",
    "\n",
    "In this lab we design and train our first MLP network, and we use it for image classification."
   ]
  },
  {
   "cell_type": "code",
   "execution_count": 15,
   "metadata": {},
   "outputs": [],
   "source": [
    "import os\n",
    "import random\n",
    "import numpy as np\n",
    "import torch \n",
    "import torchvision\n",
    "import torchvision.transforms as transforms\n",
    "import torch.nn as nn\n",
    "import matplotlib.pyplot as plt\n",
    "from skimage import io, transform\n",
    "from torch.utils.data import DataLoader, random_split, Subset\n",
    "import copy"
   ]
  },
  {
   "cell_type": "markdown",
   "metadata": {},
   "source": [
    "## Dataset\n",
    "\n",
    "In this lab, we use the [MNIST](https://en.wikipedia.org/wiki/MNIST_database) dataset, which is a large image dataset of hand-written digits.\n",
    "\n",
    "<center><a href=\"https://en.wikipedia.org/wiki/MNIST_database\">\n",
    "    <img src=\"https://upload.wikimedia.org/wikipedia/commons/2/27/MnistExamples.png\"></a></center>\n",
    "\n",
    "Just like some other widely-used datasets, MNIST can be downloaded directly from Pytorch, and includes specific commands to create a `Dataset` object, thus you don't have to do it manually as we did in lab 1."
   ]
  },
  {
   "cell_type": "code",
   "execution_count": 16,
   "metadata": {},
   "outputs": [
    {
     "name": "stdout",
     "output_type": "stream",
     "text": [
      "Number of classes in the dataset: 10\n",
      "Number of images in the train dataset 400\n",
      "Number of images in the train dataset 50\n"
     ]
    }
   ],
   "source": [
    "# Define the data repository\n",
    "data_dir = 'data/'\n",
    "\n",
    "# Choose one (or several) transform(s) to preprocess the data\n",
    "data_transforms = torchvision.transforms.Compose([transforms.ToTensor(), transforms.Normalize((0.1307,), (0.3081,))])\n",
    "\n",
    "# Create a Dataset (you can download the data by setting 'download=True')\n",
    "train_data = torchvision.datasets.MNIST(data_dir, train=True, download=True, transform=data_transforms)\n",
    "test_data = torchvision.datasets.MNIST(data_dir, train=False, download=True, transform=data_transforms)\n",
    "num_classes = len(train_data.classes)\n",
    "print('Number of classes in the dataset:', num_classes)\n",
    "\n",
    "# We are not going to work with the full dataset (which is very big), so we only keep small train and test subsets.\n",
    "train_data = Subset(train_data, torch.arange(400))\n",
    "test_data = Subset(test_data, torch.arange(50))\n",
    "print('Number of images in the train dataset', len(train_data))\n",
    "print('Number of images in the train dataset', len(test_data))"
   ]
  },
  {
   "cell_type": "code",
   "execution_count": 17,
   "metadata": {},
   "outputs": [
    {
     "name": "stdout",
     "output_type": "stream",
     "text": [
      "torch.Size([1, 28, 28])\n",
      "Image label= 5\n"
     ]
    },
    {
     "data": {
      "image/png": "[encoded data removed]",
      "text/plain": [
       "<Figure size 640x480 with 1 Axes>"
      ]
     },
     "metadata": {},
     "output_type": "display_data"
    }
   ],
   "source": [
    "# Fetch one data pair (one image and the corresponding label)\n",
    "image, label = train_data[0]\n",
    "print(image.shape)\n",
    "print('Image label=', label)\n",
    "\n",
    "# You should note that the size of the image is [1, 28, 28], which corresponds to [num_channels, height, width]\n",
    "# Indeed, MNIST images are in black and white so there is only 1 color channel.\n",
    "# To plot this image, we need to remove this channel dimension by using squeeze()\n",
    "\n",
    "plt.figure()\n",
    "plt.imshow(image.squeeze(), cmap='gray_r')\n",
    "plt.xticks([]), plt.yticks([])\n",
    "plt.show()"
   ]
  },
  {
   "cell_type": "code",
   "execution_count": 18,
   "metadata": {},
   "outputs": [
    {
     "data": {
      "text/plain": [
       "50"
      ]
     },
     "execution_count": 18,
     "metadata": {},
     "output_type": "execute_result"
    }
   ],
   "source": [
    "# TO DO:\n",
    "# - create two dataloaders (for the training and testing subsets) with a batch size of 8\n",
    "# - print the number of batches in the training subset\n",
    "batch_size=8\n",
    "train_dataloader = DataLoader(dataset = train_data, batch_size=8, shuffle=True)\n",
    "len(train_dataloader)"
   ]
  },
  {
   "cell_type": "code",
   "execution_count": 19,
   "metadata": {},
   "outputs": [
    {
     "name": "stdout",
     "output_type": "stream",
     "text": [
      "torch.Size([8, 1, 28, 28])\n",
      "torch.Size([8])\n"
     ]
    }
   ],
   "source": [
    "# Get a batch of images and corresponding labels from the train dataloader\n",
    "batch_example = next(iter(train_dataloader))\n",
    "image_batch_example = batch_example[0]\n",
    "labels_batch_example = batch_example[1]\n",
    "\n",
    "# Print the size of the batch of images and labels\n",
    "print(image_batch_example.shape)\n",
    "print(labels_batch_example.shape)"
   ]
  },
  {
   "cell_type": "code",
   "execution_count": 20,
   "metadata": {},
   "outputs": [
    {
     "data": {
      "image/png": "[encoded data removed]",
      "text/plain": [
       "<Figure size 1000x600 with 8 Axes>"
      ]
     },
     "metadata": {},
     "output_type": "display_data"
    }
   ],
   "source": [
    "# Plot the images in the batch (along with the corresponding label)\n",
    "plt.figure(figsize = (10,6))\n",
    "for ib in range(batch_size):\n",
    "    plt.subplot(batch_size // 4, 4, ib+1)\n",
    "    plt.imshow(image_batch_example[ib, :].squeeze(), cmap='gray_r')\n",
    "    plt.xticks([]), plt.yticks([])\n",
    "    plt.title('Image label = ' + str(labels_batch_example[ib].item()))\n",
    "plt.show()"
   ]
  },
  {
   "cell_type": "markdown",
   "metadata": {},
   "source": [
    "## MLP network\n",
    "\n",
    "A typical MLP network is composed of several layers:\n",
    "\n",
    "- an *input* layer, which takes a batch of vectors and computes the first hidden representation.\n",
    "- one or several *hidden* layers.\n",
    "- an *output* layer, which computes the output of the network.\n",
    "\n",
    "Each layer consists of a linear part and a non-linear *activation* functions (except for the output layer, which usually don't use an activation function). There are many non-linear activation functions in Pytorch, check the [documentation](https://pytorch.org/docs/stable/nn.html#non-linear-activations-weighted-sum-nonlinearity) for a complete overview. A network is said to be *deep* if it has at least 3 layers (input, at least one hidden, and output).\n",
    "\n",
    "<center><a href=\"https://www.researchgate.net/publication/309592737_Classification_of_VoIP_and_non-VoIP_traffic_using_machine_learning_approaches\">\n",
    "    <img src=\"https://www.researchgate.net/profile/Mouhammd-Alkasassbeh/publication/309592737/figure/fig2/AS:423712664100865@1478032379613/MultiLayer-Perceptron-MLP-sturcture-334-MultiLayer-Perceptron-Classifier-MultiLayer.png\"></a></center>\n",
    "\n",
    "**Note**: Since an MLP manipulates vectors (= 1D-tensors) as inputs, in image processing we first have to transform our images into vectors. For instance, if each image is a tensor of size `[1, 28, 28]`, then we have to reshape it into a tensor of size `[1x28x28] = [784]`.\n",
    "\n",
    "\n",
    "### Example\n",
    "\n",
    "First, we will write a succession of operations which correspond to applying the MLP classifier on the example batch `image_batch_example`."
   ]
  },
  {
   "cell_type": "code",
   "execution_count": 21,
   "metadata": {},
   "outputs": [],
   "source": [
    "# TO DO: reshape the image_batch_example into a batch of vectors (vectorized images):\n",
    "# 'image_batch_example' has size [batch_size, 1, 28, 28]\n",
    "# 'vectorized_batch' should have size [batch_size, 1*28*28]\n",
    "vectorized_batch = image_batch_example.view(-1, 784)"
   ]
  },
  {
   "cell_type": "code",
   "execution_count": 22,
   "metadata": {},
   "outputs": [
    {
     "name": "stdout",
     "output_type": "stream",
     "text": [
      "torch.Size([8, 10])\n"
     ]
    }
   ],
   "source": [
    "# Now we create the input layer (linear and activation) and we pass the vectorized batch to it\n",
    "input_size = vectorized_batch.shape[-1]\n",
    "hidden_size = 10\n",
    "input_layer = nn.Sequential(nn.Linear(input_size, hidden_size), nn.Sigmoid())\n",
    "y = input_layer(vectorized_batch)\n",
    "print(y.shape)"
   ]
  },
  {
   "cell_type": "code",
   "execution_count": 23,
   "metadata": {},
   "outputs": [
    {
     "name": "stdout",
     "output_type": "stream",
     "text": [
      "torch.Size([8, 10])\n"
     ]
    }
   ],
   "source": [
    "# TO DO: create the two other layers (hidden_layer and output_layer):\n",
    "# - the hidden layer goes from 'hidden_size' to 'hidden_size', and uses a Sigmoid activation function\n",
    "# - the output layer goes from 'hidden_size' to 'output_size', which is the number of classes in the dataset (it uses no activation function)\n",
    "# - Compute z = hidden_layer(y) and out=output_layer(z). Print the size of 'out'.\n",
    "hidden_layers = nn.Sequential(nn.Linear(hidden_size, hidden_size), nn.Sigmoid())\n",
    "output_layer = nn.Sequential(nn.Linear(hidden_size, hidden_size))\n",
    "z = hidden_layers(y)\n",
    "out = output_layer(z)\n",
    "print(out.shape)"
   ]
  },
  {
   "cell_type": "markdown",
   "metadata": {},
   "source": [
    "From what we have done above, two important remarks can be made:\n",
    "\n",
    "- The output `out` has size `[batch_size, num_classes]` while the true labels `labels_batch_example` has size `[batch_size]`. This is because `out` contains a predicted probability for each class, while `labels_batch_example` simply contains the true labels.\n",
    "- In classification tasks, we want to output probabilities per class. However, nothing ensures that `out` corresponds to probabilities, since it is not normalized and we didn't use any output activation function (values can be negative and not sum up to 1).\n",
    "\n",
    "However, when training a classification network, we generally use the [Cross Entropy](https://pytorch.org/docs/stable/generated/torch.nn.CrossEntropyLoss.html#torch.nn.CrossEntropyLoss) loss function, which alleviates these two issues. This loss is optimized for handling true labels instead of true probabilities per class, so you don't have to worry about it. Besides, it will automatically apply a [Softmax](https://pytorch.org/docs/stable/generated/torch.nn.Softmax.html) non-linearity to the predicted outputs, in order to normalize them as probabilities per class.\n",
    "\n",
    "**Note**: Instead of Cross Entropy, you can use the [Negative log-likelihood](https://pytorch.org/docs/stable/generated/torch.nn.NLLLoss.html#torch.nn.NLLLoss) similarly. It will also solve the first problem, but then you need to manually add a [log Softmax](https://pytorch.org/docs/stable/generated/torch.nn.LogSoftmax.html#torch.nn.LogSoftmax) as output activation to normalize the outputs."
   ]
  },
  {
   "cell_type": "code",
   "execution_count": 24,
   "metadata": {},
   "outputs": [
    {
     "name": "stdout",
     "output_type": "stream",
     "text": [
      "2.476112127304077\n"
     ]
    }
   ],
   "source": [
    "# Choose Cross Entropy as loss function\n",
    "loss_fn = nn.CrossEntropyLoss()\n",
    "\n",
    "# Compute the error between the predicted labels 'out' and true labels 'labels_batch_example'\n",
    "loss_batch = loss_fn(out, labels_batch_example)\n",
    "print(loss_batch.item())"
   ]
  },
  {
   "cell_type": "markdown",
   "metadata": {},
   "source": [
    "### General module\n",
    "\n",
    "Now, let's create a general MLP classification network. It's a python class that inherits from the general `nn.Module` object, and it should contain at least 2 methods:\n",
    "\n",
    "- `__init__`, which initializes the network when instanciated (creates all the layers and stores some useful parameters if needed).\n",
    "- `forward`, which applies the forward pass (i.e., compute the output 'out' from the input and using the layers).\n",
    "\n",
    "You can add other methods if needed but these two are sufficient for now.\n",
    "\n",
    "**Note**: Remember that Python classes usually define and use some variables/data/tensors/dictionary etc. internally (this includes network layers) called *attributes*: they should be defined in the `__init__` method with a specific structure (the name should start by `self.`, as we did in lab 1). This allows you to access these attributes in other methods, or after defining your network."
   ]
  },
  {
   "cell_type": "code",
   "execution_count": 68,
   "metadata": {},
   "outputs": [],
   "source": [
    "class MLPClassif(nn.Module):\n",
    "    def __init__(self, input_size, hidden_size, output_size, act_fn):\n",
    "        super(MLPClassif, self).__init__()\n",
    "        self.hidden1 = nn.Linear(input_size, hidden_size)\n",
    "        self.hidden2 = nn.Linear(hidden_size, hidden_size)\n",
    "        self.out_layer = nn.Linear(hidden_size, output_size)\n",
    "        self.act_fn = act_fn\n",
    "    \n",
    "    def forward(self, x):\n",
    "        \n",
    "        # TO DO: write the 'forward' method, which computes the output 'out' from the input x\n",
    "        # It should apply sequentially the input, hidden, and output layer, as we did in the example before.\n",
    "        #x = x.view(-1, 784)\n",
    "        x = self.act_fn(self.hidden1(x))\n",
    "        x = self.act_fn(self.hidden2(x))\n",
    "        out = self.out_layer(x)\n",
    "        return out"
   ]
  },
  {
   "cell_type": "code",
   "execution_count": 69,
   "metadata": {},
   "outputs": [],
   "source": [
    "# To DO: Create an MLP classifier with a hidden size of 10 and a Sigmoid activation function\n",
    "model = MLPClassif(784, 10, 10, nn.Sigmoid())"
   ]
  },
  {
   "cell_type": "code",
   "execution_count": 70,
   "metadata": {},
   "outputs": [
    {
     "data": {
      "text/plain": [
       "MLPClassif(\n",
       "  (hidden1): Linear(in_features=784, out_features=10, bias=True)\n",
       "  (hidden2): Linear(in_features=10, out_features=10, bias=True)\n",
       "  (out_layer): Linear(in_features=10, out_features=10, bias=True)\n",
       "  (act_fn): Sigmoid()\n",
       ")"
      ]
     },
     "execution_count": 70,
     "metadata": {},
     "output_type": "execute_result"
    }
   ],
   "source": [
    "# initialization (ensure reproducibility: everybody should have the same results)\n",
    "def init_weights(m):\n",
    "    if isinstance(m, nn.Linear):\n",
    "        torch.nn.init.xavier_uniform_(m.weight.data)\n",
    "        m.bias.data.fill_(0.01)\n",
    "\n",
    "torch.manual_seed(0)\n",
    "model.apply(init_weights)"
   ]
  },
  {
   "cell_type": "code",
   "execution_count": 71,
   "metadata": {},
   "outputs": [
    {
     "data": {
      "text/plain": [
       "<All keys matched successfully>"
      ]
     },
     "execution_count": 71,
     "metadata": {},
     "output_type": "execute_result"
    }
   ],
   "source": [
    "# You can save / load the model's parameters as follow:\n",
    "torch.save(model.state_dict(), 'model_mlp_classif.pt')\n",
    "model.load_state_dict(torch.load('model_mlp_classif.pt'))"
   ]
  },
  {
   "cell_type": "code",
   "execution_count": 72,
   "metadata": {},
   "outputs": [
    {
     "name": "stdout",
     "output_type": "stream",
     "text": [
      "Total number of parameters: 8070\n"
     ]
    }
   ],
   "source": [
    "# A useful command to get the total number of parameters in the model\n",
    "print('Total number of parameters:', sum(p.numel() for p in model.parameters()))"
   ]
  },
  {
   "cell_type": "markdown",
   "metadata": {},
   "source": [
    "<span style=\"color:red\">**Q1**</span> How many parameters are in the network?\n",
    "\n",
    "## Training\n",
    "\n",
    "We now write the function for training the network. It's very similar to what we did in lab 2, except now we process batches of data instead of the whole dataset at each epoch."
   ]
  },
  {
   "cell_type": "code",
   "execution_count": 75,
   "metadata": {},
   "outputs": [],
   "source": [
    "def training_mlp_classifier(model, train_dataloader, num_epochs, loss_fn, learning_rate, verbose=True):\n",
    "\n",
    "    # Make a copy of the model (avoid changing the model outside this function)\n",
    "    model_tr = copy.deepcopy(model)\n",
    "    \n",
    "    # Set the model in 'training' mode (ensures all parameters' gradients are computed - it's like setting 'requires_grad=True' for all parameters)\n",
    "    model_tr.train()\n",
    "    \n",
    "    # Define the optimizer\n",
    "    optimizer = torch.optim.SGD(model_tr.parameters(), lr=learning_rate)\n",
    "    \n",
    "    # Initialize a list to record the training loss over epochs\n",
    "    loss_all_epochs = []\n",
    "    \n",
    "    # Training loop\n",
    "    for epoch in range(num_epochs):\n",
    "        # Initialize the training loss for the current epoch\n",
    "        loss_current_epoch = 0\n",
    "        \n",
    "        # Iterate over batches using the dataloader\n",
    "        for batch_index, (images, labels) in enumerate(train_dataloader):\n",
    "            \n",
    "            # TO DO: write the training procedure for each batch. This should consist of:\n",
    "            # - vectorizing the images (size should be (batch_size, input_size))\n",
    "            # - apply the forward pass (calculate the predicted labels from the vectorized images)\n",
    "            # - use the 'backward' method to compute the gradients\n",
    "            # - apply the gradient descent algorithm\n",
    "            # Also think of updating the loss at the current epoch\n",
    "            y_pred = model_tr(images.view(-1, 784))\n",
    "            l = loss_fn(y_pred, labels)\n",
    "            optimizer.zero_grad()\n",
    "            l.backward()\n",
    "            loss_current_epoch += l.item()\n",
    "            optimizer.step() #update parameters\n",
    "\n",
    "        # At the end of each epoch, record and display the loss over all batches\n",
    "        loss_all_epochs.append(loss_current_epoch)\n",
    "        if verbose:\n",
    "            print('Epoch [{}/{}], Loss: {:.4f}'.format(epoch+1, num_epochs, loss_current_epoch))\n",
    "        \n",
    "    return model_tr, loss_all_epochs"
   ]
  },
  {
   "cell_type": "code",
   "execution_count": 76,
   "metadata": {},
   "outputs": [
    {
     "name": "stdout",
     "output_type": "stream",
     "text": [
      "Epoch [1/30], Loss: 117.7536\n",
      "Epoch [2/30], Loss: 115.5926\n",
      "Epoch [3/30], Loss: 114.2603\n",
      "Epoch [4/30], Loss: 113.2905\n",
      "Epoch [5/30], Loss: 112.4923\n",
      "Epoch [6/30], Loss: 111.7940\n",
      "Epoch [7/30], Loss: 111.1618\n",
      "Epoch [8/30], Loss: 110.5733\n",
      "Epoch [9/30], Loss: 110.0480\n",
      "Epoch [10/30], Loss: 109.5561\n",
      "Epoch [11/30], Loss: 109.0802\n",
      "Epoch [12/30], Loss: 108.6102\n",
      "Epoch [13/30], Loss: 108.1820\n",
      "Epoch [14/30], Loss: 107.7626\n",
      "Epoch [15/30], Loss: 107.3229\n",
      "Epoch [16/30], Loss: 106.9040\n",
      "Epoch [17/30], Loss: 106.4851\n",
      "Epoch [18/30], Loss: 106.0759\n",
      "Epoch [19/30], Loss: 105.6368\n",
      "Epoch [20/30], Loss: 105.2186\n",
      "Epoch [21/30], Loss: 104.7988\n",
      "Epoch [22/30], Loss: 104.3522\n",
      "Epoch [23/30], Loss: 103.9199\n",
      "Epoch [24/30], Loss: 103.4725\n",
      "Epoch [25/30], Loss: 103.0238\n",
      "Epoch [26/30], Loss: 102.5687\n",
      "Epoch [27/30], Loss: 102.0828\n",
      "Epoch [28/30], Loss: 101.6314\n",
      "Epoch [29/30], Loss: 101.1396\n",
      "Epoch [30/30], Loss: 100.6679\n"
     ]
    }
   ],
   "source": [
    "# TO DO: Define the training parameters and train the model\n",
    "# - 30 epochs\n",
    "# - learning rate = 0.01\n",
    "# - loss function: Cross Entropy\n",
    "# After training, save the model parameters and display the loss over epochs\n",
    "num_epochs = 30\n",
    "learning_rate = 0.01\n",
    "loss_fn = nn.CrossEntropyLoss()\n",
    "model_trained, history =training_mlp_classifier(model, train_dataloader, num_epochs,loss_fn , learning_rate, verbose=True)"
   ]
  },
  {
   "cell_type": "code",
   "execution_count": 77,
   "metadata": {},
   "outputs": [
    {
     "data": {
      "text/plain": [
       "[<matplotlib.lines.Line2D at 0x7f065d61cb80>]"
      ]
     },
     "execution_count": 77,
     "metadata": {},
     "output_type": "execute_result"
    },
    {
     "data": {
      "image/png": "[encoded data removed]",
      "text/plain": [
       "<Figure size 640x480 with 1 Axes>"
      ]
     },
     "metadata": {},
     "output_type": "display_data"
    }
   ],
   "source": [
    "plt.plot(range(30), history)"
   ]
  },
  {
   "cell_type": "markdown",
   "metadata": {},
   "source": [
    "<span style=\"color:red\">**Q2**</span> Put the plot above (loss over epochs) in your report. Do you remark something particular?\n",
    "\n",
    "\n",
    "## Evaluation\n",
    "\n",
    "Now the model is trained, we can evaluate it on the test dataset. We do that by predicting the labels using our model, and comparing it with the true labels. This allows us to compute the classification accuracy, which is provided in the function below."
   ]
  },
  {
   "cell_type": "code",
   "execution_count": 78,
   "metadata": {},
   "outputs": [],
   "source": [
    "# Evaluation function: similar to the training loop, except we don't need to compute any gradient / backprop\n",
    "\n",
    "def eval_mlp_classifier(model, eval_dataloader):\n",
    "    \n",
    "    # Set the model in 'evaluation' mode (this disables some layers (batch norm, dropout...) which are not needed when testing)\n",
    "    model.eval() \n",
    "\n",
    "    # In evaluation phase, we don't need to compute gradients (for memory efficiency)\n",
    "    with torch.no_grad():\n",
    "        # initialize the total and correct number of labels to compute the accuracy\n",
    "        correct_labels = 0\n",
    "        total_labels = 0\n",
    "        \n",
    "        # Iterate over the dataset using the dataloader\n",
    "        for images, labels in eval_dataloader:\n",
    "\n",
    "            # Get the predicted labels\n",
    "            images = images.reshape(images.shape[0], -1)\n",
    "            y_predicted = model(images)\n",
    "            \n",
    "            # To get the predicted labels, we need to get the max over all possible classes\n",
    "            _, label_predicted = torch.max(y_predicted.data, 1)\n",
    "            \n",
    "            # Compute accuracy: count the total number of samples, and the correct labels (compare the true and predicted labels)\n",
    "            total_labels += labels.size(0)\n",
    "            correct_labels += (label_predicted == labels).sum().item()\n",
    "    \n",
    "    accuracy = 100 * correct_labels / total_labels\n",
    "    \n",
    "    return accuracy"
   ]
  },
  {
   "cell_type": "code",
   "execution_count": 79,
   "metadata": {},
   "outputs": [
    {
     "data": {
      "text/plain": [
       "68.0"
      ]
     },
     "execution_count": 79,
     "metadata": {},
     "output_type": "execute_result"
    }
   ],
   "source": [
    "# TO DO: Evaluate the model on the test set:\n",
    "# - Instanciate an MLP newtork and load the trained parameters\n",
    "# - Apply the evaluation function using the test dataloader\n",
    "# - Print the test accuracy\n",
    "eval_dataloader = DataLoader(dataset=test_data, batch_size=8, shuffle=True)\n",
    "eval_mlp_classifier(model_trained, eval_dataloader)"
   ]
  },
  {
   "cell_type": "markdown",
   "metadata": {},
   "source": [
    "<span style=\"color:red\">**Q3**</span> What is the accuracy on the test set? Given your answer at Q2, how could you improve it?\n",
    "\n",
    "## Influence of the activation function\n",
    "\n",
    "We used the MLP classifier with a Sigmoid activation function, but another common choice is the [Rectified Linear Unit](https://pytorch.org/docs/stable/generated/torch.nn.ReLU.html?highlight=relu#torch.nn.ReLU). Here we investigate how it performs compared to the Sigmoid-based network."
   ]
  },
  {
   "cell_type": "code",
   "execution_count": 81,
   "metadata": {},
   "outputs": [
    {
     "data": {
      "text/plain": [
       "MLPClassif(\n",
       "  (hidden1): Linear(in_features=784, out_features=10, bias=True)\n",
       "  (hidden2): Linear(in_features=10, out_features=10, bias=True)\n",
       "  (out_layer): Linear(in_features=10, out_features=10, bias=True)\n",
       "  (act_fn): ReLU()\n",
       ")"
      ]
     },
     "execution_count": 81,
     "metadata": {},
     "output_type": "execute_result"
    }
   ],
   "source": [
    "# TO DO: Define an MLP classifier using a ReLU activation. \n",
    "model_relu = MLPClassif(784, 10, 10, nn.ReLU())\n",
    "torch.manual_seed(0)\n",
    "model_relu.apply(init_weights)"
   ]
  },
  {
   "cell_type": "code",
   "execution_count": null,
   "metadata": {},
   "outputs": [],
   "source": [
    "# Initialize the weights (for reproducibility)\n",
    "torch.manual_seed(0)\n",
    "model_relu.apply(init_weights)"
   ]
  },
  {
   "cell_type": "code",
   "execution_count": 82,
   "metadata": {},
   "outputs": [
    {
     "name": "stdout",
     "output_type": "stream",
     "text": [
      "Epoch [1/30], Loss: 111.0200\n",
      "Epoch [2/30], Loss: 87.0971\n",
      "Epoch [3/30], Loss: 63.1073\n",
      "Epoch [4/30], Loss: 43.8110\n",
      "Epoch [5/30], Loss: 32.5900\n",
      "Epoch [6/30], Loss: 26.0662\n",
      "Epoch [7/30], Loss: 21.1643\n",
      "Epoch [8/30], Loss: 18.1869\n",
      "Epoch [9/30], Loss: 15.9250\n",
      "Epoch [10/30], Loss: 13.3611\n",
      "Epoch [11/30], Loss: 11.6802\n",
      "Epoch [12/30], Loss: 10.1836\n",
      "Epoch [13/30], Loss: 9.0038\n",
      "Epoch [14/30], Loss: 7.8001\n",
      "Epoch [15/30], Loss: 6.6990\n",
      "Epoch [16/30], Loss: 6.1856\n",
      "Epoch [17/30], Loss: 5.2585\n",
      "Epoch [18/30], Loss: 4.7580\n",
      "Epoch [19/30], Loss: 4.1173\n",
      "Epoch [20/30], Loss: 3.8827\n",
      "Epoch [21/30], Loss: 3.4320\n",
      "Epoch [22/30], Loss: 3.2127\n",
      "Epoch [23/30], Loss: 2.8881\n",
      "Epoch [24/30], Loss: 2.6619\n",
      "Epoch [25/30], Loss: 2.4818\n",
      "Epoch [26/30], Loss: 2.2787\n",
      "Epoch [27/30], Loss: 2.0922\n",
      "Epoch [28/30], Loss: 1.9625\n",
      "Epoch [29/30], Loss: 1.8065\n",
      "Epoch [30/30], Loss: 1.6929\n"
     ]
    }
   ],
   "source": [
    "# TO DO: Train the network and evaluate it.\n",
    "loss_fn = nn.CrossEntropyLoss()\n",
    "model_rel, history_relu =training_mlp_classifier(model_relu, train_dataloader, num_epochs, loss_fn , learning_rate, verbose=True)"
   ]
  },
  {
   "cell_type": "markdown",
   "metadata": {},
   "source": [
    "<span style=\"color:red\">**Q4**</span> What is the accuracy on the test set with this network? Which one (Sigmoid or ReLU) would you recommend to use?"
   ]
  },
  {
   "cell_type": "code",
   "execution_count": 83,
   "metadata": {},
   "outputs": [
    {
     "data": {
      "text/plain": [
       "90.0"
      ]
     },
     "execution_count": 83,
     "metadata": {},
     "output_type": "execute_result"
    }
   ],
   "source": [
    "eval_mlp_classifier(model_rel, eval_dataloader)"
   ]
  },
  {
   "cell_type": "markdown",
   "metadata": {},
   "source": [
    "## Increasing the model capacity (bonus)\n",
    "\n",
    "In order to improve performance, a straightforward approach is to increase the model capacity, i.e., increase the number of parameters. There are basically two ways to do so: either increase the number of neurons in each layer (*width*) of increase the total number of layers (*depth*). Let's focus here on width."
   ]
  },
  {
   "cell_type": "code",
   "execution_count": 90,
   "metadata": {},
   "outputs": [
    {
     "name": "stdout",
     "output_type": "stream",
     "text": [
      "Total number of parameters for size 3:, 2407\n",
      "Epoch [1/30], Loss: 112.6230\n",
      "Epoch [2/30], Loss: 106.4710\n",
      "Epoch [3/30], Loss: 103.1295\n",
      "Epoch [4/30], Loss: 99.0038\n",
      "Epoch [5/30], Loss: 94.5046\n",
      "Epoch [6/30], Loss: 91.1967\n",
      "Epoch [7/30], Loss: 87.5121\n",
      "Epoch [8/30], Loss: 84.2957\n",
      "Epoch [9/30], Loss: 81.4426\n",
      "Epoch [10/30], Loss: 79.2097\n",
      "Epoch [11/30], Loss: 77.3063\n",
      "Epoch [12/30], Loss: 75.5163\n",
      "Epoch [13/30], Loss: 73.7027\n",
      "Epoch [14/30], Loss: 72.2987\n",
      "Epoch [15/30], Loss: 70.8609\n",
      "Epoch [16/30], Loss: 69.5475\n",
      "Epoch [17/30], Loss: 68.2597\n",
      "Epoch [18/30], Loss: 67.2061\n",
      "Epoch [19/30], Loss: 66.0017\n",
      "Epoch [20/30], Loss: 64.9458\n",
      "Epoch [21/30], Loss: 63.8240\n",
      "Epoch [22/30], Loss: 62.8806\n",
      "Epoch [23/30], Loss: 61.9313\n",
      "Epoch [24/30], Loss: 61.0449\n",
      "Epoch [25/30], Loss: 60.0988\n",
      "Epoch [26/30], Loss: 59.2603\n",
      "Epoch [27/30], Loss: 58.5620\n",
      "Epoch [28/30], Loss: 57.8345\n",
      "Epoch [29/30], Loss: 57.1364\n",
      "Epoch [30/30], Loss: 56.2695\n",
      "Total number of parameters for size 5:, 4015\n",
      "Epoch [1/30], Loss: 108.7695\n",
      "Epoch [2/30], Loss: 97.7303\n",
      "Epoch [3/30], Loss: 93.0875\n",
      "Epoch [4/30], Loss: 89.2589\n",
      "Epoch [5/30], Loss: 85.6502\n",
      "Epoch [6/30], Loss: 82.7259\n",
      "Epoch [7/30], Loss: 79.7012\n",
      "Epoch [8/30], Loss: 77.4440\n",
      "Epoch [9/30], Loss: 74.9688\n",
      "Epoch [10/30], Loss: 72.6940\n",
      "Epoch [11/30], Loss: 70.6776\n",
      "Epoch [12/30], Loss: 68.2585\n",
      "Epoch [13/30], Loss: 65.9009\n",
      "Epoch [14/30], Loss: 63.0378\n",
      "Epoch [15/30], Loss: 58.6445\n",
      "Epoch [16/30], Loss: 55.2842\n",
      "Epoch [17/30], Loss: 52.8765\n",
      "Epoch [18/30], Loss: 50.8360\n",
      "Epoch [19/30], Loss: 49.3067\n",
      "Epoch [20/30], Loss: 47.8506\n",
      "Epoch [21/30], Loss: 46.6901\n",
      "Epoch [22/30], Loss: 45.3661\n",
      "Epoch [23/30], Loss: 44.2584\n",
      "Epoch [24/30], Loss: 43.1533\n",
      "Epoch [25/30], Loss: 41.9988\n",
      "Epoch [26/30], Loss: 41.1783\n",
      "Epoch [27/30], Loss: 40.0398\n",
      "Epoch [28/30], Loss: 39.3973\n",
      "Epoch [29/30], Loss: 38.5750\n",
      "Epoch [30/30], Loss: 37.8764\n",
      "Total number of parameters for size 10:, 8070\n",
      "Epoch [1/30], Loss: 111.0200\n",
      "Epoch [2/30], Loss: 87.0971\n",
      "Epoch [3/30], Loss: 63.1073\n",
      "Epoch [4/30], Loss: 43.8110\n",
      "Epoch [5/30], Loss: 32.5900\n",
      "Epoch [6/30], Loss: 26.0662\n",
      "Epoch [7/30], Loss: 21.1643\n",
      "Epoch [8/30], Loss: 18.1869\n",
      "Epoch [9/30], Loss: 15.9250\n",
      "Epoch [10/30], Loss: 13.3611\n",
      "Epoch [11/30], Loss: 11.6802\n",
      "Epoch [12/30], Loss: 10.1836\n",
      "Epoch [13/30], Loss: 9.0038\n",
      "Epoch [14/30], Loss: 7.8001\n",
      "Epoch [15/30], Loss: 6.6990\n",
      "Epoch [16/30], Loss: 6.1856\n",
      "Epoch [17/30], Loss: 5.2585\n",
      "Epoch [18/30], Loss: 4.7580\n",
      "Epoch [19/30], Loss: 4.1173\n",
      "Epoch [20/30], Loss: 3.8827\n",
      "Epoch [21/30], Loss: 3.4320\n",
      "Epoch [22/30], Loss: 3.2127\n",
      "Epoch [23/30], Loss: 2.8881\n",
      "Epoch [24/30], Loss: 2.6619\n",
      "Epoch [25/30], Loss: 2.4818\n",
      "Epoch [26/30], Loss: 2.2787\n",
      "Epoch [27/30], Loss: 2.0922\n",
      "Epoch [28/30], Loss: 1.9625\n",
      "Epoch [29/30], Loss: 1.8065\n",
      "Epoch [30/30], Loss: 1.6929\n",
      "Total number of parameters for size 50:, 42310\n",
      "Epoch [1/30], Loss: 90.0749\n",
      "Epoch [2/30], Loss: 48.4117\n",
      "Epoch [3/30], Loss: 30.7144\n",
      "Epoch [4/30], Loss: 21.6862\n",
      "Epoch [5/30], Loss: 16.1989\n",
      "Epoch [6/30], Loss: 12.1804\n",
      "Epoch [7/30], Loss: 9.8004\n",
      "Epoch [8/30], Loss: 7.8698\n",
      "Epoch [9/30], Loss: 6.2443\n",
      "Epoch [10/30], Loss: 5.2388\n",
      "Epoch [11/30], Loss: 4.2582\n",
      "Epoch [12/30], Loss: 3.6010\n",
      "Epoch [13/30], Loss: 3.0304\n",
      "Epoch [14/30], Loss: 2.6892\n",
      "Epoch [15/30], Loss: 2.3353\n",
      "Epoch [16/30], Loss: 2.0646\n",
      "Epoch [17/30], Loss: 1.8491\n",
      "Epoch [18/30], Loss: 1.6557\n",
      "Epoch [19/30], Loss: 1.5172\n",
      "Epoch [20/30], Loss: 1.3693\n",
      "Epoch [21/30], Loss: 1.2589\n",
      "Epoch [22/30], Loss: 1.1687\n",
      "Epoch [23/30], Loss: 1.0838\n",
      "Epoch [24/30], Loss: 1.0059\n",
      "Epoch [25/30], Loss: 0.9443\n",
      "Epoch [26/30], Loss: 0.8794\n",
      "Epoch [27/30], Loss: 0.8311\n",
      "Epoch [28/30], Loss: 0.7866\n",
      "Epoch [29/30], Loss: 0.7405\n",
      "Epoch [30/30], Loss: 0.7011\n",
      "Total number of parameters for size 100:, 89610\n",
      "Epoch [1/30], Loss: 86.4476\n",
      "Epoch [2/30], Loss: 39.7575\n",
      "Epoch [3/30], Loss: 23.9778\n",
      "Epoch [4/30], Loss: 16.4093\n",
      "Epoch [5/30], Loss: 12.0598\n",
      "Epoch [6/30], Loss: 8.8916\n",
      "Epoch [7/30], Loss: 7.0436\n",
      "Epoch [8/30], Loss: 5.3875\n",
      "Epoch [9/30], Loss: 4.3335\n",
      "Epoch [10/30], Loss: 3.6765\n",
      "Epoch [11/30], Loss: 2.9524\n",
      "Epoch [12/30], Loss: 2.5145\n",
      "Epoch [13/30], Loss: 2.1099\n",
      "Epoch [14/30], Loss: 1.8896\n",
      "Epoch [15/30], Loss: 1.6494\n",
      "Epoch [16/30], Loss: 1.4971\n",
      "Epoch [17/30], Loss: 1.3315\n",
      "Epoch [18/30], Loss: 1.2080\n",
      "Epoch [19/30], Loss: 1.1140\n",
      "Epoch [20/30], Loss: 1.0273\n",
      "Epoch [21/30], Loss: 0.9304\n",
      "Epoch [22/30], Loss: 0.8769\n",
      "Epoch [23/30], Loss: 0.8197\n",
      "Epoch [24/30], Loss: 0.7647\n",
      "Epoch [25/30], Loss: 0.7202\n",
      "Epoch [26/30], Loss: 0.6765\n",
      "Epoch [27/30], Loss: 0.6414\n",
      "Epoch [28/30], Loss: 0.6059\n",
      "Epoch [29/30], Loss: 0.5746\n",
      "Epoch [30/30], Loss: 0.5475\n"
     ]
    }
   ],
   "source": [
    "# TO DO: define, train and evalute an MLP classifier model with a variable hidden_size:\n",
    "# - hidden_size should range in [3, 5, 10, 50, 100]\n",
    "# - the networks should use ReLU activation, and be trained for 30 epochs\n",
    "# - for each hidden size, print the number of parameters and the test accuracy\n",
    "# Remember to initialize the weights of the network after instanciating it for reproducibility.\n",
    "total_accuracy = []\n",
    "for size in [3, 5, 10, 50, 100]:\n",
    "    model = MLPClassif(784, size, 10, nn.ReLU())\n",
    "    print(f'Total number of parameters for size {size}:, {sum(p.numel() for p in model.parameters())}')\n",
    "    torch.manual_seed(0)\n",
    "    model.apply(init_weights)\n",
    "    loss_fn = nn.CrossEntropyLoss()\n",
    "    model_trained, _ = training_mlp_classifier(model, train_dataloader,\n",
    "                                                    num_epochs, loss_fn , learning_rate, verbose=True)\n",
    "    total_accuracy.append(eval_mlp_classifier(model_trained, eval_dataloader))"
   ]
  },
  {
   "cell_type": "markdown",
   "metadata": {},
   "source": [
    "<span style=\"color:red\">**Q5**</span> Report the test accuracy as a function of `hidden_size`. Which value of `hidden_size` would you use and why?"
   ]
  },
  {
   "cell_type": "code",
   "execution_count": 96,
   "metadata": {},
   "outputs": [
    {
     "data": {
      "text/plain": [
       "Text(0, 0.5, 'Accuracy')"
      ]
     },
     "execution_count": 96,
     "metadata": {},
     "output_type": "execute_result"
    },
    {
     "data": {
      "image/png": "[encoded data removed]",
      "text/plain": [
       "<Figure size 640x480 with 1 Axes>"
      ]
     },
     "metadata": {},
     "output_type": "display_data"
    }
   ],
   "source": [
    "plt.plot([3, 5, 10, 50, 100], total_accuracy, 'b-o')\n",
    "plt.xlabel('Hidden size')\n",
    "plt.ylabel('Accuracy')"
   ]
  },
  {
   "cell_type": "code",
   "execution_count": null,
   "metadata": {},
   "outputs": [],
   "source": []
  }
 ],
 "metadata": {
  "kernelspec": {
   "display_name": "Python 3 (ipykernel)",
   "language": "python",
   "name": "python3"
  },
  "language_info": {
   "codemirror_mode": {
    "name": "ipython",
    "version": 3
   },
   "file_extension": ".py",
   "mimetype": "text/x-python",
   "name": "python",
   "nbconvert_exporter": "python",
   "pygments_lexer": "ipython3",
   "version": "3.10.0"
  }
 },
 "nbformat": 4,
 "nbformat_minor": 4
}
