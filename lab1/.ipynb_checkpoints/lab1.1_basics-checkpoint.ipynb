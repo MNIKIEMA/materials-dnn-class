{
 "cells": [
  {
   "cell_type": "markdown",
   "metadata": {},
   "source": [
    "# Pytorch basics\n",
    "\n",
    "<center><a href=\"https://pytorch.org/\">\n",
    "    <img src=\"https://upload.wikimedia.org/wikipedia/commons/9/96/Pytorch_logo.png\" width=\"300\"></a></center>\n",
    "    \n",
    "In this first script, we see the basics of Pytorch for manipulating tensors.\n",
    "\n",
    "Remember to check the [official documentation](https://pytorch.org/docs/stable/index.html), which is frequently used in these labs."
   ]
  },
  {
   "cell_type": "code",
   "execution_count": 1,
   "metadata": {},
   "outputs": [],
   "source": [
    "import torch\n",
    "import numpy as np\n",
    "from matplotlib import pyplot as plt"
   ]
  },
  {
   "cell_type": "markdown",
   "metadata": {},
   "source": [
    "## Creating tensors\n",
    "\n",
    "A [tensor](https://en.wikipedia.org/wiki/Tensor) is a multi-dimensional array (just like numpy arrays), which can store any structured numerical data. A 0D-tensor is just a scalar number, a 1D-tensor is a vector, a 2D-tensor is a matrix, a 3D-tensor is a \"cube\", etc.\n",
    "\n",
    "<center><a href=\"https://medium.com/@anoorasfatima/10-most-common-maths-operation-with-pytorchs-tensor-70a491d8cafd\">\n",
    "    <img src=\"https://miro.medium.com/max/1308/1*8jdzMrA33Leu3j3F6A8a3w.png\" width=\"400\"></a></center>"
   ]
  },
  {
   "cell_type": "code",
   "execution_count": 2,
   "metadata": {},
   "outputs": [
    {
     "name": "stdout",
     "output_type": "stream",
     "text": [
      "[[0. 0. 0. 0. 0.]]\n",
      "[[1. 1. 1. 1. 1.]]\n",
      "[[1 2]\n",
      " [3 4]]\n",
      "(2, 2) 2 2\n",
      "[[-0.14268817  1.2226934   0.58972717 -0.51069441 -0.76515981]\n",
      " [ 0.24983188  0.96871074  1.33684103  0.24490112 -1.29635647]\n",
      " [ 1.04140981 -0.15943321  0.16138311  0.6304684  -1.37932342]\n",
      " [ 0.8123987   0.43957352 -0.70298629 -1.43297474 -0.72781331]]\n"
     ]
    }
   ],
   "source": [
    "# Reminder of numpy\n",
    "x = np.zeros((1, 5)) # create a 2D array (of shape 1x5) filled with 0\n",
    "print(x)\n",
    "x = np.ones((1, 5)) # create a 2D array (of shape 1x5) filled with 1\n",
    "print(x)\n",
    "x = np.array([[1, 2], [3, 4]]) # create an array with specified values\n",
    "print(x)\n",
    "print(x.shape, x.shape[0], x.shape[1]) # get the shape of an array\n",
    "x = np.random.randn(4, 5) # create an array with numbers drawn from a standard normal distribution\n",
    "print(x)"
   ]
  },
  {
   "cell_type": "code",
   "execution_count": 6,
   "metadata": {},
   "outputs": [
    {
     "data": {
      "text/plain": [
       "tensor([[ 1.8841, -0.0642,  0.0585, -0.4415, -0.1292],\n",
       "        [ 1.2763,  0.4228, -0.2234,  1.3160, -0.0472],\n",
       "        [ 0.3869,  0.9287,  1.1409,  0.7361, -0.3596],\n",
       "        [-0.4451,  1.3596, -0.0144, -0.5121,  0.2681]])"
      ]
     },
     "execution_count": 6,
     "metadata": {},
     "output_type": "execute_result"
    }
   ],
   "source": [
    "# TO DO: create the same tensors in pytorch\n",
    "# hint: use 'torch' instead of 'np', the functions are similar\n",
    "torch.zeros(1, 5)\n",
    "torch.ones(1, 5)\n",
    "torch.tensor([[1, 2], [3, 4]])\n",
    "torch.randn(4, 5)"
   ]
  },
  {
   "cell_type": "code",
   "execution_count": 7,
   "metadata": {},
   "outputs": [
    {
     "name": "stdout",
     "output_type": "stream",
     "text": [
      "[[1. 1. 1.]\n",
      " [1. 1. 1.]]\n",
      "tensor([[1., 1., 1.],\n",
      "        [1., 1., 1.]], dtype=torch.float64)\n",
      "[[1. 1. 1.]\n",
      " [1. 1. 1.]]\n"
     ]
    }
   ],
   "source": [
    "# Numpy Bridge: it's also possible to directly transform numpy arrays into pytorch tensor\n",
    "x_np = np.ones((2,3))\n",
    "print(x_np)\n",
    "x_pt = torch.from_numpy(x_np)\n",
    "print(x_pt)\n",
    "\n",
    "# And conversely:\n",
    "x_np = x_pt.numpy()\n",
    "print(x_np)"
   ]
  },
  {
   "cell_type": "code",
   "execution_count": 8,
   "metadata": {},
   "outputs": [
    {
     "name": "stdout",
     "output_type": "stream",
     "text": [
      "tensor([[20., 20., 20., 20., 20.]])\n"
     ]
    }
   ],
   "source": [
    "# Another way to create a tensor filled with a given value\n",
    "x = torch.zeros((1, 5))\n",
    "x.fill_(20)\n",
    "print(x)"
   ]
  },
  {
   "cell_type": "code",
   "execution_count": 9,
   "metadata": {},
   "outputs": [
    {
     "name": "stdout",
     "output_type": "stream",
     "text": [
      "tensor([[-1.3180,  0.9238,  0.3946,  0.2721, -0.1242]])\n",
      "torch.Size([1, 5]) torch.Size([1, 5])\n"
     ]
    }
   ],
   "source": [
    "# With some functions, you can create an array without explicitly providing the shape (but instead use another tensor)\n",
    "y = torch.randn_like(x)\n",
    "print(y)\n",
    "print(y.shape, x.shape)"
   ]
  },
  {
   "cell_type": "code",
   "execution_count": 11,
   "metadata": {},
   "outputs": [
    {
     "name": "stdout",
     "output_type": "stream",
     "text": [
      "tensor([[1., 1., 1., 1., 1.]])\n"
     ]
    }
   ],
   "source": [
    "# TO DO:\n",
    "# - create a tensor x0 that has the same size of x and filled with 0\n",
    "# - create a tensor x1 that has the same size of x and filled with 1\n",
    "x0 = torch.zeros_like(x)\n",
    "x1 = torch.zeros_like(x).fill_(1)\n",
    "print(x1)"
   ]
  },
  {
   "cell_type": "code",
   "execution_count": 12,
   "metadata": {},
   "outputs": [
    {
     "name": "stdout",
     "output_type": "stream",
     "text": [
      "tensor([3, 5, 7, 9])\n",
      "tensor([0, 1, 2, 3, 4, 5, 6, 7, 8, 9])\n"
     ]
    }
   ],
   "source": [
    "# Create an array of numbers from 'ind_beg' to 'ind_end' with an increment of 'inc_step'\n",
    "ind_beg = 3\n",
    "ind_end = 10\n",
    "inc_step = 2\n",
    "x = torch.arange(ind_beg, ind_end, inc_step)\n",
    "print(x)\n",
    "\n",
    "# Default values are 'ind_beg=0' and 'inc_step=1': \n",
    "x = torch.arange(ind_end)\n",
    "print(x)"
   ]
  },
  {
   "cell_type": "markdown",
   "metadata": {},
   "source": [
    "## Basic loops"
   ]
  },
  {
   "cell_type": "code",
   "execution_count": 13,
   "metadata": {},
   "outputs": [
    {
     "name": "stdout",
     "output_type": "stream",
     "text": [
      "0\n",
      "1\n",
      "2\n",
      "3\n",
      "4\n",
      "5\n",
      "6\n",
      "7\n",
      "8\n",
      "9\n"
     ]
    }
   ],
   "source": [
    "# The most simple 'for' loop\n",
    "for i in range(10):\n",
    "    print(i)"
   ]
  },
  {
   "cell_type": "code",
   "execution_count": 15,
   "metadata": {},
   "outputs": [
    {
     "name": "stdout",
     "output_type": "stream",
     "text": [
      "0\n",
      "1\n",
      "2\n",
      "3\n",
      "4\n",
      "5\n",
      "6\n",
      "7\n",
      "8\n",
      "9\n"
     ]
    }
   ],
   "source": [
    "# alternatively, you can create a tensor containing the indices over which iterating\n",
    "list_iter = torch.arange(10)\n",
    "for i in list_iter:\n",
    "    print(i.item())"
   ]
  },
  {
   "cell_type": "code",
   "execution_count": 16,
   "metadata": {},
   "outputs": [
    {
     "name": "stdout",
     "output_type": "stream",
     "text": [
      "tensor([-1.0538,  0.0849, -0.5657, -0.2698, -0.0627, -0.4021,  0.8938,  1.0574,\n",
      "        -0.1708, -1.3056])\n",
      "tensor(-1.0538)\n",
      "tensor(0.0849)\n",
      "tensor(-0.5657)\n",
      "tensor(-0.2698)\n",
      "tensor(-0.0627)\n",
      "tensor(-0.4021)\n",
      "tensor(0.8938)\n",
      "tensor(1.0574)\n",
      "tensor(-0.1708)\n",
      "tensor(-1.3056)\n"
     ]
    }
   ],
   "source": [
    "# You can also directly iterate over the elements of a 1D-tensor (or list) \n",
    "my_list = torch.randn(10)\n",
    "print(my_list)\n",
    "for x in my_list:\n",
    "    print(x)"
   ]
  },
  {
   "cell_type": "code",
   "execution_count": 17,
   "metadata": {},
   "outputs": [
    {
     "name": "stdout",
     "output_type": "stream",
     "text": [
      "0 tensor(-1.0538)\n",
      "1 tensor(0.0849)\n",
      "2 tensor(-0.5657)\n",
      "3 tensor(-0.2698)\n",
      "4 tensor(-0.0627)\n",
      "5 tensor(-0.4021)\n",
      "6 tensor(0.8938)\n",
      "7 tensor(1.0574)\n",
      "8 tensor(-0.1708)\n",
      "9 tensor(-1.3056)\n"
     ]
    }
   ],
   "source": [
    "# If you use 'enumerate', you can keep track of the index\n",
    "for i, x in enumerate(my_list):\n",
    "    print(i, x)"
   ]
  },
  {
   "cell_type": "code",
   "execution_count": null,
   "metadata": {},
   "outputs": [],
   "source": [
    "# If the object to iterate is a multivariate tensor (2D, 3D, etc.), then it will iterate over the first dimension\n",
    "# For instance, if we iterate over a tensor of size [10, 16, 16], it will produce 10 tensors of size [16,16]\n",
    "mytensor = torch.randn(10, 16, 16)\n",
    "for x in mytensor:\n",
    "    print(x.shape)\n",
    "    plt.figure()\n",
    "    plt.imshow(x)\n",
    "    plt.show()"
   ]
  },
  {
   "cell_type": "markdown",
   "metadata": {},
   "source": [
    "## Basic operations"
   ]
  },
  {
   "cell_type": "code",
   "execution_count": 19,
   "metadata": {},
   "outputs": [
    {
     "name": "stdout",
     "output_type": "stream",
     "text": [
      "tensor([[8., 8., 8., 8., 8.]])\n",
      "tensor([[2., 2., 2., 2., 2.]])\n",
      "tensor([[15., 15., 15., 15., 15.]])\n",
      "tensor([[1.6667, 1.6667, 1.6667, 1.6667, 1.6667]])\n",
      "tensor([[125., 125., 125., 125., 125.]])\n"
     ]
    }
   ],
   "source": [
    "x = torch.ones((1,5))\n",
    "x.fill_(5)\n",
    "y = torch.ones((1,5))\n",
    "y.fill_(3)\n",
    "\n",
    "# Addition, subtraction, multiplication, division, and power\n",
    "print(x+y)\n",
    "print(x-y)\n",
    "print(x*y)\n",
    "print(x/y)\n",
    "print(x ** y)"
   ]
  },
  {
   "cell_type": "code",
   "execution_count": 20,
   "metadata": {},
   "outputs": [
    {
     "name": "stdout",
     "output_type": "stream",
     "text": [
      "tensor([[1.6434, 4.3453, 0.1715],\n",
      "        [0.1693, 0.6178, 1.8370]])\n"
     ]
    }
   ],
   "source": [
    "# Pytorch has some built-in basic math functions (exp, sin, cos...) that can be applied element-wise to a tensor\n",
    "x = torch.randn(2,3)\n",
    "y = torch.exp(x)\n",
    "print(y)"
   ]
  },
  {
   "cell_type": "code",
   "execution_count": 21,
   "metadata": {},
   "outputs": [
    {
     "data": {
      "image/png": "[encoded data removed]",
      "text/plain": [
       "<Figure size 640x480 with 1 Axes>"
      ]
     },
     "metadata": {},
     "output_type": "display_data"
    }
   ],
   "source": [
    "# TO DO: plot the function y=sin(x)\n",
    "# - create a tensor x which ranges from -5 to 5 with a step increment of 0.1\n",
    "# - compute y=sin(x) (use the torch.sin function)\n",
    "# - plot it using plt.plot(x, y)\n",
    "x = torch.arange(-5, 5, 0.1)\n",
    "y = torch.sin(x)\n",
    "plt.plot(x, y);"
   ]
  },
  {
   "cell_type": "code",
   "execution_count": 23,
   "metadata": {},
   "outputs": [
    {
     "data": {
      "image/png": "[encoded data removed]",
      "text/plain": [
       "<Figure size 640x480 with 1 Axes>"
      ]
     },
     "metadata": {},
     "output_type": "display_data"
    }
   ],
   "source": [
    "# TO DO: plot a noisy sinusoid\n",
    "# - create a noise tensor called 'noise' with the same shape as y (use torch.randn_like)\n",
    "# - compute z, which is the sum of y and the noise tensor (you can adjust the amount of noise if you want)\n",
    "# - plot z as a function of x\n",
    "noise = torch.randn_like(x)\n",
    "z = y + noise\n",
    "plt.plot(x, z);"
   ]
  },
  {
   "cell_type": "code",
   "execution_count": 26,
   "metadata": {},
   "outputs": [
    {
     "name": "stdout",
     "output_type": "stream",
     "text": [
      "tensor([[ 1.1902, -0.4222,  0.7287, -0.7200, -0.0347, -0.8422],\n",
      "        [ 1.0803, -0.7100, -0.3826,  0.1735, -1.1263,  1.1826],\n",
      "        [-0.2342,  0.8084,  0.0244, -0.3880, -0.3094, -0.7305]])\n",
      "tensor([[ 1.1902, -0.4222,  0.7287],\n",
      "        [ 1.0803, -0.7100, -0.3826],\n",
      "        [-0.2342,  0.8084,  0.0244],\n",
      "        [-0.9191,  0.7420,  0.6794],\n",
      "        [-0.3465,  1.4241,  1.6500]])\n",
      "tensor([[ 1.1902, -0.4222,  0.7287],\n",
      "        [ 1.0803, -0.7100, -0.3826],\n",
      "        [-0.2342,  0.8084,  0.0244]])\n"
     ]
    }
   ],
   "source": [
    "# Slicing (same as in numpy)\n",
    "x = torch.randn(5,6)\n",
    "print(x[:3])  # slice over the first dimension\n",
    "print(x[:, :3]) # slice over the second dimension\n",
    "print(x[:3,:3]) # slice over both dimensions"
   ]
  },
  {
   "cell_type": "code",
   "execution_count": 25,
   "metadata": {},
   "outputs": [
    {
     "name": "stdout",
     "output_type": "stream",
     "text": [
      "tensor([[0.5385, 0.9401, 0.2695, 0.8576, 0.7621]])\n",
      "tensor(0.2695) tensor(0.9401) tensor(2) tensor(1)\n",
      "tensor([[0.2695, 0.5385, 0.7621, 0.8576, 0.9401]]) tensor([[2, 0, 4, 3, 1]])\n"
     ]
    }
   ],
   "source": [
    "# Useful functions are min, max, argmin and argmax\n",
    "x = torch.rand(1, 5)\n",
    "print(x)\n",
    "print(x.min(), x.max(), x.argmin(), x.argmax())\n",
    "\n",
    "# It's also easy to sort a tensor with ascending values\n",
    "x_sorted, ind_sort = x.sort()\n",
    "print(x_sorted, ind_sort)"
   ]
  },
  {
   "cell_type": "code",
   "execution_count": 27,
   "metadata": {},
   "outputs": [
    {
     "name": "stdout",
     "output_type": "stream",
     "text": [
      "tensor(2.5000)\n"
     ]
    },
    {
     "data": {
      "image/png": "[encoded data removed]",
      "text/plain": [
       "<Figure size 640x480 with 1 Axes>"
      ]
     },
     "metadata": {},
     "output_type": "display_data"
    }
   ],
   "source": [
    "# TO DO: find the minimum of a quadratic function\n",
    "# - create a tensor x which ranges from -4 to 4 with a step of 0.01\n",
    "# - compute y = x^2 - 5x + 3\n",
    "# - plot y as a function of x\n",
    "# - compute the minimum value of y and print it\n",
    "# - find the index 'ind_min' corresponding to this minimum (hint: use the argmin function)\n",
    "# - compute the value of x corresponding to the minimum.\n",
    "x = torch.arange(-4, 4, 0.01)\n",
    "y = x**2 -5*x + 3\n",
    "plt.plot(x, y);\n",
    "ind_min = y.argmin()\n",
    "print(x[ind_min])"
   ]
  },
  {
   "cell_type": "markdown",
   "metadata": {},
   "source": [
    "## Tensor types\n",
    "\n",
    "In Pytorch there are several data types, which are listed in the [documentation](https://pytorch.org/docs/stable/tensors.html)."
   ]
  },
  {
   "cell_type": "code",
   "execution_count": 28,
   "metadata": {},
   "outputs": [
    {
     "name": "stdout",
     "output_type": "stream",
     "text": [
      "tensor([[0.9901, 0.0356, 0.2678, 0.3284, 0.0534, 0.1041, 0.5402, 0.4470, 0.7635,\n",
      "         0.1644]])\n",
      "torch.float32\n"
     ]
    }
   ],
   "source": [
    "x = torch.rand(1, 10)\n",
    "print(x)\n",
    "\n",
    "# Display the type using the 'dtype' attribute\n",
    "# By default, it should be float32\n",
    "print(x.dtype)"
   ]
  },
  {
   "cell_type": "code",
   "execution_count": 29,
   "metadata": {},
   "outputs": [
    {
     "name": "stdout",
     "output_type": "stream",
     "text": [
      "torch.float16\n",
      "torch.int16\n",
      "tensor([[0, 0, 0, 0, 0, 0, 0, 0, 0, 0]], dtype=torch.int16)\n"
     ]
    }
   ],
   "source": [
    "# Change the type using the 'type' method\n",
    "x = x.type(torch.float16)\n",
    "print(x.dtype)\n",
    "\n",
    "# Convert it to integer\n",
    "x = x.type(torch.int16)\n",
    "print(x.dtype)\n",
    "print(x)"
   ]
  },
  {
   "cell_type": "code",
   "execution_count": 30,
   "metadata": {},
   "outputs": [
    {
     "name": "stdout",
     "output_type": "stream",
     "text": [
      "tensor(3, dtype=torch.int32)\n"
     ]
    }
   ],
   "source": [
    "# You can specify the type when creating a tensor\n",
    "x = torch.tensor(3, dtype=torch.int)\n",
    "print(x)"
   ]
  },
  {
   "cell_type": "code",
   "execution_count": 31,
   "metadata": {},
   "outputs": [
    {
     "name": "stdout",
     "output_type": "stream",
     "text": [
      "False\n",
      "tensor(3.1416) True torch.float32\n"
     ]
    }
   ],
   "source": [
    "# Check if it's a float\n",
    "x = torch.tensor(3, dtype=torch.int)\n",
    "print(x.is_floating_point())\n",
    "\n",
    "pi = torch.tensor(3.14159)\n",
    "print(pi, pi.is_floating_point(), pi.dtype)"
   ]
  },
  {
   "cell_type": "markdown",
   "metadata": {},
   "source": [
    "## Reshaping"
   ]
  },
  {
   "cell_type": "code",
   "execution_count": 32,
   "metadata": {},
   "outputs": [
    {
     "name": "stdout",
     "output_type": "stream",
     "text": [
      "torch.Size([8, 5])\n",
      "torch.Size([5, 8])\n",
      "torch.Size([5, 8])\n"
     ]
    }
   ],
   "source": [
    "x = torch.randn(8,5)\n",
    "print(x.shape)\n",
    "\n",
    "# Transposition: use either 'x.t()' or 'x.transpose(dims)' where 'dims' specifies the new dimensions order\n",
    "y = x.transpose(1,0)\n",
    "print(y.shape)\n",
    "\n",
    "z = x.t()\n",
    "print(z.shape)"
   ]
  },
  {
   "cell_type": "code",
   "execution_count": null,
   "metadata": {},
   "outputs": [],
   "source": [
    "# Reshape: reorganize the tensor with the specified output dimensions (similar as 'numpy.reshape')\n",
    "x = torch.randn(8,5)\n",
    "y = x.reshape(10,4)\n",
    "print(x.shape, y.shape)\n",
    "\n",
    "# You can only specify one dimension and mark the other with '-1', and it will autocomplete consistently\n",
    "z = x.reshape(-1, 10)\n",
    "print(z.shape)\n",
    "z = x.reshape(2, -1)\n",
    "print(z.shape)\n"
   ]
  },
  {
   "cell_type": "code",
   "execution_count": 33,
   "metadata": {},
   "outputs": [
    {
     "name": "stdout",
     "output_type": "stream",
     "text": [
      "tensor([[0., 0., 0., 0.],\n",
      "        [0., 0., 0., 0.],\n",
      "        [0., 0., 0., 0.],\n",
      "        [0., 0., 0., 0.],\n",
      "        [0., 0., 0., 0.],\n",
      "        [0., 0., 0., 0.],\n",
      "        [0., 0., 0., 0.],\n",
      "        [0., 0., 0., 0.],\n",
      "        [0., 0., 0., 0.],\n",
      "        [0., 0., 0., 0.]])\n",
      "tensor([[1., 1., 1., 1.],\n",
      "        [1., 1., 1., 1.],\n",
      "        [1., 1., 1., 1.],\n",
      "        [1., 1., 1., 1.],\n",
      "        [1., 1., 1., 1.],\n",
      "        [1., 1., 1., 1.],\n",
      "        [1., 1., 1., 1.],\n",
      "        [1., 1., 1., 1.],\n",
      "        [1., 1., 1., 1.],\n",
      "        [1., 1., 1., 1.]])\n"
     ]
    }
   ],
   "source": [
    "# View: similar as 'reshape', but only creates a view over the tensor: if the original data is changed, then the viewed tensors also changes\n",
    "x = torch.zeros(8,5)\n",
    "y = x.view(10,4)\n",
    "print(y)\n",
    "\n",
    "x.fill_(1)\n",
    "print(y)"
   ]
  },
  {
   "cell_type": "markdown",
   "metadata": {},
   "source": [
    "## Assembling tensors"
   ]
  },
  {
   "cell_type": "code",
   "execution_count": 34,
   "metadata": {},
   "outputs": [
    {
     "name": "stdout",
     "output_type": "stream",
     "text": [
      "torch.Size([65, 64, 64])\n",
      "torch.Size([10, 706])\n",
      "torch.Size([10, 217, 26])\n"
     ]
    }
   ],
   "source": [
    "# Concatenate: useful to concatenate tensors along a specified (existing) dimension\n",
    "# Works with any tensors, provided that the dimensions over which you don't concatenate are consistent\n",
    "x1 = torch.rand(15, 64, 64)\n",
    "x2 = torch.rand(50, 64, 64)\n",
    "X_concat = torch.cat((x1,x2), dim=0)\n",
    "print(X_concat.shape)\n",
    "\n",
    "x1 = torch.rand(10, 217)\n",
    "x2 = torch.rand(10, 489)\n",
    "X_concat = torch.cat((x1,x2), dim=1)\n",
    "print(X_concat.shape)\n",
    "\n",
    "x1 = torch.rand(10, 217, 12)\n",
    "x2 = torch.rand(10, 217, 14)\n",
    "X_concat = torch.cat((x1,x2), dim=2)\n",
    "print(X_concat.shape)"
   ]
  },
  {
   "cell_type": "code",
   "execution_count": 37,
   "metadata": {},
   "outputs": [
    {
     "name": "stdout",
     "output_type": "stream",
     "text": [
      "torch.Size([2, 1, 5])\n",
      "torch.Size([2, 5])\n"
     ]
    }
   ],
   "source": [
    "# If a tensor a dimension over which the size is '1', you can get ridd of it (if needed) by squeezing the tensor\n",
    "x = torch.zeros(2, 1, 5)\n",
    "print(x.shape)\n",
    "y = x.squeeze()\n",
    "print(y.shape)"
   ]
  },
  {
   "cell_type": "code",
   "execution_count": 38,
   "metadata": {},
   "outputs": [
    {
     "name": "stdout",
     "output_type": "stream",
     "text": [
      "torch.Size([2, 5])\n",
      "torch.Size([2, 1, 5])\n"
     ]
    }
   ],
   "source": [
    "# Conversely, if you want to expand a tensor by adding a new dimension, you can unsqueeze it (useful for concatenating tensors)\n",
    "x = torch.zeros(2, 5)\n",
    "print(x.shape)\n",
    "y = x.unsqueeze(1)\n",
    "print(y.shape)"
   ]
  },
  {
   "cell_type": "code",
   "execution_count": 40,
   "metadata": {},
   "outputs": [
    {
     "name": "stdout",
     "output_type": "stream",
     "text": [
      "torch.Size([2, 16, 16])\n"
     ]
    }
   ],
   "source": [
    "# TO DO :\n",
    "# - create two tensors of shape 16x16 with random values.\n",
    "# - concatenate them into a single tensor of size (2, 16, 16)\n",
    "# hint: first 'unsqueeze' the tensors to create a new dimension, and then 'cat' over this dimension\n",
    "x = torch.randn(16, 16)\n",
    "y = torch.randn(16, 16)\n",
    "z = torch.cat((x.unsqueeze(0),y.unsqueeze(0)),dim=0)\n",
    "print(z.shape)"
   ]
  },
  {
   "cell_type": "code",
   "execution_count": 42,
   "metadata": {},
   "outputs": [
    {
     "name": "stdout",
     "output_type": "stream",
     "text": [
      "torch.Size([3, 10]) torch.Size([3, 10])\n",
      "torch.Size([2, 3, 10])\n",
      "torch.Size([6, 10])\n"
     ]
    }
   ],
   "source": [
    "# Stack: unlike 'cat', 'stack' concatenates the tensors along a new dimension (the inputs tensors must have the same shape)\n",
    "x = torch.ones(3, 10)\n",
    "y = torch.ones(3, 10)\n",
    "print(x.shape, y.shape)\n",
    "\n",
    "z_stack = torch.stack((x, y), dim=0)\n",
    "print(z_stack.shape)\n",
    "\n",
    "# Check the difference with 'cat'\n",
    "z_cat = torch.cat((x, y), dim=0)\n",
    "print(z_cat.shape)"
   ]
  },
  {
   "cell_type": "code",
   "execution_count": 43,
   "metadata": {},
   "outputs": [
    {
     "name": "stdout",
     "output_type": "stream",
     "text": [
      "torch.Size([3, 2, 10])\n",
      "torch.Size([3, 10, 2])\n"
     ]
    }
   ],
   "source": [
    "# It's possible to stack over any dimension, so it will create a tensor accordingly\n",
    "z_stack = torch.stack((x, y), dim=1)\n",
    "print(z_stack.shape)\n",
    "\n",
    "z_stack = torch.stack((x, y), dim=2)\n",
    "print(z_stack.shape)"
   ]
  },
  {
   "cell_type": "code",
   "execution_count": 44,
   "metadata": {},
   "outputs": [
    {
     "name": "stdout",
     "output_type": "stream",
     "text": [
      "torch.Size([2, 16, 16])\n"
     ]
    }
   ],
   "source": [
    "# TO DO : same exercice as before but using stack (should be simpler)\n",
    "x = torch.randn(16, 16)\n",
    "y = torch.randn(16, 16)\n",
    "z = torch.stack((x,y),dim=0)\n",
    "print(z.shape)"
   ]
  },
  {
   "cell_type": "markdown",
   "metadata": {},
   "source": [
    "## Save and load files"
   ]
  },
  {
   "cell_type": "code",
   "execution_count": null,
   "metadata": {},
   "outputs": [],
   "source": [
    "# Reminder in numpy\n",
    "x_np = np.ones((2,3))\n",
    "np_filepath = 'x_np.npy'\n",
    "np.save(np_filepath, x_np)\n",
    "x_np_load = np.load(np_filepath)\n",
    "print(x_np_load)\n",
    "\n",
    "# In pytorch, it's very similar\n",
    "x_tensor = torch.from_numpy(x_np)\n",
    "tensor_filepath = 'x_tensor.pt'\n",
    "torch.save(x_tensor, tensor_filepath)\n",
    "x_tensor_load = torch.load(tensor_filepath)\n",
    "print(x_tensor_load)"
   ]
  },
  {
   "cell_type": "markdown",
   "metadata": {},
   "source": [
    "## Devices\n",
    "\n",
    "Finally, let's note that there are two types of *devices* in Pytorch: `cpu` and `cuda`. By default, every tensor's device is `cpu`, which means that all computation are performed on the CPU. However, when training big models and handling big datasets (which is common in deep learning), it's more convenient to use a graphic card (GPU) for the computation. To do that, we just need to tell Pytorch that the data / tensors / models should be copied on a `cuda` device.\n",
    "This is mostly for your general knowledge: we won't use GPU computation in these labs.\n",
    "\n",
    "**Note**: If you didn't install pytorch with CUDA, you should get an error if you try to copy a tensor to `cuda`. That's fine."
   ]
  },
  {
   "cell_type": "code",
   "execution_count": 45,
   "metadata": {},
   "outputs": [
    {
     "name": "stdout",
     "output_type": "stream",
     "text": [
      "Cuda available: False\n",
      "Number of GPUs: 0\n",
      "cpu\n"
     ]
    },
    {
     "ename": "RuntimeError",
     "evalue": "Found no NVIDIA driver on your system. Please check that you have an NVIDIA GPU and installed a driver from http://www.nvidia.com/Download/index.aspx",
     "output_type": "error",
     "traceback": [
      "\u001b[0;31m---------------------------------------------------------------------------\u001b[0m",
      "\u001b[0;31mRuntimeError\u001b[0m                              Traceback (most recent call last)",
      "Input \u001b[0;32mIn [45]\u001b[0m, in \u001b[0;36m<cell line: 11>\u001b[0;34m()\u001b[0m\n\u001b[1;32m      7\u001b[0m \u001b[38;5;28mprint\u001b[39m(x\u001b[38;5;241m.\u001b[39mdevice)\n\u001b[1;32m      9\u001b[0m \u001b[38;5;66;03m# You can change it using the 'to' method \u001b[39;00m\n\u001b[1;32m     10\u001b[0m \u001b[38;5;66;03m# Doing this is only possible if you have installed CUDA with Pytorch, so you might get an error here.\u001b[39;00m\n\u001b[0;32m---> 11\u001b[0m x \u001b[38;5;241m=\u001b[39m \u001b[43mx\u001b[49m\u001b[38;5;241;43m.\u001b[39;49m\u001b[43mto\u001b[49m\u001b[43m(\u001b[49m\u001b[38;5;124;43m'\u001b[39;49m\u001b[38;5;124;43mcuda\u001b[39;49m\u001b[38;5;124;43m'\u001b[39;49m\u001b[43m)\u001b[49m\n\u001b[1;32m     12\u001b[0m \u001b[38;5;28mprint\u001b[39m(x\u001b[38;5;241m.\u001b[39mdevice)\n",
      "File \u001b[0;32m/mnt/c/Master2/DeepLearning/dl-env/lib/python3.10/site-packages/torch/cuda/__init__.py:217\u001b[0m, in \u001b[0;36m_lazy_init\u001b[0;34m()\u001b[0m\n\u001b[1;32m    213\u001b[0m     \u001b[38;5;28;01mraise\u001b[39;00m \u001b[38;5;167;01mAssertionError\u001b[39;00m(\n\u001b[1;32m    214\u001b[0m         \u001b[38;5;124m\"\u001b[39m\u001b[38;5;124mlibcudart functions unavailable. It looks like you have a broken build?\u001b[39m\u001b[38;5;124m\"\u001b[39m)\n\u001b[1;32m    215\u001b[0m \u001b[38;5;66;03m# This function throws if there's a driver initialization error, no GPUs\u001b[39;00m\n\u001b[1;32m    216\u001b[0m \u001b[38;5;66;03m# are found or any other error occurs\u001b[39;00m\n\u001b[0;32m--> 217\u001b[0m \u001b[43mtorch\u001b[49m\u001b[38;5;241;43m.\u001b[39;49m\u001b[43m_C\u001b[49m\u001b[38;5;241;43m.\u001b[39;49m\u001b[43m_cuda_init\u001b[49m\u001b[43m(\u001b[49m\u001b[43m)\u001b[49m\n\u001b[1;32m    218\u001b[0m \u001b[38;5;66;03m# Some of the queued calls may reentrantly call _lazy_init();\u001b[39;00m\n\u001b[1;32m    219\u001b[0m \u001b[38;5;66;03m# we need to just return without initializing in that case.\u001b[39;00m\n\u001b[1;32m    220\u001b[0m \u001b[38;5;66;03m# However, we must not let any *other* threads in!\u001b[39;00m\n\u001b[1;32m    221\u001b[0m _tls\u001b[38;5;241m.\u001b[39mis_initializing \u001b[38;5;241m=\u001b[39m \u001b[38;5;28;01mTrue\u001b[39;00m\n",
      "\u001b[0;31mRuntimeError\u001b[0m: Found no NVIDIA driver on your system. Please check that you have an NVIDIA GPU and installed a driver from http://www.nvidia.com/Download/index.aspx"
     ]
    }
   ],
   "source": [
    "# You can check if a GPU is available (and how many)\n",
    "print('Cuda available:', torch.cuda.is_available())\n",
    "print('Number of GPUs:', torch.cuda.device_count())\n",
    "\n",
    "# By default, any tensor will be on a 'cpu' device\n",
    "x = torch.rand(1, 10)\n",
    "print(x.device)\n",
    "\n",
    "# You can change it using the 'to' method \n",
    "# Doing this is only possible if you have installed CUDA with Pytorch, so you might get an error here.\n",
    "x = x.to('cuda')\n",
    "print(x.device)"
   ]
  },
  {
   "cell_type": "code",
   "execution_count": null,
   "metadata": {},
   "outputs": [],
   "source": []
  }
 ],
 "metadata": {
  "kernelspec": {
   "display_name": "Python 3 (ipykernel)",
   "language": "python",
   "name": "python3"
  },
  "language_info": {
   "codemirror_mode": {
    "name": "ipython",
    "version": 3
   },
   "file_extension": ".py",
   "mimetype": "text/x-python",
   "name": "python",
   "nbconvert_exporter": "python",
   "pygments_lexer": "ipython3",
   "version": "3.10.0"
  }
 },
 "nbformat": 4,
 "nbformat_minor": 4
}
